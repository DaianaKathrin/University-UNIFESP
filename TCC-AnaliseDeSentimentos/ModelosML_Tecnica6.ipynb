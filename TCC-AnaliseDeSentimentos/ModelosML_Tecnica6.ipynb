{
 "cells": [
  {
   "cell_type": "markdown",
   "id": "d977afc7",
   "metadata": {},
   "source": [
    "# Importando bases"
   ]
  },
  {
   "cell_type": "code",
   "execution_count": 1,
   "id": "6e57baba",
   "metadata": {},
   "outputs": [],
   "source": [
    "import pandas as pd\n",
    "import numpy as np\n",
    "from sklearn.feature_extraction.text import CountVectorizer\n",
    "from sklearn.feature_extraction.text import TfidfVectorizer\n",
    "from sklearn.feature_extraction.text import TfidfTransformer\n",
    "from sklearn.naive_bayes import GaussianNB\n",
    "from sklearn import tree\n",
    "from sklearn.ensemble import RandomForestClassifier\n",
    "from sklearn.svm import LinearSVC\n",
    "from sklearn.svm import SVC\n",
    "from sklearn.neural_network import MLPClassifier\n",
    "from sklearn.metrics import confusion_matrix\n",
    "from sklearn.metrics import accuracy_score\n",
    "from sklearn.metrics import precision_score\n",
    "from sklearn.metrics import recall_score\n",
    "from sklearn.metrics import f1_score\n",
    "from sklearn.neighbors import KNeighborsClassifier"
   ]
  },
  {
   "cell_type": "code",
   "execution_count": 2,
   "id": "31e77bbb",
   "metadata": {},
   "outputs": [],
   "source": [
    "df_bolsonaro_train = pd.read_excel('Bolsonaro_treino_sem_stop2.xlsx')  \n",
    "df_lula_train = pd.read_excel('Lula_treino_sem_stop2.xlsx') \n",
    "df_simone_train = pd.read_excel('Simone_treino_sem_stop2.xlsx') \n",
    "df_ciro_train = pd.read_excel('Ciro_treino_sem_stop2.xlsx') "
   ]
  },
  {
   "cell_type": "code",
   "execution_count": 3,
   "id": "8f914181",
   "metadata": {},
   "outputs": [],
   "source": [
    "df_bolsonaro = pd.read_excel('Bolsonaro_todos_sem_stop.xlsx', index_col=0)\n",
    "df_lula = pd.read_excel('Lula_todos_sem_stop.xlsx', index_col=0)\n",
    "df_simone = pd.read_excel('Simone_todos_sem_stop.xlsx', index_col=0)\n",
    "df_ciro = pd.read_excel('Ciro_todos_sem_stop.xlsx', index_col=0)\n",
    "\n"
   ]
  },
  {
   "cell_type": "code",
   "execution_count": 4,
   "id": "6468928f",
   "metadata": {},
   "outputs": [],
   "source": [
    "df_lula_train = df_lula_train[df_lula_train['Sentimento']!=' ']"
   ]
  },
  {
   "cell_type": "code",
   "execution_count": 5,
   "id": "817ecd7b",
   "metadata": {},
   "outputs": [
    {
     "name": "stdout",
     "output_type": "stream",
     "text": [
      "p    10335\n",
      "n     1773\n",
      "x       81\n",
      "Name: Sentimento, dtype: int64\n",
      "p    5065\n",
      "n     848\n",
      "x     108\n",
      "Name: Sentimento, dtype: int64\n",
      "p    120\n",
      "x    109\n",
      "n     50\n",
      "Name: Sentimento, dtype: int64\n",
      "p    6807\n",
      "x     105\n",
      "n      81\n",
      "Name: Sentimento, dtype: int64\n"
     ]
    }
   ],
   "source": [
    "print(df_lula_train['Sentimento'].value_counts())\n",
    "print(df_bolsonaro_train['Sentimento'].value_counts())\n",
    "print(df_simone_train['Sentimento'].value_counts())\n",
    "print(df_ciro_train['Sentimento'].value_counts())"
   ]
  },
  {
   "cell_type": "code",
   "execution_count": 6,
   "id": "2eca0ec4",
   "metadata": {},
   "outputs": [],
   "source": [
    "def train_test_under(df):\n",
    "    tamanho = df['Sentimento'].value_counts()[2]-5\n",
    "    \n",
    "    df_train = df[df['Sentimento']=='p'].sample(n = tamanho)\n",
    "    df_train = df_train.append(df[df['Sentimento']=='n'].sample(n = tamanho))\n",
    "    df_train = df_train.append(df[df['Sentimento']=='x'].sample(n = tamanho))\n",
    "    \n",
    "    df_teste = df.drop(df_train.index)\n",
    "    \n",
    "    X_bw_train, bw = Bag_of_words(df_train)\n",
    "    X_tfidf_train, tfidf = tfidf(df_train)\n",
    "    Y_train = df_train['Sentimento'].str.replace('p','1').replace('x','0').replace('n','-1').astype(int)\n",
    "    \n",
    "    X_bw_teste = Bag_of_words_teste(df_teste, bw )\n",
    "    X_tfidf_teste = tfidf_teste(df_teste, tfidf)\n",
    "    Y_teste = df_teste['Sentimento'].str.replace('p','1').replace('x','0').replace('n','-1').astype(int)\n",
    "    \n",
    "    return X_bw_train, X_tfidf_train, Y_train, X_bw_teste, X_tfidf_teste, Y_teste, bw, tfidf, df_train, df_teste\n"
   ]
  },
  {
   "cell_type": "code",
   "execution_count": 7,
   "id": "18fc2942",
   "metadata": {},
   "outputs": [],
   "source": [
    "# Bag Of Words\n",
    "\n",
    "def Bag_of_words(df):\n",
    "    matrix = CountVectorizer()\n",
    "    text = []\n",
    "    for i in df.index:\n",
    "        text.append(\"\".join(df['novo_texto'][i]))\n",
    "    X = matrix.fit_transform(text)\n",
    "    return X, matrix\n",
    "\n",
    "def Bag_of_words_teste(df, matrix):\n",
    "    text = []\n",
    "    for i in df.index:\n",
    "        text.append(\"\".join(df['novo_texto'][i]))\n",
    "    X = matrix.transform(text)\n",
    "    return X\n",
    "\n",
    "def tfidf_(df):\n",
    "    matrix = TfidfVectorizer()\n",
    "    text = []\n",
    "    for i in df.index:\n",
    "        text.append(\"\".join(df['novo_texto'][i]))\n",
    "    X = matrix.fit_transform(text)\n",
    "    return X, matrix\n",
    "\n",
    "def tfidf_teste(df, matrix):\n",
    "    text = []\n",
    "    for i in df.index:\n",
    "        text.append(\"\".join(df['novo_texto'][i]))\n",
    "    X = matrix.transform(text)\n",
    "    return X\n",
    "\n",
    "def train_test_under_bw(df):\n",
    "    tamanho = df['Sentimento'].value_counts()[2]-2\n",
    "    \n",
    "    df_train = df[df['Sentimento']=='p'].sample(n = tamanho)\n",
    "    df_train = df_train.append(df[df['Sentimento']=='n'].sample(n = tamanho))\n",
    "    df_train = df_train.append(df[df['Sentimento']=='x'].sample(n = tamanho))\n",
    "    \n",
    "    df_teste = df.drop(df_train.index)\n",
    "    \n",
    "    X_bw_train, bw = Bag_of_words(df_train)\n",
    "    Y_train = df_train['Sentimento'].str.replace('p','1').replace('x','0').replace('n','-1').astype(int)\n",
    "    \n",
    "    X_bw_teste = Bag_of_words_teste(df_teste, bw )\n",
    "    \n",
    "    Y_teste = df_teste['Sentimento'].str.replace('p','1').replace('x','0').replace('n','-1').astype(int)\n",
    "    \n",
    "    return X_bw_train, Y_train, X_bw_teste, Y_teste, bw, df_train, df_teste\n",
    "\n",
    "def train_test_under_tfidf(df):\n",
    "    tamanho = df['Sentimento'].value_counts()[2]-2\n",
    "    \n",
    "    df_train = df[df['Sentimento']=='p'].sample(n = tamanho)\n",
    "    df_train = df_train.append(df[df['Sentimento']=='n'].sample(n = tamanho))\n",
    "    df_train = df_train.append(df[df['Sentimento']=='x'].sample(n = tamanho))\n",
    "    \n",
    "    df_teste = df.drop(df_train.index)\n",
    "    \n",
    "    X_tfidf_train, tfidf = tfidf_(df_train)\n",
    "    Y_train = df_train['Sentimento'].str.replace('p','1').replace('x','0').replace('n','-1').astype(int)\n",
    "    \n",
    "    X_tfidf_teste = tfidf_teste(df_teste, tfidf)\n",
    "    Y_teste = df_teste['Sentimento'].str.replace('p','1').replace('x','0').replace('n','-1').astype(int)\n",
    "    \n",
    "    return X_tfidf_train, Y_train, X_tfidf_teste, Y_teste, tfidf, df_train, df_teste\n",
    "\n",
    "def train_model_bw(model, df_train_tudo, num_tests):\n",
    "    X_train, Y_train, X_teste, Y_teste, bw, df_train, df_teste = train_test_under_bw(df_train_tudo)\n",
    "    \n",
    "    model2 = model.fit(X_train.toarray(), Y_train)\n",
    "    predict = model2.predict(X_teste.toarray())\n",
    "    accuracy = accuracy_score(Y_teste, predict)\n",
    "    precision = precision_score(Y_teste, predict, average='macro')\n",
    "    recall = recall_score(Y_teste, predict, average='macro')\n",
    "    f1 = f1_score(Y_teste, predict, average='macro')\n",
    "    score = accuracy + precision + recall + f1\n",
    "    \n",
    "    matrix_confusion = confusion_matrix(Y_teste, predict,labels=[-1, 0, 1])\n",
    "    \n",
    "    errados = matrix_confusion[0][2]+ matrix_confusion[2][0]\n",
    "    \n",
    "    model2_fim, bw_fim, df_train_fim, df_teste_fim, score_fim, errados_fim = model2, bw, df_train, df_teste, score, errados\n",
    "    for i in range(0,num_tests):\n",
    "        X_train, Y_train, X_teste, Y_teste, bw, df_train, df_teste = train_test_under_bw(df_train_tudo)\n",
    "\n",
    "        model2 = model.fit(X_train.toarray(), Y_train)\n",
    "        predict = model2.predict(X_teste.toarray())\n",
    "        accuracy = accuracy_score(Y_teste, predict)\n",
    "        precision = precision_score(Y_teste, predict, average='macro')\n",
    "        recall = recall_score(Y_teste, predict, average='macro')\n",
    "        f1 = f1_score(Y_teste, predict, average='macro')\n",
    "        score = accuracy + precision + recall + f1\n",
    "\n",
    "        matrix_confusion = confusion_matrix(Y_teste, predict,labels=[-1, 0, 1])\n",
    "        accuracy_fim, precision_fim,recall_fim, f1_fim, matrix_confusion_fim = accuracy, precision,recall,f1,matrix_confusion \n",
    "        errados = matrix_confusion[0][2]+ matrix_confusion[2][0]\n",
    "        \n",
    "        if((score_fim<score) & (errados_fim>errados)):\n",
    "            accuracy_fim, precision_fim,recall_fim, f1_fim, matrix_confusion_fim = accuracy, precision,recall,f1,matrix_confusion \n",
    "            model2_fim, bw_fim, df_train_fim, df_teste_fim, score_fim, errados_fim = model2, bw, df_train, df_teste, score, errados\n",
    "    \n",
    "    print('accuracy:')\n",
    "    print(accuracy_fim)\n",
    "    print('precision:')\n",
    "    print(precision_fim)\n",
    "    print('recall:')\n",
    "    print(recall_fim)\n",
    "    print('f1:')\n",
    "    print(f1_fim)\n",
    "    print('matrix_confusion:')\n",
    "    print(matrix_confusion_fim)\n",
    "    print(score_fim/4)\n",
    "    print(errados_fim)\n",
    "    return model2_fim, bw_fim, df_train_fim, df_teste_fim     \n",
    "    \n",
    "def train_model_tfidf(model, df_train_tudo, num_tests):\n",
    "    X_train, Y_train, X_teste, Y_teste, tfidf, df_train, df_teste = train_test_under_tfidf(df_train_tudo)\n",
    "    \n",
    "    model2 = model.fit(X_train.toarray(), Y_train)\n",
    "    predict = model2.predict(X_teste.toarray())\n",
    "    accuracy = accuracy_score(Y_teste, predict)\n",
    "    precision = precision_score(Y_teste, predict, average='macro')\n",
    "    recall = recall_score(Y_teste, predict, average='macro')\n",
    "    f1 = f1_score(Y_teste, predict, average='macro')\n",
    "    score = accuracy + precision + recall + f1\n",
    "    \n",
    "    matrix_confusion = confusion_matrix(Y_teste, predict,labels=[-1, 0, 1])\n",
    "    accuracy_fim, precision_fim,recall_fim, f1_fim, matrix_confusion_fim = accuracy, precision,recall,f1,matrix_confusion \n",
    "    errados = matrix_confusion[0][2]+ matrix_confusion[2][0]\n",
    "    \n",
    "    model2_fim, tfidf_fim, df_train_fim, df_teste_fim, score_fim, errados_fim = model2, tfidf, df_train, df_teste, score, errados\n",
    "    for i in range(0,num_tests):\n",
    "        X_train, Y_train, X_teste, Y_teste, tfidf, df_train, df_teste = train_test_under_tfidf(df_train_tudo)\n",
    "\n",
    "        model2 = model.fit(X_train.toarray(), Y_train)\n",
    "        predict = model2.predict(X_teste.toarray())\n",
    "        accuracy = accuracy_score(Y_teste, predict)\n",
    "        precision = precision_score(Y_teste, predict, average='macro')\n",
    "        recall = recall_score(Y_teste, predict, average='macro')\n",
    "        f1 = f1_score(Y_teste, predict, average='macro')\n",
    "        score = accuracy + precision + recall + f1\n",
    "\n",
    "        matrix_confusion = confusion_matrix(Y_teste, predict,labels=[-1, 0, 1])\n",
    "\n",
    "        errados = matrix_confusion[0][2]+ matrix_confusion[2][0]\n",
    "        \n",
    "        if((score_fim<score) & (errados_fim>errados)):\n",
    "            accuracy_fim, precision_fim,recall_fim, f1_fim, matrix_confusion_fim = accuracy, precision,recall,f1,matrix_confusion \n",
    "            model2_fim, tfidf_fim, df_train_fim, df_teste_fim, score_fim, errados_fim = model2, tfidf, df_train, df_teste, score, errados\n",
    "    \n",
    "    print('accuracy:')\n",
    "    print(accuracy_fim)\n",
    "    print('precision:')\n",
    "    print(precision_fim)\n",
    "    print('recall:')\n",
    "    print(recall_fim)\n",
    "    print('f1:')\n",
    "    print(f1_fim)\n",
    "    print('matrix_confusion:')\n",
    "    print(matrix_confusion_fim)\n",
    "    print(score_fim/4)\n",
    "    print(errados_fim)\n",
    "    return model2_fim, tfidf_fim, df_train_fim, df_teste_fim  \n",
    "\n",
    "def AnaliseSentimentos_bw(df, bw,model, name_colum):\n",
    "    i1=0\n",
    "    for i in range(5000,len(df),5000):\n",
    "        if (i==5000):\n",
    "            predict = model.predict_proba(Bag_of_words_teste(df[i1:i], bw).toarray())\n",
    "        else:\n",
    "            predict = np.vstack((predict, model.predict_proba(Bag_of_words_teste(df[i1:i], bw).toarray())))\n",
    "        i1=i\n",
    "        \n",
    "    predict = np.vstack((predict,model.predict_proba(Bag_of_words_teste(df[i1:], bw).toarray())))\n",
    "    df_predict = pd.DataFrame(predict)\n",
    "    df[name_colum+'-1'] = df_predict[0]\n",
    "    df[name_colum+'0'] = df_predict[1]\n",
    "    df[name_colum+'1'] = df_predict[2]\n",
    "    \n",
    "    print(np.unique(predict, return_counts=True))\n",
    "    return df\n",
    "\n",
    "def AnaliseSentimentos_tfidf(df, tfidf,model, name_colum):\n",
    "    i1=0\n",
    "    for i in range(5000,len(df),5000):\n",
    "        if (i==5000):\n",
    "            predict = model.predict_proba(tfidf_teste(df[i1:i], tfidf).toarray())\n",
    "        else:\n",
    "            predict = np.vstack((predict, model.predict_proba(tfidf_teste(df[i1:i], tfidf).toarray())))\n",
    "        i1=i\n",
    "        \n",
    "    predict = np.vstack((predict,model.predict_proba(tfidf_teste(df[i1:], tfidf).toarray())))\n",
    "\n",
    "    df[name_colum+'-1'] = pd.DataFrame(predict)[0]\n",
    "    df[name_colum+'0'] = pd.DataFrame(predict)[1]\n",
    "    df[name_colum+'1'] = pd.DataFrame(predict)[2]\n",
    "\n",
    "    print(np.unique(predict, return_counts=True))\n",
    "    return df"
   ]
  },
  {
   "cell_type": "markdown",
   "id": "72038a02",
   "metadata": {},
   "source": [
    "## Bolsonaro"
   ]
  },
  {
   "cell_type": "markdown",
   "id": "fea48c83",
   "metadata": {},
   "source": [
    "### Bolsonaro - Arvore de Decisao - bw"
   ]
  },
  {
   "cell_type": "code",
   "execution_count": 8,
   "id": "2c0bde87",
   "metadata": {
    "scrolled": true
   },
   "outputs": [
    {
     "name": "stdout",
     "output_type": "stream",
     "text": [
      "accuracy:\n",
      "0.37699456426442224\n",
      "precision:\n",
      "0.3956288034393241\n",
      "recall:\n",
      "0.5854464832652005\n",
      "f1:\n",
      "0.2823154229477229\n",
      "matrix_confusion:\n",
      "[[ 282  305  155]\n",
      " [   0    2    0]\n",
      " [ 791 2302 1866]]\n",
      "0.49561039199809714\n",
      "850\n",
      "(array([0., 1.]), array([1892876,  946438], dtype=int64))\n",
      "Wall time: 1min 9s\n"
     ]
    }
   ],
   "source": [
    "%%time\n",
    "model_tree_bolsonaro_bw, tree_bolsonaro_bw, df_train_tree_bolsonaro_bw, df_teste_tree_bolsonaro_bw = \\\n",
    "train_model_bw(tree.DecisionTreeClassifier(), df_bolsonaro_train, 100)\n",
    "model_tree_bolsonaro_bw = model_tree_bolsonaro_bw.fit(Bag_of_words_teste(df_train_tree_bolsonaro_bw, tree_bolsonaro_bw), df_train_tree_bolsonaro_bw['Sentimento'].str.replace('p','1').replace('x','0').replace('n','-1').astype(int))\n",
    "\n",
    "df_bolsonaro = AnaliseSentimentos_bw(df_bolsonaro, tree_bolsonaro_bw,model_tree_bolsonaro_bw, 'predict_bw_ArvoreDeDecisao')\n"
   ]
  },
  {
   "cell_type": "markdown",
   "id": "cdacb569",
   "metadata": {},
   "source": [
    "### Bolsonaro - Arvore de Decisao - tfidf"
   ]
  },
  {
   "cell_type": "code",
   "execution_count": 10,
   "id": "26b9dd24",
   "metadata": {},
   "outputs": [
    {
     "name": "stdout",
     "output_type": "stream",
     "text": [
      "accuracy:\n",
      "0.534806242328599\n",
      "precision:\n",
      "0.3939394441254092\n",
      "recall:\n",
      "0.48087117598811596\n",
      "f1:\n",
      "0.3374284060477679\n",
      "matrix_confusion:\n",
      "[[ 286  171  285]\n",
      " [   0    1    1]\n",
      " [ 754 1442 2763]]\n",
      "0.436761317122473\n",
      "1039\n",
      "(array([0., 1.]), array([1892876,  946438], dtype=int64))\n",
      "Wall time: 1min 9s\n"
     ]
    }
   ],
   "source": [
    "%%time\n",
    "model_tree_bolsonaro_tfidf, tree_bolsonaro_tfidf, df_train_tree_bolsonaro_tfidf, df_teste_tree_bolsonaro_tfidf = \\\n",
    "train_model_tfidf(tree.DecisionTreeClassifier(), df_bolsonaro_train, 100)\n",
    "model_tree_bolsonaro_tfidf = model_tree_bolsonaro_tfidf.fit(tfidf_teste(df_train_tree_bolsonaro_tfidf, tree_bolsonaro_tfidf), df_train_tree_bolsonaro_tfidf['Sentimento'].str.replace('p','1').replace('x','0').replace('n','-1').astype(int))\n",
    "\n",
    "df_bolsonaro = AnaliseSentimentos_tfidf(df_bolsonaro, tree_bolsonaro_tfidf,model_tree_bolsonaro_tfidf, 'predict_tfidf_ArvoreDeDecisao')\n"
   ]
  },
  {
   "cell_type": "markdown",
   "id": "50b2009f",
   "metadata": {},
   "source": [
    "### Bolsonaro - Naive Bayes - bw"
   ]
  },
  {
   "cell_type": "code",
   "execution_count": 11,
   "id": "2b9c620f",
   "metadata": {
    "scrolled": true
   },
   "outputs": [
    {
     "name": "stdout",
     "output_type": "stream",
     "text": [
      "accuracy:\n",
      "0.3752411011748203\n",
      "precision:\n",
      "0.3738575536909448\n",
      "recall:\n",
      "0.6248862414838513\n",
      "f1:\n",
      "0.265000658179916\n",
      "matrix_confusion:\n",
      "[[ 387  219  136]\n",
      " [   0    2    0]\n",
      " [1623 1585 1751]]\n",
      "0.4379753693373837\n",
      "1247\n",
      "(array([0.e+000, 1.e-323, 2.e-323, ..., 1.e+000, 1.e+000, 1.e+000]), array([1798330,       6,       2, ...,     951,     324,  928476],\n",
      "      dtype=int64))\n",
      "Wall time: 2min 34s\n"
     ]
    }
   ],
   "source": [
    "%%time\n",
    "model_nb_bolsonaro_bw, nb_bolsonaro_bw, df_train_nb_bolsonaro_bw, df_teste_nb_bolsonaro_bw = \\\n",
    "train_model_bw(GaussianNB(), df_bolsonaro_train, 100)\n",
    "model_nb_bolsonaro_bw = model_nb_bolsonaro_bw.fit(Bag_of_words_teste(df_train_nb_bolsonaro_bw, nb_bolsonaro_bw).toarray(), df_train_nb_bolsonaro_bw['Sentimento'].str.replace('p','1').replace('x','0').replace('n','-1').astype(int))\n",
    "\n",
    "df_bolsonaro = AnaliseSentimentos_bw(df_bolsonaro, nb_bolsonaro_bw,model_nb_bolsonaro_bw, 'predict_bw_NaiveBayes')\n"
   ]
  },
  {
   "cell_type": "markdown",
   "id": "fa7eb572",
   "metadata": {},
   "source": [
    "### Bolsonaro - Naive Bayes - tfidf"
   ]
  },
  {
   "cell_type": "code",
   "execution_count": 12,
   "id": "9802f64a",
   "metadata": {},
   "outputs": [
    {
     "name": "stdout",
     "output_type": "stream",
     "text": [
      "accuracy:\n",
      "0.4625635630369981\n",
      "precision:\n",
      "0.3680495117544142\n",
      "recall:\n",
      "0.6316194411424353\n",
      "f1:\n",
      "0.29544089380895405\n",
      "matrix_confusion:\n",
      "[[ 317  195  230]\n",
      " [   0    2    0]\n",
      " [1325 1315 2319]]\n",
      "0.4394183524357004\n",
      "1555\n",
      "(array([0.0e+000, 9.9e-324, 1.5e-323, ..., 1.0e+000, 1.0e+000, 1.0e+000]), array([1668667,       7,       5, ...,      10,     967,  939961],\n",
      "      dtype=int64))\n",
      "Wall time: 2min 30s\n"
     ]
    }
   ],
   "source": [
    "%%time\n",
    "model_nb_bolsonaro_tfidf, nb_bolsonaro_tfidf, df_train_nb_bolsonaro_tfidf, df_teste_nb_bolsonaro_tfidf = \\\n",
    "train_model_tfidf(GaussianNB(), df_bolsonaro_train, 100)\n",
    "model_nb_bolsonaro_tfidf = model_nb_bolsonaro_tfidf.fit(tfidf_teste(df_train_nb_bolsonaro_tfidf, nb_bolsonaro_tfidf).toarray(), df_train_nb_bolsonaro_tfidf['Sentimento'].str.replace('p','1').replace('x','0').replace('n','-1').astype(int))\n",
    "\n",
    "df_bolsonaro = AnaliseSentimentos_tfidf(df_bolsonaro, nb_bolsonaro_tfidf,model_nb_bolsonaro_tfidf, 'predict_tfidf_NaiveBayes')\n"
   ]
  },
  {
   "cell_type": "markdown",
   "id": "5c087da8",
   "metadata": {},
   "source": [
    "### Bolsonaro - Random Forest - bw"
   ]
  },
  {
   "cell_type": "code",
   "execution_count": 13,
   "id": "3a1936db",
   "metadata": {},
   "outputs": [
    {
     "name": "stdout",
     "output_type": "stream",
     "text": [
      "accuracy:\n",
      "0.5639137296159916\n",
      "precision:\n",
      "0.39651575508813713\n",
      "recall:\n",
      "0.6712353971026025\n",
      "f1:\n",
      "0.3492575596547973\n",
      "matrix_confusion:\n",
      "[[ 319  169  254]\n",
      " [   0    2    0]\n",
      " [ 868 1196 2895]]\n",
      "0.521417691807179\n",
      "705\n",
      "(array([0.  , 0.01, 0.02, 0.03, 0.04, 0.05, 0.06, 0.07, 0.08, 0.09, 0.1 ,\n",
      "       0.11, 0.12, 0.13, 0.14, 0.15, 0.16, 0.17, 0.18, 0.19, 0.2 , 0.21,\n",
      "       0.22, 0.23, 0.24, 0.25, 0.26, 0.27, 0.28, 0.29, 0.3 , 0.31, 0.32,\n",
      "       0.33, 0.34, 0.35, 0.36, 0.37, 0.38, 0.39, 0.4 , 0.41, 0.42, 0.43,\n",
      "       0.44, 0.45, 0.46, 0.47, 0.48, 0.49, 0.5 , 0.51, 0.52, 0.53, 0.54,\n",
      "       0.55, 0.56, 0.57, 0.58, 0.59, 0.6 , 0.61, 0.62, 0.63, 0.64, 0.65,\n",
      "       0.66, 0.67, 0.68, 0.69, 0.7 , 0.71, 0.72, 0.73, 0.74, 0.75, 0.76,\n",
      "       0.77, 0.78, 0.79, 0.8 , 0.81, 0.82, 0.83, 0.84, 0.85, 0.86, 0.87,\n",
      "       0.88, 0.89, 0.9 , 0.91, 0.92, 0.93, 0.94, 0.95, 0.96, 0.97, 0.98,\n",
      "       0.99, 1.  ]), array([ 6624, 14257, 53487, 18562, 28170, 31998, 30082, 31346, 35421,\n",
      "       36303, 32541, 42863, 42436, 44135, 41605, 45557, 43321, 41998,\n",
      "       44999, 43701, 47347, 49355, 47067, 52878, 55933, 49684, 56844,\n",
      "       58129, 62108, 49160, 58223, 59954, 50632, 51577, 61175, 57836,\n",
      "       61008, 55091, 60311, 59214, 52181, 52957, 49458, 47583, 45364,\n",
      "       40499, 47724, 47598, 49948, 75920, 36492, 34133, 31109, 29836,\n",
      "       27148, 31376, 23722, 23869, 30291, 20768, 17103, 22342, 16939,\n",
      "       16988, 16175, 10550, 10200, 13028,  9427,  8506, 11488,  7895,\n",
      "       10282,  6088,  4185,  6044,  4870,  3298,  3436,  3631,  3662,\n",
      "        1139,  3913,  2902,  1799,  1338,  1577,  2658,  1341,   874,\n",
      "        1122,   907,   271,   122,   115,   293,   176,    21,  1612,\n",
      "          85,     4], dtype=int64))\n",
      "Wall time: 3min 12s\n"
     ]
    }
   ],
   "source": [
    "%%time\n",
    "model_RandomForest_bolsonaro_bw, RandomForest_bolsonaro_bw, df_train_RandomForest_bolsonaro_bw, df_teste_RandomForest_bolsonaro_bw = \\\n",
    "train_model_bw(RandomForestClassifier(), df_bolsonaro_train, 100)\n",
    "model_RandomForest_bolsonaro_bw = model_RandomForest_bolsonaro_bw.fit(Bag_of_words_teste(df_train_RandomForest_bolsonaro_bw, RandomForest_bolsonaro_bw).toarray(), df_train_RandomForest_bolsonaro_bw['Sentimento'].str.replace('p','1').replace('x','0').replace('n','-1').astype(int))\n",
    "\n",
    "df_bolsonaro = AnaliseSentimentos_bw(df_bolsonaro, RandomForest_bolsonaro_bw,model_RandomForest_bolsonaro_bw, 'predict_bw_RandomForest')\n"
   ]
  },
  {
   "cell_type": "markdown",
   "id": "0b5a2a87",
   "metadata": {},
   "source": [
    "### Bolsonaro - Random Forest - tfidf"
   ]
  },
  {
   "cell_type": "code",
   "execution_count": 14,
   "id": "159352dc",
   "metadata": {},
   "outputs": [
    {
     "name": "stdout",
     "output_type": "stream",
     "text": [
      "accuracy:\n",
      "0.638435910924075\n",
      "precision:\n",
      "0.4061924899964308\n",
      "recall:\n",
      "0.5079903184549968\n",
      "f1:\n",
      "0.3686335149198128\n",
      "matrix_confusion:\n",
      "[[ 253  147  342]\n",
      " [   0    1    1]\n",
      " [ 564 1008 3387]]\n",
      "0.48031305857382883\n",
      "906\n",
      "(array([0.  , 0.01, 0.02, 0.03, 0.04, 0.05, 0.06, 0.07, 0.08, 0.09, 0.1 ,\n",
      "       0.11, 0.12, 0.13, 0.14, 0.15, 0.16, 0.17, 0.18, 0.19, 0.2 , 0.21,\n",
      "       0.22, 0.23, 0.24, 0.25, 0.26, 0.27, 0.28, 0.29, 0.3 , 0.31, 0.32,\n",
      "       0.33, 0.34, 0.35, 0.36, 0.37, 0.38, 0.39, 0.4 , 0.41, 0.42, 0.43,\n",
      "       0.44, 0.45, 0.46, 0.47, 0.48, 0.49, 0.5 , 0.51, 0.52, 0.53, 0.54,\n",
      "       0.55, 0.56, 0.57, 0.58, 0.59, 0.6 , 0.61, 0.62, 0.63, 0.64, 0.65,\n",
      "       0.66, 0.67, 0.68, 0.69, 0.7 , 0.71, 0.72, 0.73, 0.74, 0.75, 0.76,\n",
      "       0.77, 0.78, 0.79, 0.8 , 0.81, 0.82, 0.83, 0.84, 0.85, 0.86, 0.87,\n",
      "       0.88, 0.89, 0.9 , 0.91, 0.92, 0.93, 0.94, 0.95, 0.96, 0.97, 0.98,\n",
      "       0.99, 1.  ]), array([ 3479,  2383,  3532,  9545, 13493, 33863, 24220, 27864, 35972,\n",
      "       39536, 43894, 40646, 46331, 43449, 46663, 45943, 54284, 46459,\n",
      "       51097, 48041, 53218, 57208, 54940, 53165, 53565, 63122, 58337,\n",
      "       60074, 59259, 60753, 68470, 62914, 61518, 63204, 64535, 64374,\n",
      "       60825, 65386, 52786, 67218, 58643, 53235, 48171, 53225, 47008,\n",
      "       46101, 55769, 45397, 35814, 49229, 35274, 35282, 29325, 30865,\n",
      "       34798, 28374, 23977, 22989, 21152, 20478, 18182, 16481, 16705,\n",
      "       11146, 11791,  9470,  9454, 11115, 11321,  8504,  8232,  8253,\n",
      "        5161,  4512,  8590,  5001,  4434,  2788,  6274,  1974,  5515,\n",
      "        2296,  1822,   746,  2766,   803,   631,   653,   512,   550,\n",
      "         261,   162,   602,    72,   117,    41,    49,     8,     4,\n",
      "          11,  1634], dtype=int64))\n",
      "Wall time: 3min 1s\n"
     ]
    }
   ],
   "source": [
    "%%time\n",
    "model_RandomForest_bolsonaro_tfidf, RandomForest_bolsonaro_tfidf, df_train_RandomForest_bolsonaro_tfidf, df_teste_RandomForest_bolsonaro_tfidf = \\\n",
    "train_model_tfidf(RandomForestClassifier(), df_bolsonaro_train, 100)\n",
    "model_RandomForest_bolsonaro_tfidf = model_RandomForest_bolsonaro_tfidf.fit(tfidf_teste(df_train_RandomForest_bolsonaro_tfidf, RandomForest_bolsonaro_tfidf).toarray(), df_train_RandomForest_bolsonaro_tfidf['Sentimento'].str.replace('p','1').replace('x','0').replace('n','-1').astype(int))\n",
    "\n",
    "df_bolsonaro = AnaliseSentimentos_tfidf(df_bolsonaro, RandomForest_bolsonaro_tfidf,model_RandomForest_bolsonaro_tfidf, 'predict_tfidf_RandomForest')\n"
   ]
  },
  {
   "cell_type": "markdown",
   "id": "90533c53",
   "metadata": {},
   "source": [
    "### Bolsonaro - SVM - bw"
   ]
  },
  {
   "cell_type": "code",
   "execution_count": 15,
   "id": "0313645e",
   "metadata": {},
   "outputs": [
    {
     "name": "stdout",
     "output_type": "stream",
     "text": [
      "accuracy:\n",
      "0.6037173417499562\n",
      "precision:\n",
      "0.3821183130648977\n",
      "recall:\n",
      "0.5275347698386428\n",
      "f1:\n",
      "0.3508499044977406\n",
      "matrix_confusion:\n",
      "[[ 339  109  294]\n",
      " [   1    1    0]\n",
      " [1123  733 3103]]\n",
      "0.45721702033993916\n",
      "782\n",
      "(array([0.07101874, 0.07750577, 0.08272359, ..., 0.81559389, 0.81972194,\n",
      "       0.82835011]), array([1, 1, 2, ..., 1, 1, 1], dtype=int64))\n",
      "Wall time: 16min 11s\n"
     ]
    }
   ],
   "source": [
    "%%time\n",
    "model_svc_bolsonaro_bw, svc_bolsonaro_bw, df_train_svc_bolsonaro_bw, df_teste_svc_bolsonaro_bw = \\\n",
    "train_model_bw(SVC(probability=True), df_bolsonaro_train, 100)\n",
    "model_svc_bolsonaro_bw = model_svc_bolsonaro_bw.fit(Bag_of_words_teste(df_train_svc_bolsonaro_bw, svc_bolsonaro_bw).toarray(), df_train_svc_bolsonaro_bw['Sentimento'].str.replace('p','1').replace('x','0').replace('n','-1').astype(int))\n",
    "\n",
    "df_bolsonaro = AnaliseSentimentos_bw(df_bolsonaro, svc_bolsonaro_bw,model_svc_bolsonaro_bw, 'predict_bw_SVM')"
   ]
  },
  {
   "cell_type": "markdown",
   "id": "2648b08f",
   "metadata": {},
   "source": [
    "### Bolsonaro - SVM - tfidf"
   ]
  },
  {
   "cell_type": "code",
   "execution_count": 16,
   "id": "2caa0798",
   "metadata": {},
   "outputs": [
    {
     "name": "stdout",
     "output_type": "stream",
     "text": [
      "accuracy:\n",
      "0.6468525337541645\n",
      "precision:\n",
      "0.38786355525485966\n",
      "recall:\n",
      "0.7114338473959062\n",
      "f1:\n",
      "0.3678637437075329\n",
      "matrix_confusion:\n",
      "[[ 341   84  317]\n",
      " [   0    2    0]\n",
      " [1039  574 3346]]\n",
      "0.5285034200281158\n",
      "1356\n",
      "(array([0.01150762, 0.01226914, 0.01277185, ..., 0.94636407, 0.94878761,\n",
      "       0.95074723]), array([  1,  63, 261, ...,  63,   1,   4], dtype=int64))\n",
      "Wall time: 15min 29s\n"
     ]
    }
   ],
   "source": [
    "%%time\n",
    "model_svc_bolsonaro_tfidf, svc_bolsonaro_tfidf, df_train_svc_bolsonaro_tfidf, df_teste_svc_bolsonaro_tfidf = \\\n",
    "train_model_tfidf(SVC(probability=True), df_bolsonaro_train, 100)\n",
    "model_svc_bolsonaro_tfidf = model_svc_bolsonaro_tfidf.fit(tfidf_teste(df_train_svc_bolsonaro_tfidf, svc_bolsonaro_tfidf).toarray(), df_train_svc_bolsonaro_tfidf['Sentimento'].str.replace('p','1').replace('x','0').replace('n','-1').astype(int))\n",
    "\n",
    "df_bolsonaro = AnaliseSentimentos_tfidf(df_bolsonaro, svc_bolsonaro_tfidf,model_svc_bolsonaro_tfidf, 'predict_tfidf_SVM')"
   ]
  },
  {
   "cell_type": "markdown",
   "id": "c0bf1c6d",
   "metadata": {},
   "source": [
    "### Bolsonaro - MLP - bw"
   ]
  },
  {
   "cell_type": "code",
   "execution_count": 17,
   "id": "561868bf",
   "metadata": {},
   "outputs": [
    {
     "name": "stdout",
     "output_type": "stream",
     "text": [
      "accuracy:\n",
      "0.4746624583552516\n",
      "precision:\n",
      "0.36910767845195086\n",
      "recall:\n",
      "0.481882614437489\n",
      "f1:\n",
      "0.30025437956969436\n",
      "matrix_confusion:\n",
      "[[ 349  170  223]\n",
      " [   0    1    1]\n",
      " [1456 1146 2357]]\n",
      "0.4747423977756179\n",
      "1296\n",
      "(array([3.87192721e-14, 1.25882172e-12, 2.11590942e-12, ...,\n",
      "       9.99999993e-01, 1.00000000e+00, 1.00000000e+00]), array([1, 1, 1, ..., 1, 1, 1], dtype=int64))\n",
      "Wall time: 8min 45s\n"
     ]
    }
   ],
   "source": [
    "%%time\n",
    "model_mlp_bolsonaro_bw, mlp_bolsonaro_bw, df_train_mlp_bolsonaro_bw, df_teste_mlp_bolsonaro_bw = \\\n",
    "train_model_bw(MLPClassifier(max_iter=400), df_bolsonaro_train, 100)\n",
    "model_mlp_bolsonaro_bw = model_mlp_bolsonaro_bw.fit(Bag_of_words_teste(df_train_mlp_bolsonaro_bw, mlp_bolsonaro_bw).toarray(), df_train_mlp_bolsonaro_bw['Sentimento'].str.replace('p','1').replace('x','0').replace('n','-1').astype(int))\n",
    "\n",
    "df_bolsonaro = AnaliseSentimentos_bw(df_bolsonaro, mlp_bolsonaro_bw,model_mlp_bolsonaro_bw, 'predict_bw_MLP')"
   ]
  },
  {
   "cell_type": "markdown",
   "id": "38cdc758",
   "metadata": {},
   "source": [
    "### Bolsonaro - MLP - tfidf"
   ]
  },
  {
   "cell_type": "code",
   "execution_count": 18,
   "id": "cdfe371f",
   "metadata": {},
   "outputs": [
    {
     "name": "stdout",
     "output_type": "stream",
     "text": [
      "accuracy:\n",
      "0.48921620199894794\n",
      "precision:\n",
      "0.3766446110568409\n",
      "recall:\n",
      "0.648330868376754\n",
      "f1:\n",
      "0.310504407529125\n",
      "matrix_confusion:\n",
      "[[ 334  194  214]\n",
      " [   0    2    0]\n",
      " [1266 1239 2454]]\n",
      "0.4561740222404169\n",
      "1480\n",
      "(array([7.42121238e-05, 8.81140140e-05, 9.52289951e-05, ...,\n",
      "       9.99719752e-01, 9.99786401e-01, 9.99837674e-01]), array([1, 1, 1, ..., 1, 1, 1], dtype=int64))\n",
      "Wall time: 10min 20s\n"
     ]
    }
   ],
   "source": [
    "%%time\n",
    "model_mlp_bolsonaro_tfidf, mlp_bolsonaro_tfidf, df_train_mlp_bolsonaro_tfidf, df_teste_mlp_bolsonaro_tfidf = \\\n",
    "train_model_tfidf(MLPClassifier(max_iter=400), df_bolsonaro_train, 100)\n",
    "model_mlp_bolsonaro_tfidf = model_mlp_bolsonaro_tfidf.fit(Bag_of_words_teste(df_train_mlp_bolsonaro_tfidf, mlp_bolsonaro_tfidf).toarray(), df_train_mlp_bolsonaro_tfidf['Sentimento'].str.replace('p','1').replace('x','0').replace('n','-1').astype(int))\n",
    "\n",
    "df_bolsonaro = AnaliseSentimentos_tfidf(df_bolsonaro, mlp_bolsonaro_tfidf,model_mlp_bolsonaro_tfidf, 'predict_tfidf_MLP')"
   ]
  },
  {
   "cell_type": "markdown",
   "id": "754f28f3",
   "metadata": {},
   "source": [
    "### Bolsonaro - KNN - bw"
   ]
  },
  {
   "cell_type": "code",
   "execution_count": 19,
   "id": "a624dafb",
   "metadata": {},
   "outputs": [
    {
     "name": "stdout",
     "output_type": "stream",
     "text": [
      "accuracy:\n",
      "0.15851306330001755\n",
      "precision:\n",
      "0.35619769767789583\n",
      "recall:\n",
      "0.5647260818133674\n",
      "f1:\n",
      "0.12998464602230822\n",
      "matrix_confusion:\n",
      "[[ 447  262   33]\n",
      " [   0    2    0]\n",
      " [2860 1644  455]]\n",
      "0.4610769931297578\n",
      "762\n",
      "(array([0. , 0.2, 0.4, 0.6, 0.8, 1. ]), array([580725, 823215, 592848, 648959, 191433,   2134], dtype=int64))\n",
      "Wall time: 2min 9s\n"
     ]
    }
   ],
   "source": [
    "%%time\n",
    "model_knn_bolsonaro_bw, knn_bolsonaro_bw, df_train_knn_bolsonaro_bw, df_teste_knn_bolsonaro_bw = \\\n",
    "train_model_bw(KNeighborsClassifier(), df_bolsonaro_train, 100)\n",
    "model_knn_bolsonaro_bw = model_knn_bolsonaro_bw.fit(Bag_of_words_teste(df_train_knn_bolsonaro_bw, knn_bolsonaro_bw).toarray(), df_train_knn_bolsonaro_bw['Sentimento'].str.replace('p','1').replace('x','0').replace('n','-1').astype(int))\n",
    "\n",
    "df_bolsonaro = AnaliseSentimentos_bw(df_bolsonaro, knn_bolsonaro_bw,model_knn_bolsonaro_bw, 'predict_bw_KNN')"
   ]
  },
  {
   "cell_type": "markdown",
   "id": "f810728a",
   "metadata": {},
   "source": [
    "### Bolsonaro - KNN - tfidf"
   ]
  },
  {
   "cell_type": "code",
   "execution_count": 20,
   "id": "4990814c",
   "metadata": {},
   "outputs": [
    {
     "name": "stdout",
     "output_type": "stream",
     "text": [
      "accuracy:\n",
      "0.399088199193407\n",
      "precision:\n",
      "0.3684702429698051\n",
      "recall:\n",
      "0.6298256666027101\n",
      "f1:\n",
      "0.2706680177352723\n",
      "matrix_confusion:\n",
      "[[ 376  204  162]\n",
      " [   0    2    0]\n",
      " [1681 1380 1898]]\n",
      "0.4170130316252986\n",
      "1843\n",
      "(array([0. , 0.2, 0.4, 0.6, 0.8, 1. ]), array([405761, 912558, 915392, 451664, 135839,  18100], dtype=int64))\n",
      "Wall time: 2min 37s\n"
     ]
    }
   ],
   "source": [
    "%%time\n",
    "model_knn_bolsonaro_tfidf, knn_bolsonaro_tfidf, df_train_knn_bolsonaro_tfidf, df_teste_knn_bolsonaro_tfidf = \\\n",
    "train_model_tfidf(KNeighborsClassifier(), df_bolsonaro_train, 100)\n",
    "model_knn_bolsonaro_tfidf = model_knn_bolsonaro_tfidf.fit(Bag_of_words_teste(df_train_knn_bolsonaro_tfidf, knn_bolsonaro_tfidf).toarray(), df_train_knn_bolsonaro_tfidf['Sentimento'].str.replace('p','1').replace('x','0').replace('n','-1').astype(int))\n",
    "\n",
    "df_bolsonaro = AnaliseSentimentos_tfidf(df_bolsonaro, knn_bolsonaro_tfidf,model_knn_bolsonaro_tfidf, 'predict_tfidf_KNN')"
   ]
  },
  {
   "cell_type": "markdown",
   "id": "355b3295",
   "metadata": {},
   "source": [
    "# Lula"
   ]
  },
  {
   "cell_type": "markdown",
   "id": "3979fdd8",
   "metadata": {},
   "source": [
    "### Lula - Arvore de Decisao - bw"
   ]
  },
  {
   "cell_type": "code",
   "execution_count": 21,
   "id": "b4542a1c",
   "metadata": {},
   "outputs": [
    {
     "name": "stdout",
     "output_type": "stream",
     "text": [
      "accuracy:\n",
      "0.4245314591700134\n",
      "precision:\n",
      "0.38250788333414537\n",
      "recall:\n",
      "0.6115273477527058\n",
      "f1:\n",
      "0.29276802356754267\n",
      "matrix_confusion:\n",
      "[[ 690  604  400]\n",
      " [   0    2    0]\n",
      " [2301 3573 4382]]\n",
      "0.3992221701353972\n",
      "1501\n",
      "(array([0., 1.]), array([1863460,  931730], dtype=int64))\n",
      "Wall time: 1min 20s\n"
     ]
    }
   ],
   "source": [
    "%%time\n",
    "model_tree_lula_bw, tree_lula_bw, df_train_tree_lula_bw, df_teste_tree_lula_bw = \\\n",
    "train_model_bw(tree.DecisionTreeClassifier(), df_lula_train, 100)\n",
    "model_tree_lula_bw = model_tree_lula_bw.fit(Bag_of_words_teste(df_train_tree_lula_bw, tree_lula_bw), df_train_tree_lula_bw['Sentimento'].str.replace('p','1').replace('x','0').replace('n','-1').astype(int))\n",
    "\n",
    "df_lula = AnaliseSentimentos_bw(df_lula, tree_lula_bw,model_tree_lula_bw, 'predict_bw_ArvoreDeDecisao')\n"
   ]
  },
  {
   "cell_type": "markdown",
   "id": "47713584",
   "metadata": {},
   "source": [
    "### Lula - Arvore de Decisao - tfidf"
   ]
  },
  {
   "cell_type": "code",
   "execution_count": 22,
   "id": "a7528298",
   "metadata": {},
   "outputs": [
    {
     "name": "stdout",
     "output_type": "stream",
     "text": [
      "accuracy:\n",
      "0.4943942436412316\n",
      "precision:\n",
      "0.3976839200014866\n",
      "recall:\n",
      "0.625852746624623\n",
      "f1:\n",
      "0.32485465690762244\n",
      "matrix_confusion:\n",
      "[[ 612  598  484]\n",
      " [   0    2    0]\n",
      " [1603 3358 5295]]\n",
      "0.46069639179374094\n",
      "2087\n",
      "(array([0., 1.]), array([1863460,  931730], dtype=int64))\n",
      "Wall time: 1min 22s\n"
     ]
    }
   ],
   "source": [
    "%%time\n",
    "model_tree_lula_tfidf, tree_lula_tfidf, df_train_tree_lula_tfidf, df_teste_tree_lula_tfidf = \\\n",
    "train_model_tfidf(tree.DecisionTreeClassifier(), df_lula_train, 100)\n",
    "model_tree_lula_tfidf = model_tree_lula_tfidf.fit(tfidf_teste(df_train_tree_lula_tfidf, tree_lula_tfidf), df_train_tree_lula_tfidf['Sentimento'].str.replace('p','1').replace('x','0').replace('n','-1').astype(int))\n",
    "\n",
    "df_lula = AnaliseSentimentos_tfidf(df_lula, tree_lula_tfidf,model_tree_lula_tfidf, 'predict_tfidf_ArvoreDeDecisao')\n"
   ]
  },
  {
   "cell_type": "markdown",
   "id": "486ae1c8",
   "metadata": {},
   "source": [
    "### Lula - Naive Bayes - bw"
   ]
  },
  {
   "cell_type": "code",
   "execution_count": 23,
   "id": "c25b6a1b",
   "metadata": {},
   "outputs": [
    {
     "name": "stdout",
     "output_type": "stream",
     "text": [
      "accuracy:\n",
      "0.3543340026773762\n",
      "precision:\n",
      "0.36191231986528877\n",
      "recall:\n",
      "0.5737453730734826\n",
      "f1:\n",
      "0.25383699967939305\n",
      "matrix_confusion:\n",
      "[[ 626  616  452]\n",
      " [   0    2    0]\n",
      " [2557 4092 3607]]\n",
      "0.4110667979923319\n",
      "2398\n",
      "(array([0.00000000e+000, 9.88131292e-324, 1.48219694e-323, ...,\n",
      "       9.99999046e-001, 1.00000000e+000, 1.00000000e+000]), array([1761306,      16,       8, ...,       1,       1,  931715],\n",
      "      dtype=int64))\n",
      "Wall time: 2min 56s\n"
     ]
    }
   ],
   "source": [
    "%%time\n",
    "model_nb_lula_bw, nb_lula_bw, df_train_nb_lula_bw, df_teste_nb_lula_bw = \\\n",
    "train_model_bw(GaussianNB(), df_lula_train, 100)\n",
    "model_nb_lula_bw = model_nb_lula_bw.fit(Bag_of_words_teste(df_train_nb_lula_bw, nb_lula_bw).toarray(), df_train_nb_lula_bw['Sentimento'].str.replace('p','1').replace('x','0').replace('n','-1').astype(int))\n",
    "\n",
    "df_lula = AnaliseSentimentos_bw(df_lula, nb_lula_bw,model_nb_lula_bw, 'predict_bw_NaiveBayes')\n"
   ]
  },
  {
   "cell_type": "markdown",
   "id": "76979985",
   "metadata": {},
   "source": [
    "### Lula - Naive Bayes - tfidf"
   ]
  },
  {
   "cell_type": "code",
   "execution_count": 24,
   "id": "4a0565d5",
   "metadata": {},
   "outputs": [
    {
     "name": "stdout",
     "output_type": "stream",
     "text": [
      "accuracy:\n",
      "0.5086178045515395\n",
      "precision:\n",
      "0.363374724385262\n",
      "recall:\n",
      "0.6231643864337808\n",
      "f1:\n",
      "0.3073011848614248\n",
      "matrix_confusion:\n",
      "[[ 562  436  696]\n",
      " [   0    2    0]\n",
      " [2227 2514 5515]]\n",
      "0.4506145250580018\n",
      "2923\n",
      "(array([0.0e+000, 9.9e-324, 1.5e-323, ..., 1.0e+000, 1.0e+000, 1.0e+000]), array([1728387,      27,      56, ...,      40,     887,  927436],\n",
      "      dtype=int64))\n",
      "Wall time: 2min 56s\n"
     ]
    }
   ],
   "source": [
    "%%time\n",
    "model_nb_lula_tfidf, nb_lula_tfidf, df_train_nb_lula_tfidf, df_teste_nb_lula_tfidf = \\\n",
    "train_model_tfidf(GaussianNB(), df_lula_train, 100)\n",
    "model_nb_lula_tfidf = model_nb_lula_tfidf.fit(tfidf_teste(df_train_nb_lula_tfidf, nb_lula_tfidf).toarray(), df_train_nb_lula_tfidf['Sentimento'].str.replace('p','1').replace('x','0').replace('n','-1').astype(int))\n",
    "\n",
    "df_lula = AnaliseSentimentos_tfidf(df_lula, nb_lula_tfidf,model_nb_lula_tfidf, 'predict_tfidf_NaiveBayes')\n"
   ]
  },
  {
   "cell_type": "markdown",
   "id": "170dee4f",
   "metadata": {},
   "source": [
    "### Lula - Random Forest - bw"
   ]
  },
  {
   "cell_type": "code",
   "execution_count": 25,
   "id": "2b90401f",
   "metadata": {},
   "outputs": [
    {
     "name": "stdout",
     "output_type": "stream",
     "text": [
      "accuracy:\n",
      "0.47431392235609104\n",
      "precision:\n",
      "0.4117632903389441\n",
      "recall:\n",
      "0.43203421761427724\n",
      "f1:\n",
      "0.31781702079873964\n",
      "matrix_confusion:\n",
      "[[ 494  793  407]\n",
      " [   0    1    1]\n",
      " [1109 3973 5174]]\n",
      "0.46142314426004566\n",
      "966\n",
      "(array([0.  , 0.01, 0.02, 0.03, 0.04, 0.05, 0.06, 0.07, 0.08, 0.09, 0.1 ,\n",
      "       0.11, 0.12, 0.13, 0.14, 0.15, 0.16, 0.17, 0.18, 0.19, 0.2 , 0.21,\n",
      "       0.22, 0.23, 0.24, 0.25, 0.26, 0.27, 0.28, 0.29, 0.3 , 0.31, 0.32,\n",
      "       0.33, 0.34, 0.35, 0.36, 0.37, 0.38, 0.39, 0.4 , 0.41, 0.42, 0.43,\n",
      "       0.44, 0.45, 0.46, 0.47, 0.48, 0.49, 0.5 , 0.51, 0.52, 0.53, 0.54,\n",
      "       0.55, 0.56, 0.57, 0.58, 0.59, 0.6 , 0.61, 0.62, 0.63, 0.64, 0.65,\n",
      "       0.66, 0.67, 0.68, 0.69, 0.7 , 0.71, 0.72, 0.73, 0.74, 0.75, 0.76,\n",
      "       0.77, 0.78, 0.79, 0.8 , 0.81, 0.82, 0.83, 0.84, 0.85, 0.86, 0.87,\n",
      "       0.88, 0.89, 0.9 , 0.91, 0.92, 0.93, 0.94, 0.95, 0.96, 0.97, 0.98,\n",
      "       0.99, 1.  ]), array([ 5963, 21004,  9401, 12879, 15144, 20599, 23788, 28747, 39434,\n",
      "       68162, 57892, 75700, 54594, 59475, 56913, 59800, 57217, 56957,\n",
      "       71003, 60013, 79025, 65986, 70295, 78309, 62409, 65477, 50227,\n",
      "       53922, 43110, 50124, 42521, 42897, 45537, 32411, 35083, 31529,\n",
      "       33917, 33250, 33729, 30747, 32778, 30604, 28350, 28560, 29673,\n",
      "       33882, 30881, 30826, 32576, 22827, 26803, 32316, 23234, 25784,\n",
      "       23240, 28287, 27346, 23335, 29026, 25790, 20831, 24767, 26655,\n",
      "       27755, 21527, 22242, 34232, 15626, 16251, 13776, 19351, 14043,\n",
      "       10185, 12667,  9363,  9126,  6436,  7183,  5255,  4880,  4884,\n",
      "        4655,  6512,  5396,  5968,  3656,  4672,  5967,  3219,  3292,\n",
      "       14852,  1693,  1273,  1020,   814,   860,  1191,   362,   164,\n",
      "        1253,    28], dtype=int64))\n",
      "Wall time: 3min 28s\n"
     ]
    }
   ],
   "source": [
    "%%time\n",
    "model_RandomForest_lula_bw, RandomForest_lula_bw, df_train_RandomForest_lula_bw, df_teste_RandomForest_lula_bw = \\\n",
    "train_model_bw(RandomForestClassifier(), df_lula_train, 100)\n",
    "model_RandomForest_lula_bw = model_RandomForest_lula_bw.fit(Bag_of_words_teste(df_train_RandomForest_lula_bw, RandomForest_lula_bw).toarray(), df_train_RandomForest_lula_bw['Sentimento'].str.replace('p','1').replace('x','0').replace('n','-1').astype(int))\n",
    "\n",
    "df_lula = AnaliseSentimentos_bw(df_lula, RandomForest_lula_bw,model_RandomForest_lula_bw, 'predict_bw_RandomForest')\n"
   ]
  },
  {
   "cell_type": "markdown",
   "id": "550b54cb",
   "metadata": {},
   "source": [
    "### Lula - Random Forest - tfidf"
   ]
  },
  {
   "cell_type": "code",
   "execution_count": 26,
   "id": "5f15963a",
   "metadata": {},
   "outputs": [
    {
     "name": "stdout",
     "output_type": "stream",
     "text": [
      "accuracy:\n",
      "0.5135542168674698\n",
      "precision:\n",
      "0.4099318951744024\n",
      "recall:\n",
      "0.628367395616722\n",
      "f1:\n",
      "0.3356627067018357\n",
      "matrix_confusion:\n",
      "[[ 582  659  453]\n",
      " [   0    2    0]\n",
      " [1328 3374 5554]]\n",
      "0.47187905359010746\n",
      "1781\n",
      "(array([0.        , 0.0025    , 0.00666667, ..., 0.99      , 0.99333333,\n",
      "       1.        ]), array([4536,    1,   11, ...,    7,    1,    1], dtype=int64))\n",
      "Wall time: 3min 16s\n"
     ]
    }
   ],
   "source": [
    "%%time\n",
    "model_RandomForest_lula_tfidf, RandomForest_lula_tfidf, df_train_RandomForest_lula_tfidf, df_teste_RandomForest_lula_tfidf = \\\n",
    "train_model_tfidf(RandomForestClassifier(), df_lula_train, 100)\n",
    "model_RandomForest_lula_tfidf = model_RandomForest_lula_tfidf.fit(tfidf_teste(df_train_RandomForest_lula_tfidf, RandomForest_lula_tfidf).toarray(), df_train_RandomForest_lula_tfidf['Sentimento'].str.replace('p','1').replace('x','0').replace('n','-1').astype(int))\n",
    "\n",
    "df_lula = AnaliseSentimentos_tfidf(df_lula, RandomForest_lula_tfidf,model_RandomForest_lula_tfidf, 'predict_tfidf_RandomForest')\n"
   ]
  },
  {
   "cell_type": "markdown",
   "id": "1b0dc0d0",
   "metadata": {},
   "source": [
    "### lula - SVM - bw"
   ]
  },
  {
   "cell_type": "code",
   "execution_count": 27,
   "id": "e149aac8",
   "metadata": {},
   "outputs": [
    {
     "name": "stdout",
     "output_type": "stream",
     "text": [
      "accuracy:\n",
      "0.46151271753681394\n",
      "precision:\n",
      "0.39795402856510625\n",
      "recall:\n",
      "0.5966525733048212\n",
      "f1:\n",
      "0.3090850663312706\n",
      "matrix_confusion:\n",
      "[[ 512  712  470]\n",
      " [   0    2    0]\n",
      " [1321 3933 5002]]\n",
      "0.44702741475556207\n",
      "1287\n",
      "(array([0.04446149, 0.04793937, 0.04824298, ..., 0.81785305, 0.82354507,\n",
      "       0.82905018]), array([ 1,  2,  1, ..., 25,  1,  1], dtype=int64))\n",
      "Wall time: 13min 6s\n"
     ]
    }
   ],
   "source": [
    "%%time\n",
    "model_svc_lula_bw, svc_lula_bw, df_train_svc_lula_bw, df_teste_svc_lula_bw = \\\n",
    "train_model_bw(SVC(probability=True), df_lula_train, 100)\n",
    "model_svc_lula_bw = model_svc_lula_bw.fit(Bag_of_words_teste(df_train_svc_lula_bw, svc_lula_bw).toarray(), df_train_svc_lula_bw['Sentimento'].str.replace('p','1').replace('x','0').replace('n','-1').astype(int))\n",
    "\n",
    "df_lula = AnaliseSentimentos_bw(df_lula, svc_lula_bw,model_svc_lula_bw, 'predict_bw_SVM')"
   ]
  },
  {
   "cell_type": "markdown",
   "id": "da1d180a",
   "metadata": {},
   "source": [
    "### lula - SVM - tfidf"
   ]
  },
  {
   "cell_type": "code",
   "execution_count": 28,
   "id": "48031cd4",
   "metadata": {},
   "outputs": [
    {
     "name": "stdout",
     "output_type": "stream",
     "text": [
      "accuracy:\n",
      "0.5484437751004017\n",
      "precision:\n",
      "0.4100319555159723\n",
      "recall:\n",
      "0.6317355970508006\n",
      "f1:\n",
      "0.34234321683340224\n",
      "matrix_confusion:\n",
      "[[ 520  647  527]\n",
      " [   0    2    0]\n",
      " [1158 3065 6033]]\n",
      "0.48313863612514424\n",
      "1685\n",
      "(array([0.00310619, 0.00343198, 0.00365581, ..., 0.9883467 , 0.98971772,\n",
      "       0.98984457]), array([ 1,  5, 34, ..., 61, 34,  1], dtype=int64))\n",
      "Wall time: 10min 21s\n"
     ]
    }
   ],
   "source": [
    "%%time\n",
    "model_svc_lula_tfidf, svc_lula_tfidf, df_train_svc_lula_tfidf, df_teste_svc_lula_tfidf = \\\n",
    "train_model_tfidf(SVC(probability=True), df_lula_train, 100)\n",
    "model_svc_lula_tfidf = model_svc_lula_tfidf.fit(tfidf_teste(df_train_svc_lula_tfidf, svc_lula_tfidf).toarray(), df_train_svc_lula_tfidf['Sentimento'].str.replace('p','1').replace('x','0').replace('n','-1').astype(int))\n",
    "\n",
    "df_lula = AnaliseSentimentos_tfidf(df_lula, svc_lula_tfidf,model_svc_lula_tfidf, 'predict_tfidf_SVM')"
   ]
  },
  {
   "cell_type": "markdown",
   "id": "2f4d0c75",
   "metadata": {},
   "source": [
    "### Lula - MLP - bw"
   ]
  },
  {
   "cell_type": "code",
   "execution_count": 29,
   "id": "7f0b3ce3",
   "metadata": {},
   "outputs": [
    {
     "name": "stdout",
     "output_type": "stream",
     "text": [
      "accuracy:\n",
      "0.5030120481927711\n",
      "precision:\n",
      "0.3843124689511305\n",
      "recall:\n",
      "0.47537940183486915\n",
      "f1:\n",
      "0.3208598707622176\n",
      "matrix_confusion:\n",
      "[[ 690  515  489]\n",
      " [   0    1    1]\n",
      " [2222 2713 5321]]\n",
      "0.46087460150739384\n",
      "2108\n",
      "(array([4.40526440e-28, 2.74796553e-27, 5.86774776e-27, ...,\n",
      "       1.00000000e+00, 1.00000000e+00, 1.00000000e+00]), array([  1,   1,   1, ...,   1,   8, 210], dtype=int64))\n",
      "Wall time: 8min 8s\n"
     ]
    }
   ],
   "source": [
    "%%time\n",
    "model_mlp_lula_bw, mlp_lula_bw, df_train_mlp_lula_bw, df_teste_mlp_lula_bw = \\\n",
    "train_model_bw(MLPClassifier(max_iter=400), df_lula_train, 100)\n",
    "model_mlp_lula_bw = model_mlp_lula_bw.fit(Bag_of_words_teste(df_train_mlp_lula_bw, mlp_lula_bw).toarray(), df_train_mlp_lula_bw['Sentimento'].str.replace('p','1').replace('x','0').replace('n','-1').astype(int))\n",
    "\n",
    "df_lula = AnaliseSentimentos_bw(df_lula, mlp_lula_bw,model_mlp_lula_bw, 'predict_bw_MLP')"
   ]
  },
  {
   "cell_type": "markdown",
   "id": "3916ac0b",
   "metadata": {},
   "source": [
    "### Lula - MLP - tfidf"
   ]
  },
  {
   "cell_type": "code",
   "execution_count": 30,
   "id": "6b923f49",
   "metadata": {},
   "outputs": [
    {
     "name": "stdout",
     "output_type": "stream",
     "text": [
      "accuracy:\n",
      "0.5311244979919679\n",
      "precision:\n",
      "0.386700495906289\n",
      "recall:\n",
      "0.6435705214513185\n",
      "f1:\n",
      "0.3305280406054398\n",
      "matrix_confusion:\n",
      "[[ 633  495  566]\n",
      " [   0    2    0]\n",
      " [1903 2640 5713]]\n",
      "0.47298088898875384\n",
      "2469\n",
      "(array([5.23077590e-05, 9.41820067e-05, 1.01606001e-04, ...,\n",
      "       9.99596643e-01, 9.99710549e-01, 9.99734884e-01]), array([1, 1, 1, ..., 1, 1, 1], dtype=int64))\n",
      "Wall time: 9min 4s\n"
     ]
    }
   ],
   "source": [
    "%%time\n",
    "model_mlp_lula_tfidf, mlp_lula_tfidf, df_train_mlp_lula_tfidf, df_teste_mlp_lula_tfidf = \\\n",
    "train_model_tfidf(MLPClassifier(max_iter=400), df_lula_train, 100)\n",
    "model_mlp_lula_tfidf = model_mlp_lula_tfidf.fit(Bag_of_words_teste(df_train_mlp_lula_tfidf, mlp_lula_tfidf).toarray(), df_train_mlp_lula_tfidf['Sentimento'].str.replace('p','1').replace('x','0').replace('n','-1').astype(int))\n",
    "\n",
    "df_lula = AnaliseSentimentos_tfidf(df_lula, mlp_lula_tfidf,model_mlp_lula_tfidf, 'predict_tfidf_MLP')"
   ]
  },
  {
   "cell_type": "markdown",
   "id": "a1654d8b",
   "metadata": {},
   "source": [
    "### Lula - KNN - bw"
   ]
  },
  {
   "cell_type": "code",
   "execution_count": 31,
   "id": "8061ec4b",
   "metadata": {},
   "outputs": [
    {
     "name": "stdout",
     "output_type": "stream",
     "text": [
      "accuracy:\n",
      "0.2978580990629183\n",
      "precision:\n",
      "0.36911411945845973\n",
      "recall:\n",
      "0.5197740288596197\n",
      "f1:\n",
      "0.22281456256501642\n",
      "matrix_confusion:\n",
      "[[ 431 1029  234]\n",
      " [   0    2    0]\n",
      " [2009 5120 3127]]\n",
      "0.38537640145170676\n",
      "429\n",
      "(array([0. , 0.2, 0.4, 0.6, 0.8, 1. ]), array([915078, 257327, 730910, 686135, 147602,  58138], dtype=int64))\n",
      "Wall time: 2min 47s\n"
     ]
    }
   ],
   "source": [
    "%%time\n",
    "model_knn_lula_bw, knn_lula_bw, df_train_knn_lula_bw, df_teste_knn_lula_bw = \\\n",
    "train_model_bw(KNeighborsClassifier(), df_lula_train, 100)\n",
    "model_knn_lula_bw = model_knn_lula_bw.fit(Bag_of_words_teste(df_train_knn_lula_bw, knn_lula_bw).toarray(), df_train_knn_lula_bw['Sentimento'].str.replace('p','1').replace('x','0').replace('n','-1').astype(int))\n",
    "\n",
    "df_lula = AnaliseSentimentos_bw(df_lula, knn_lula_bw,model_knn_lula_bw, 'predict_bw_KNN')"
   ]
  },
  {
   "cell_type": "markdown",
   "id": "db128468",
   "metadata": {},
   "source": [
    "### Lula - KNN - tfidf"
   ]
  },
  {
   "cell_type": "code",
   "execution_count": 32,
   "id": "36edb729",
   "metadata": {},
   "outputs": [
    {
     "name": "stdout",
     "output_type": "stream",
     "text": [
      "accuracy:\n",
      "0.5036813922356091\n",
      "precision:\n",
      "0.3863291597165987\n",
      "recall:\n",
      "0.6600149129932139\n",
      "f1:\n",
      "0.32501800223193045\n",
      "matrix_confusion:\n",
      "[[ 798  424  472]\n",
      " [   0    2    0]\n",
      " [2510 2526 5220]]\n",
      "0.4687608667943381\n",
      "2982\n",
      "(array([0. , 0.2, 0.4, 0.6, 0.8, 1. ]), array([542990, 837086, 763165, 390278, 183955,  77716], dtype=int64))\n",
      "Wall time: 3min 5s\n"
     ]
    }
   ],
   "source": [
    "%%time\n",
    "model_knn_lula_tfidf, knn_lula_tfidf, df_train_knn_lula_tfidf, df_teste_knn_lula_tfidf = \\\n",
    "train_model_tfidf(KNeighborsClassifier(), df_lula_train, 100)\n",
    "model_knn_lula_tfidf = model_knn_lula_tfidf.fit(Bag_of_words_teste(df_train_knn_lula_tfidf, knn_lula_tfidf).toarray(), df_train_knn_lula_tfidf['Sentimento'].str.replace('p','1').replace('x','0').replace('n','-1').astype(int))\n",
    "\n",
    "df_lula = AnaliseSentimentos_tfidf(df_lula, knn_lula_tfidf,model_knn_lula_tfidf, 'predict_tfidf_KNN')"
   ]
  },
  {
   "cell_type": "markdown",
   "id": "db094735",
   "metadata": {},
   "source": [
    "# Simone"
   ]
  },
  {
   "cell_type": "markdown",
   "id": "334ad64c",
   "metadata": {},
   "source": [
    "### Simone - Arvore de Decisao - bw"
   ]
  },
  {
   "cell_type": "code",
   "execution_count": 33,
   "id": "0de6efd3",
   "metadata": {},
   "outputs": [
    {
     "name": "stdout",
     "output_type": "stream",
     "text": [
      "accuracy:\n",
      "0.4\n",
      "precision:\n",
      "0.5192376516606431\n",
      "recall:\n",
      "0.6041287188828172\n",
      "f1:\n",
      "0.35624123422159887\n",
      "matrix_confusion:\n",
      "[[ 2  0  0]\n",
      " [20 36  5]\n",
      " [45 11 16]]\n",
      "0.5853356921579117\n",
      "5\n",
      "(array([0., 1.]), array([262324, 131162], dtype=int64))\n",
      "Wall time: 6.57 s\n"
     ]
    }
   ],
   "source": [
    "%%time\n",
    "model_tree_simone_bw, tree_simone_bw, df_train_tree_simone_bw, df_teste_tree_simone_bw = \\\n",
    "train_model_bw(tree.DecisionTreeClassifier(), df_simone_train, 100)\n",
    "model_tree_simone_bw = model_tree_simone_bw.fit(Bag_of_words_teste(df_train_tree_simone_bw, tree_simone_bw), df_train_tree_simone_bw['Sentimento'].str.replace('p','1').replace('x','0').replace('n','-1').astype(int))\n",
    "\n",
    "df_simone = AnaliseSentimentos_bw(df_simone, tree_simone_bw,model_tree_simone_bw, 'predict_bw_ArvoreDeDecisao')\n"
   ]
  },
  {
   "cell_type": "markdown",
   "id": "41f4a8ef",
   "metadata": {},
   "source": [
    "### Simone - Arvore de Decisao - tfidf"
   ]
  },
  {
   "cell_type": "code",
   "execution_count": 34,
   "id": "43ad13f9",
   "metadata": {},
   "outputs": [
    {
     "name": "stdout",
     "output_type": "stream",
     "text": [
      "accuracy:\n",
      "0.6592592592592592\n",
      "precision:\n",
      "0.5274768267726014\n",
      "recall:\n",
      "0.7670006071645415\n",
      "f1:\n",
      "0.546627413884051\n",
      "matrix_confusion:\n",
      "[[ 2  0  0]\n",
      " [ 3 37 21]\n",
      " [ 7 15 50]]\n",
      "0.6250910267701133\n",
      "7\n",
      "(array([0., 1.]), array([262324, 131162], dtype=int64))\n",
      "Wall time: 6.77 s\n"
     ]
    }
   ],
   "source": [
    "%%time\n",
    "model_tree_simone_tfidf, tree_simone_tfidf, df_train_tree_simone_tfidf, df_teste_tree_simone_tfidf = \\\n",
    "train_model_tfidf(tree.DecisionTreeClassifier(), df_simone_train, 100)\n",
    "model_tree_simone_tfidf = model_tree_simone_tfidf.fit(tfidf_teste(df_train_tree_simone_tfidf, tree_simone_tfidf), df_train_tree_simone_tfidf['Sentimento'].str.replace('p','1').replace('x','0').replace('n','-1').astype(int))\n",
    "\n",
    "df_simone = AnaliseSentimentos_tfidf(df_simone, tree_simone_tfidf,model_tree_simone_tfidf, 'predict_tfidf_ArvoreDeDecisao')\n"
   ]
  },
  {
   "cell_type": "markdown",
   "id": "f934ee36",
   "metadata": {},
   "source": [
    "### Simone - Naive Bayes - bw"
   ]
  },
  {
   "cell_type": "code",
   "execution_count": 35,
   "id": "55d83565",
   "metadata": {},
   "outputs": [
    {
     "name": "stdout",
     "output_type": "stream",
     "text": [
      "accuracy:\n",
      "0.6148148148148148\n",
      "precision:\n",
      "0.5055770887166237\n",
      "recall:\n",
      "0.5855343047965998\n",
      "f1:\n",
      "0.4687905534587456\n",
      "matrix_confusion:\n",
      "[[ 1  1  0]\n",
      " [ 6 47  8]\n",
      " [13 24 35]]\n",
      "0.6196861099153903\n",
      "9\n",
      "(array([0.00000000e+000, 9.88131292e-324, 1.48219694e-323, ...,\n",
      "       9.60997685e-088, 2.92225429e-080, 1.00000000e+000]), array([241888,      8,     11, ...,      1,      1, 131162], dtype=int64))\n",
      "Wall time: 9.81 s\n"
     ]
    }
   ],
   "source": [
    "%%time\n",
    "model_nb_simone_bw, nb_simone_bw, df_train_nb_simone_bw, df_teste_nb_simone_bw = \\\n",
    "train_model_bw(GaussianNB(), df_simone_train, 100)\n",
    "model_nb_simone_bw = model_nb_simone_bw.fit(Bag_of_words_teste(df_train_nb_simone_bw, nb_simone_bw).toarray(), df_train_nb_simone_bw['Sentimento'].str.replace('p','1').replace('x','0').replace('n','-1').astype(int))\n",
    "\n",
    "df_simone = AnaliseSentimentos_bw(df_simone, nb_simone_bw,model_nb_simone_bw, 'predict_bw_NaiveBayes')\n"
   ]
  },
  {
   "cell_type": "markdown",
   "id": "713a8608",
   "metadata": {},
   "source": [
    "### Simone - Naive Bayes - tfidf"
   ]
  },
  {
   "cell_type": "code",
   "execution_count": 36,
   "id": "6eeea615",
   "metadata": {},
   "outputs": [
    {
     "name": "stdout",
     "output_type": "stream",
     "text": [
      "accuracy:\n",
      "0.6074074074074074\n",
      "precision:\n",
      "0.5270735524256651\n",
      "recall:\n",
      "0.74210686095932\n",
      "f1:\n",
      "0.4859862359862359\n",
      "matrix_confusion:\n",
      "[[ 2  0  0]\n",
      " [ 9 46  6]\n",
      " [13 25 34]]\n",
      "0.5906435141946571\n",
      "13\n",
      "(array([0.00000000e+000, 9.88131292e-324, 1.97626258e-323, 2.96439388e-323,\n",
      "       4.44659081e-323, 1.28457068e-322, 2.76676762e-322, 4.69362364e-322,\n",
      "       1.63535729e-321, 2.98909716e-321, 3.36458705e-321, 3.88335598e-321,\n",
      "       1.45452926e-320, 2.34038896e-320, 2.53011017e-320, 5.17187918e-320,\n",
      "       8.10267659e-320, 8.83241155e-320, 1.46515167e-319, 2.67477259e-319,\n",
      "       4.74342545e-319, 8.53261252e-319, 2.88466650e-318, 4.44490111e-318,\n",
      "       4.64536330e-318, 2.95709257e-317, 4.25820753e-317, 4.71599295e-317,\n",
      "       1.03894831e-316, 1.05036375e-316, 2.16304973e-316, 3.48793187e-316,\n",
      "       9.46058237e-316, 9.66284346e-316, 1.22488470e-315, 1.72222567e-315,\n",
      "       9.43836863e-315, 1.23249444e-314, 2.16494016e-314, 1.81499323e-313,\n",
      "       4.02632263e-313, 5.23360683e-313, 5.48433084e-313, 6.44222538e-313,\n",
      "       1.75053880e-312, 3.53069622e-312, 3.82994870e-312, 1.02641250e-311,\n",
      "       1.44392961e-311, 2.11950796e-311, 3.61194538e-311, 1.32661285e-310,\n",
      "       1.58468510e-310, 6.83066046e-310, 9.62695114e-310, 2.40425473e-309,\n",
      "       3.87386590e-309, 9.41252944e-309, 2.01975054e-308, 4.91644744e-308,\n",
      "       5.72288010e-308, 1.23063692e-307, 2.10081130e-307, 2.43002490e-307,\n",
      "       3.19974814e-307, 3.41198261e-306, 3.47452369e-306, 2.20291643e-305,\n",
      "       5.63358626e-304, 6.24889661e-304, 1.72600206e-303, 1.82607056e-303,\n",
      "       1.66268420e-302, 2.18236513e-302, 3.68391266e-302, 5.28287047e-302,\n",
      "       1.03983488e-301, 5.15547232e-301, 1.09969789e-300, 1.05947411e-299,\n",
      "       1.34849140e-299, 1.55188815e-299, 2.25696876e-299, 3.36554421e-298,\n",
      "       1.00400041e-297, 2.88635702e-296, 3.64287486e-296, 1.07068509e-295,\n",
      "       9.72704308e-295, 2.61338690e-294, 5.39027717e-294, 5.87052179e-294,\n",
      "       3.12400867e-293, 3.88495274e-293, 7.65621404e-293, 1.34361429e-292,\n",
      "       2.09724710e-292, 3.15082183e-292, 3.79723069e-292, 9.33360174e-292,\n",
      "       1.47105302e-291, 3.44805810e-291, 1.98888357e-290, 7.66373476e-290,\n",
      "       3.66306273e-289, 6.39080133e-289, 1.01821345e-288, 5.31453332e-288,\n",
      "       1.00395354e-287, 7.24317882e-286, 1.95024486e-285, 3.22775000e-285,\n",
      "       1.07369693e-284, 3.54647278e-284, 4.90454348e-284, 9.08221997e-283,\n",
      "       1.55479137e-282, 3.68106951e-282, 4.22184146e-282, 1.70670598e-281,\n",
      "       2.52443160e-281, 3.64786014e-281, 5.73151836e-281, 5.16665692e-280,\n",
      "       9.31628946e-280, 3.56226234e-279, 6.25610342e-279, 6.83809855e-278,\n",
      "       2.24700704e-277, 1.14954294e-276, 1.27443335e-276, 2.34182367e-276,\n",
      "       8.63748775e-276, 6.33629188e-274, 1.94455157e-273, 1.96442231e-271,\n",
      "       4.23478311e-271, 1.42677536e-270, 2.06262858e-270, 1.40771128e-269,\n",
      "       1.66529384e-269, 4.17453832e-269, 8.91760031e-269, 1.78813631e-268,\n",
      "       5.35452036e-268, 6.58602958e-268, 4.05840228e-266, 2.89437801e-265,\n",
      "       3.40552460e-264, 5.38485800e-264, 7.34058608e-263, 3.26234006e-262,\n",
      "       5.03939755e-261, 1.02930513e-259, 1.37116481e-259, 2.59089200e-258,\n",
      "       1.37178996e-257, 1.46002075e-257, 5.01445197e-256, 1.12838798e-255,\n",
      "       6.04764144e-254, 6.71258452e-254, 3.00235433e-253, 7.21082301e-253,\n",
      "       1.28056045e-252, 3.41689069e-251, 2.47993841e-250, 4.92649174e-250,\n",
      "       8.54209591e-250, 1.15988277e-248, 5.27610569e-248, 1.23095011e-245,\n",
      "       2.13665265e-245, 1.62865604e-243, 2.50923051e-242, 2.70747481e-241,\n",
      "       4.05661499e-241, 4.55561834e-241, 4.10817833e-240, 1.45688990e-235,\n",
      "       2.03677366e-234, 2.92018121e-234, 8.71682734e-233, 1.66510336e-229,\n",
      "       3.69733493e-228, 5.43140802e-226, 3.95168905e-225, 1.05863310e-224,\n",
      "       1.85110066e-223, 2.53057641e-223, 8.03125092e-223, 4.18473062e-221,\n",
      "       2.09851237e-220, 9.83299890e-220, 1.52254180e-219, 4.03191753e-219,\n",
      "       9.93419865e-219, 5.80926026e-218, 5.25572404e-217, 1.39869292e-216,\n",
      "       2.81289299e-212, 1.19769021e-211, 3.13521455e-210, 1.08705172e-209,\n",
      "       1.11115513e-209, 2.64759345e-209, 2.84842741e-209, 3.05134667e-209,\n",
      "       5.51248389e-209, 2.42884501e-208, 1.24287803e-206, 6.05323754e-206,\n",
      "       7.20706291e-206, 2.05487391e-203, 6.15870131e-202, 1.68300168e-199,\n",
      "       1.30547289e-196, 1.25241966e-195, 5.30658735e-195, 1.32128588e-194,\n",
      "       5.57171784e-194, 2.97242722e-193, 1.32408950e-192, 4.77986846e-192,\n",
      "       1.04319866e-191, 1.07943840e-191, 3.12723464e-191, 1.54360824e-190,\n",
      "       4.44652265e-190, 3.25463602e-189, 4.71821228e-189, 2.25574796e-188,\n",
      "       2.60095809e-186, 1.90030836e-185, 3.60796476e-184, 3.58327611e-181,\n",
      "       2.59671466e-180, 6.86449831e-180, 1.00170290e-176, 1.61707200e-176,\n",
      "       1.97960403e-176, 6.56161884e-175, 1.32389864e-174, 2.37209322e-171,\n",
      "       5.76884943e-171, 1.02944443e-169, 4.58176837e-169, 1.68534898e-167,\n",
      "       1.89128423e-166, 2.77222694e-166, 6.52120462e-166, 2.22595511e-164,\n",
      "       4.54388775e-164, 4.59574881e-164, 9.26403901e-163, 2.75661077e-161,\n",
      "       8.09694712e-159, 1.24106112e-158, 5.49570653e-158, 5.96398937e-158,\n",
      "       6.34029598e-158, 1.67109879e-157, 1.08144423e-156, 9.84505172e-156,\n",
      "       1.89151126e-155, 3.72231638e-154, 8.94609810e-153, 1.31089897e-152,\n",
      "       4.01788741e-152, 5.14690813e-152, 1.58997867e-151, 3.75983795e-151,\n",
      "       9.89704971e-148, 1.24251038e-147, 1.54333591e-147, 1.95745955e-147,\n",
      "       1.56203444e-146, 3.34156134e-146, 4.06748661e-145, 1.66870569e-144,\n",
      "       2.03775885e-144, 3.44111217e-144, 6.37483067e-143, 7.23355687e-143,\n",
      "       9.83357215e-143, 1.10861708e-142, 1.23441972e-142, 3.00536566e-142,\n",
      "       6.45526314e-142, 7.18663018e-142, 2.17283366e-141, 2.62253838e-141,\n",
      "       3.91011264e-141, 8.31354678e-141, 1.55675738e-140, 2.01599848e-140,\n",
      "       2.31799779e-140, 1.06153785e-139, 1.64816450e-139, 3.45235111e-139,\n",
      "       1.22902711e-138, 7.76401366e-138, 1.08206725e-137, 3.34030657e-137,\n",
      "       2.24976897e-135, 2.56667598e-135, 2.88504290e-135, 3.75095328e-135,\n",
      "       4.15942733e-135, 5.02442587e-135, 9.14247179e-135, 9.27963445e-135,\n",
      "       1.20364443e-134, 2.73928742e-134, 7.16436744e-134, 1.00769742e-133,\n",
      "       1.20445442e-133, 1.51598045e-133, 2.98763340e-133, 3.66727546e-133,\n",
      "       2.65387660e-132, 5.09145293e-132, 9.78000298e-132, 9.78002163e-132,\n",
      "       1.16815309e-131, 2.06885207e-131, 5.34745388e-131, 8.32924521e-131,\n",
      "       1.90105498e-130, 2.35490251e-130, 3.80990835e-130, 3.80991562e-130,\n",
      "       3.80992289e-130, 3.80993015e-130, 3.80993742e-130, 6.99874482e-130,\n",
      "       8.35027176e-130, 2.07149094e-129, 3.07470270e-129, 3.64051886e-129,\n",
      "       8.88161997e-129, 9.32899522e-128, 1.00153587e-127, 5.95165456e-126,\n",
      "       6.15835895e-126, 1.10523807e-125, 2.39297614e-125, 3.88832805e-125,\n",
      "       4.19165956e-125, 1.82334993e-124, 1.89166291e-123, 4.90024525e-123,\n",
      "       5.86759922e-123, 5.89029600e-123, 2.31379001e-122, 4.02343002e-122,\n",
      "       7.50110022e-122, 7.00949277e-121, 1.48744005e-120, 1.82730609e-120,\n",
      "       2.41921037e-120, 2.66877820e-120, 2.94891486e-120, 4.41518696e-120,\n",
      "       6.63544354e-120, 3.30263855e-119, 3.72264538e-119, 5.67503842e-119,\n",
      "       5.94188202e-119, 7.39354279e-119, 9.73939726e-119, 1.42071994e-118,\n",
      "       1.87415099e-118, 4.99815234e-118, 6.36812286e-118, 2.02545996e-117,\n",
      "       2.10414000e-117, 2.20889441e-117, 3.14215384e-117, 3.15197847e-117,\n",
      "       3.33605825e-117, 8.09305599e-117, 9.99950073e-117, 2.30526502e-116,\n",
      "       3.25570072e-116, 6.81766434e-116, 1.82074126e-115, 6.74570488e-115,\n",
      "       7.70575533e-115, 1.38468700e-114, 1.63386250e-114, 1.79825023e-114,\n",
      "       9.08608719e-114, 1.47884098e-113, 5.26907011e-113, 8.32877485e-113,\n",
      "       1.04351135e-112, 1.04781203e-112, 1.20311940e-112, 2.06444665e-112,\n",
      "       3.43820099e-112, 7.04470864e-112, 1.20040986e-111, 1.65706437e-111,\n",
      "       1.79571341e-111, 5.13452321e-111, 1.00105078e-110, 1.04492253e-110,\n",
      "       1.34589920e-110, 1.45074787e-110, 2.28998948e-110, 2.40785941e-110,\n",
      "       3.51683007e-110, 7.21195283e-110, 8.03479726e-110, 3.45120227e-109,\n",
      "       1.33150576e-108, 5.08886376e-108, 9.40553806e-108, 1.23388719e-106,\n",
      "       1.89066389e-106, 2.31398186e-106, 2.60856610e-106, 5.70444971e-106,\n",
      "       6.40052446e-106, 7.28396447e-106, 7.42929969e-106, 1.30514918e-105,\n",
      "       2.75084341e-105, 3.12228033e-105, 3.22519620e-105, 7.09135337e-105,\n",
      "       7.92451512e-105, 2.93370970e-104, 4.74441089e-104, 7.78465179e-104,\n",
      "       1.10175317e-103, 2.69953606e-103, 2.99804934e-103, 5.78472642e-103,\n",
      "       7.07230547e-103, 3.10697443e-102, 3.60288826e-102, 4.60466812e-102,\n",
      "       7.69609206e-102, 1.02581560e-101, 1.10284444e-101, 1.36042059e-101,\n",
      "       2.16245914e-101, 3.75159610e-101, 6.90075756e-101, 9.47166190e-101,\n",
      "       1.32285901e-100, 1.70473836e-100, 2.84217360e-100, 3.00981264e-100,\n",
      "       3.05033149e-100, 4.16821585e-100, 4.87922918e-100, 5.66395885e-100,\n",
      "       9.39504987e-100, 1.08132911e-099, 2.02731049e-099, 3.34780390e-099,\n",
      "       4.50593476e-099, 6.78589361e-099, 2.22829951e-098, 7.57880867e-098,\n",
      "       1.81398748e-097, 2.46035817e-097, 5.68708357e-097, 1.27540527e-096,\n",
      "       1.60847813e-096, 5.93743634e-096, 8.11701488e-096, 8.78851882e-096,\n",
      "       3.07720259e-095, 5.07199775e-095, 8.79492288e-095, 2.28846805e-094,\n",
      "       3.55936659e-094, 3.91860555e-094, 6.29386072e-094, 1.03380623e-093,\n",
      "       1.33935130e-093, 1.06976496e-092, 1.33796628e-092, 1.36928953e-092,\n",
      "       9.97127048e-092, 4.06941075e-091, 5.10176194e-091, 6.83077723e-091,\n",
      "       8.51142190e-091, 1.82858681e-090, 2.17495208e-090, 2.77674629e-090,\n",
      "       3.33591878e-090, 3.46548692e-090, 3.62958132e-090, 4.48255244e-090,\n",
      "       4.90826479e-090, 4.73845353e-089, 4.78919278e-089, 1.04774422e-088,\n",
      "       1.98193849e-088, 3.00748941e-088, 4.54278340e-088, 1.05774225e-087,\n",
      "       1.07469342e-087, 2.10340716e-087, 3.53085824e-087, 3.65314366e-087,\n",
      "       3.13482977e-086, 3.37792385e-086, 6.93539362e-086, 1.04266977e-085,\n",
      "       2.68509474e-085, 2.82715662e-085, 3.49204969e-085, 3.58012606e-085,\n",
      "       4.78930080e-085, 6.91779819e-085, 1.48062996e-084, 4.11497980e-084,\n",
      "       1.52021508e-083, 1.76936925e-083, 2.99011064e-083, 1.59529113e-082,\n",
      "       1.62795398e-082, 3.26689658e-082, 3.65741635e-082, 7.59059251e-082,\n",
      "       9.40379235e-082, 3.65761782e-081, 9.59604831e-081, 1.01176966e-080,\n",
      "       1.69531647e-080, 2.14757299e-080, 2.80417442e-080, 7.38869462e-080,\n",
      "       1.10265716e-079, 1.12347902e-079, 1.57277357e-079, 2.01530941e-077,\n",
      "       2.91055783e-077, 3.65294981e-077, 9.03375994e-077, 1.22210382e-076,\n",
      "       1.41654502e-076, 2.34252986e-076, 3.84274544e-076, 5.54417117e-076,\n",
      "       2.76279752e-075, 3.24728802e-075, 8.56331230e-075, 9.26021316e-075,\n",
      "       9.27668920e-075, 1.51567040e-074, 1.96286402e-074, 2.88923817e-074,\n",
      "       7.84182529e-074, 2.54767269e-073, 2.60626988e-073, 3.98499851e-073,\n",
      "       8.30790938e-073, 2.76223083e-072, 3.38390543e-071, 3.67627855e-071,\n",
      "       4.21439180e-071, 4.73144917e-071, 6.13691168e-071, 8.77279775e-071,\n",
      "       9.81076981e-071, 1.70669040e-070, 1.97265949e-070, 2.20659068e-070,\n",
      "       6.83927173e-070, 7.04559326e-070, 1.16502169e-069, 1.92835060e-069,\n",
      "       2.86733884e-069, 4.29268417e-069, 5.43409448e-069, 1.80276935e-068,\n",
      "       1.88048617e-068, 2.45779602e-068, 3.39749606e-068, 6.01521554e-068,\n",
      "       2.63500096e-067, 6.40233644e-067, 7.41984570e-067, 1.14150533e-066,\n",
      "       1.20534035e-066, 1.75511723e-066, 6.05530404e-066, 7.24561908e-066,\n",
      "       1.25537876e-065, 1.68367399e-065, 2.70113795e-065, 2.83212006e-065,\n",
      "       2.99363425e-065, 3.08379650e-065, 3.71796273e-065, 4.37975702e-065,\n",
      "       9.22592731e-065, 1.15884071e-064, 1.89175043e-064, 2.57950424e-064,\n",
      "       2.71340402e-064, 6.82569531e-064, 1.41413705e-063, 2.38401777e-063,\n",
      "       2.60022818e-063, 2.64489621e-063, 5.49462934e-063, 9.19338347e-063,\n",
      "       9.85280507e-063, 1.28854324e-062, 1.36103856e-062, 1.79205923e-062,\n",
      "       3.16802894e-062, 7.38419493e-062, 1.71765139e-061, 2.67167478e-061,\n",
      "       2.82107605e-061, 3.61209937e-061, 8.85699286e-061, 4.93309376e-060,\n",
      "       5.07944583e-060, 1.19708589e-059, 1.46541222e-059, 2.06900124e-059,\n",
      "       9.08193758e-059, 9.68427514e-059, 2.53150741e-058, 4.28637733e-058,\n",
      "       7.42520316e-058, 8.39415436e-058, 9.44028893e-058, 1.05480818e-057,\n",
      "       1.50351833e-057, 1.78364096e-057, 2.62019669e-057, 2.99705458e-057,\n",
      "       3.06222612e-057, 6.54088414e-057, 6.68209618e-057, 1.21104499e-056,\n",
      "       1.58312429e-056, 1.81344434e-056, 3.09682948e-056, 5.23879655e-056,\n",
      "       1.71788766e-055, 2.20850591e-055, 2.49801791e-055, 2.85033973e-055,\n",
      "       2.96366229e-055, 3.31280406e-055, 4.04194994e-055, 4.18471510e-055,\n",
      "       4.37586059e-055, 5.73775210e-055, 6.65344312e-055, 1.21370451e-054,\n",
      "       1.84160127e-054, 2.06071717e-054, 2.71180848e-054, 3.06862723e-054,\n",
      "       3.13338957e-054, 5.47380007e-054, 8.22834107e-054, 1.12662895e-053,\n",
      "       2.14837559e-053, 2.39417566e-053, 3.57041670e-053, 4.41661774e-053,\n",
      "       5.00664081e-053, 8.48368734e-053, 6.06538047e-052, 8.44404318e-052,\n",
      "       8.66023517e-052, 1.48024462e-051, 1.72075459e-051, 2.05098860e-051,\n",
      "       3.46382597e-051, 6.83673740e-051, 7.85874707e-051, 8.55778849e-051,\n",
      "       1.33580093e-050, 1.35228197e-050, 3.01176707e-050, 5.30652555e-050,\n",
      "       1.52584741e-049, 1.90348451e-049, 1.92127688e-049, 2.32196211e-049,\n",
      "       3.55880424e-049, 3.73976024e-049, 4.53687933e-049, 8.68249389e-049,\n",
      "       1.72277446e-048, 1.87458955e-048, 2.31755255e-048, 1.16079819e-047,\n",
      "       1.66723712e-047, 2.00639631e-047, 9.62191053e-047, 3.02224055e-046,\n",
      "       9.15805349e-046, 2.27709853e-045, 3.51109346e-045, 5.14581409e-045,\n",
      "       6.45991291e-045, 1.64371368e-044, 3.29150578e-044, 4.94676784e-044,\n",
      "       6.50307359e-044, 9.25347186e-044, 1.45900518e-043, 2.24357852e-043,\n",
      "       2.98554495e-043, 3.92928236e-043, 4.61628241e-043, 1.23514686e-042,\n",
      "       1.43332426e-042, 2.84074933e-042, 4.44678561e-042, 4.66766611e-042,\n",
      "       4.84444548e-042, 5.49876047e-042, 5.66883648e-042, 8.06499074e-042,\n",
      "       1.61369996e-041, 3.02880384e-041, 3.76016566e-041, 3.83616370e-041,\n",
      "       7.85402186e-041, 1.20093831e-040, 2.00554413e-040, 2.27908129e-040,\n",
      "       2.32744473e-040, 2.78493870e-040, 4.42750253e-040, 4.77588852e-040,\n",
      "       6.41650769e-040, 1.04699522e-039, 1.36367561e-039, 1.60301013e-039,\n",
      "       1.74899512e-039, 1.84807139e-039, 2.15579810e-039, 2.30936900e-039,\n",
      "       4.18358795e-039, 4.34099016e-039, 1.38025079e-038, 2.09975975e-038,\n",
      "       2.12111814e-038, 2.23789998e-038, 2.63239759e-038, 3.07721515e-038,\n",
      "       3.47763446e-038, 8.30711304e-038, 1.56513050e-037, 4.89795723e-037,\n",
      "       1.48311248e-036, 1.73107247e-036, 1.95646451e-036, 2.72105912e-036,\n",
      "       6.33900786e-036, 1.02291278e-035, 1.09790913e-035, 1.45760140e-035,\n",
      "       2.68819572e-035, 4.20232084e-035, 4.38466807e-035, 4.45966739e-035,\n",
      "       5.82464976e-035, 6.58095348e-035, 8.50273496e-035, 1.16175830e-034,\n",
      "       1.19413884e-034, 1.32096112e-034, 1.89901042e-034, 2.69744560e-034,\n",
      "       2.81705167e-034, 4.90051924e-034, 7.44839339e-034, 1.21126465e-033,\n",
      "       1.61841121e-033, 1.86698693e-032, 4.20694208e-032, 6.50910688e-032,\n",
      "       6.71498521e-032, 1.00358807e-031, 1.05862212e-031, 1.11673899e-031,\n",
      "       1.48336108e-031, 4.87294555e-031, 8.66197519e-031, 9.37755326e-031,\n",
      "       1.07642352e-030, 3.11472235e-030, 5.78883815e-030, 7.49395277e-030,\n",
      "       9.31543799e-030, 1.98560774e-029, 2.34793261e-029, 2.77214033e-029,\n",
      "       3.10383216e-029, 3.28760329e-029, 1.50602976e-028, 6.22716443e-028,\n",
      "       2.27867216e-027, 2.32571188e-027, 1.31105972e-026, 3.77080951e-026,\n",
      "       4.94150246e-026, 8.11358276e-026, 1.24597633e-025, 2.13387070e-025,\n",
      "       2.79142138e-025, 3.82592173e-025, 7.82249642e-025, 1.34369996e-024,\n",
      "       1.54806417e-024, 1.66075164e-024, 2.19773467e-024, 2.55380668e-024,\n",
      "       4.90189434e-024, 7.93836958e-024, 1.23365819e-023, 3.10166696e-023,\n",
      "       3.24971175e-023, 5.88092760e-023, 1.09391469e-022, 1.61057956e-022,\n",
      "       2.15344126e-022, 2.44770813e-022, 2.47132957e-022, 5.87195092e-022,\n",
      "       8.91412930e-022, 1.01655790e-021, 1.94143137e-021, 2.87006160e-021,\n",
      "       9.73763288e-021, 9.95638331e-021, 2.25813725e-020, 2.47230926e-020,\n",
      "       3.28847301e-020, 3.37485678e-020, 4.47115268e-020, 6.01431814e-020,\n",
      "       8.18736466e-020, 9.97951576e-020, 3.15385638e-019, 1.02933488e-018,\n",
      "       1.40085700e-018, 3.01364459e-018, 3.33007063e-018, 6.88347281e-018,\n",
      "       9.39458654e-018, 1.16872653e-017, 2.29308878e-017, 2.40359570e-017,\n",
      "       2.97591610e-017, 5.56912728e-017, 1.16908583e-016, 4.39354953e-016,\n",
      "       5.11526991e-016, 5.19693583e-016, 8.50503256e-016, 1.39837184e-015,\n",
      "       1.89762997e-015, 6.76723648e-015, 2.41922339e-014, 6.78880650e-014,\n",
      "       7.17917463e-014, 9.93002643e-014, 1.42729588e-013, 2.77670609e-013,\n",
      "       5.60235557e-013, 1.49359427e-012, 1.61925332e-012, 4.65437859e-012,\n",
      "       6.37392942e-012, 3.17724327e-011, 4.76118695e-011, 5.04318602e-011,\n",
      "       7.26266712e-011, 9.73838684e-011, 1.04886492e-010, 1.93449424e-010,\n",
      "       6.62852507e-010, 1.85896002e-009, 1.87070997e-009, 2.19458048e-009,\n",
      "       3.53677584e-009, 4.56520051e-009, 8.52621970e-009, 2.11942007e-008,\n",
      "       2.26493520e-008, 2.29697196e-008, 6.95086009e-008, 1.35444362e-007,\n",
      "       2.51836462e-007, 4.80689548e-007, 4.83344887e-007, 7.32191752e-007,\n",
      "       1.47855516e-006, 3.64732761e-006, 4.20338305e-006, 6.13471356e-006,\n",
      "       8.71063219e-006, 1.13681244e-005, 1.29327089e-005, 1.43243316e-005,\n",
      "       1.62041807e-005, 1.63960870e-005, 4.20819535e-005, 5.76660135e-005,\n",
      "       7.09775808e-005, 2.94099102e-004, 4.36177170e-004, 8.56154907e-004,\n",
      "       1.10776865e-003, 1.31672238e-003, 1.65530348e-003, 6.56704401e-003,\n",
      "       1.06901784e-002, 1.42313516e-002, 2.59868757e-002, 4.15849869e-002,\n",
      "       2.71138835e-001, 2.94892237e-001, 4.65497888e-001, 5.34502112e-001,\n",
      "       7.05107763e-001, 7.28860637e-001, 9.58415013e-001, 9.74012689e-001,\n",
      "       9.85768514e-001, 9.89309822e-001, 9.93432956e-001, 9.98344697e-001,\n",
      "       9.98683278e-001, 9.98892231e-001, 9.99143845e-001, 9.99564266e-001,\n",
      "       9.99705901e-001, 9.99929022e-001, 9.99942334e-001, 9.99957918e-001,\n",
      "       9.99983604e-001, 9.99983796e-001, 9.99985676e-001, 9.99987067e-001,\n",
      "       9.99988632e-001, 9.99991289e-001, 9.99993865e-001, 9.99995797e-001,\n",
      "       9.99996353e-001, 9.99998521e-001, 9.99999268e-001, 9.99999517e-001,\n",
      "       9.99999748e-001, 9.99999977e-001, 9.99999977e-001, 9.99999979e-001,\n",
      "       9.99999991e-001, 9.99999995e-001, 9.99999996e-001, 9.99999998e-001,\n",
      "       9.99999998e-001, 9.99999999e-001, 1.00000000e+000, 1.00000000e+000,\n",
      "       1.00000000e+000, 1.00000000e+000, 1.00000000e+000, 1.00000000e+000,\n",
      "       1.00000000e+000, 1.00000000e+000, 1.00000000e+000, 1.00000000e+000,\n",
      "       1.00000000e+000, 1.00000000e+000]), array([251360,      3,      3,      1,      4,      1,      1,      4,\n",
      "            1,      2,      1,      1,      1,      1,      1,      1,\n",
      "            1,      1,      1,      1,      4,      1,      2,      1,\n",
      "            3,      1,      1,      1,      1,      1,      1,      1,\n",
      "            1,      1,      4,      1,      1,      2,      1,      2,\n",
      "            1,      1,      1,      1,     53,      1,      1,      1,\n",
      "            1,      2,     15,      1,      6,      1,      8,      1,\n",
      "            1,     19,      1,      1,      1,      1,      1,      1,\n",
      "            1,      1,      1,      1,      1,      1,      1,      2,\n",
      "            1,      1,      1,      1,      1,      2,      1,     17,\n",
      "            1,      4,      1,      1,     13,      1,      2,      7,\n",
      "            1,      1,      1,      3,      1,      1,      2,      1,\n",
      "            1,      1,      1,      1,      1,      1,      1,      1,\n",
      "           18,      1,      1,      1,      1,      1,      1,      1,\n",
      "            1,      2,      1,      1,      1,      1,      1,      4,\n",
      "            1,      2,      1,      1,      1,      1,      3,      1,\n",
      "            1,      1,      1,      1,      1,      1,      1,     11,\n",
      "            1,      6,      1,      2,      1,      7,      1,      1,\n",
      "            1,      1,      1,      1,      1,      1,      1,      1,\n",
      "            1,      1,      1,      6,      1,      1,      5,      1,\n",
      "           22,      1,      1,      1,      7,      1,      4,      1,\n",
      "            5,      1,      1,      1,      1,      1,      2,      1,\n",
      "            1,      1,      1,      1,      1,      2,      3,      1,\n",
      "            7,      2,      1,      1,      1,      2,      1,      1,\n",
      "            1,      1,      1,      1,      1,      2,      1,     18,\n",
      "            1,      3,      1,     15,      2,      1,      1,      1,\n",
      "            1,      1,      1,      1,      1,      1,      1,      1,\n",
      "            2,      1,      1,      1,    139,      1,      1,      1,\n",
      "            1,      1,      1,      3,      1,      1,      5,      1,\n",
      "            1,     12,      1,      3,      1,      1,      1,      1,\n",
      "            1,      1,      1,      1,      1,      1,      1,      2,\n",
      "            1,     30,      1,      1,      1,     83,      1,      1,\n",
      "            3,      4,      2,      1,      1,      1,      3,      1,\n",
      "            1,      1,     17,      4,     13,      1,      6,      1,\n",
      "            7,     43,     13,      9,      2,      1,      2,   5322,\n",
      "            2,      1,    560,      3,      5,      4,      1,      9,\n",
      "            1,     22,      1,      1,      1,     29,      1,      2,\n",
      "            2,     13,      1,      1,      1,      1,      2,      1,\n",
      "            4,      1,      1,      1,      1,      1,      9,      1,\n",
      "           12,      1,      1,      1,      1,      1,      1,      1,\n",
      "            1,      2,      1,      1,      1,      1,      1,      1,\n",
      "            3,      1,      1,      7,     16,      4,      6,     50,\n",
      "            1,      1,      1,      1,      1,      1,      1,      4,\n",
      "            2,      2,      1,      3,      1,      1,    360,      1,\n",
      "            5,      1,      1,      1,      2,      1,      2,      1,\n",
      "            1,      1,     69,      3,      1,      1,      1,     13,\n",
      "            1,      1,     23,      7,      2,      3,      2,      1,\n",
      "            2,     23,      1,      1,      4,      3,      7,      1,\n",
      "            1,      2,      1,      1,      5,      1,     11,      1,\n",
      "            1,      4,      1,      1,      1,     17,      1,      1,\n",
      "            1,      6,      1,    207,      1,      2,      2,      2,\n",
      "            1,      2,      1,      2,     20,     13,     65,      1,\n",
      "            1,      8,      3,      1,      1,      3,      1,      2,\n",
      "            2,      2,      1,      1,      1,      1,      1,      1,\n",
      "            1,      1,      1,      1,      1,      2,      2,      1,\n",
      "            1,     83,      1,      1,      1,      1,      1,      2,\n",
      "            1,      3,      1,      1,      1,      1,      5,      1,\n",
      "           46,      1,      1,      1,      3,      6,      1,      1,\n",
      "            1,      1,      1,      1,      1,      1,      1,      2,\n",
      "            1,     59,      3,      1,     48,      1,     28,      1,\n",
      "            2,      1,      1,      1,      2,      1,     17,      1,\n",
      "           14,      2,      6,      1,     13,      1,      1,      2,\n",
      "            1,      1,      3,      1,      1,      1,      2,      1,\n",
      "            1,      1,      1,      2,      6,      1,      1,      1,\n",
      "            2,      1,     10,      1,      1,      1,      1,      1,\n",
      "            1,      1,      1,      1,      1,      1,      1,      2,\n",
      "           20,      1,      1,      1,      1,      1,      1,      8,\n",
      "            3,      5,      1,      5,      1,      2,      1,      9,\n",
      "            1,      1,      1,      2,      1,      1,      1,      1,\n",
      "            4,      3,      2,      1,      1,      1,      1,      1,\n",
      "            1,      1,      1,      1,      1,      1,      1,      1,\n",
      "            1,      3,      1,      1,      1,      1,      3,      1,\n",
      "            1,      1,     25,      1,      1,      1,      1,      1,\n",
      "            1,      1,      2,      3,      1,      1,      1,      2,\n",
      "            6,      2,      1,      1,      1,      1,      1,      1,\n",
      "            1,      1,      1,      4,      2,    323,      1,      2,\n",
      "            1,      1,      1,      1,      1,      1,      6,      3,\n",
      "            1,      1,      1,      1,      5,      1,      2,      2,\n",
      "            1,      1,      1,      2,      1,      5,      1,      2,\n",
      "            1,      1,      1,      1,      1,      1,      1,      1,\n",
      "            1,      1,      1,      1,      1,      1,      1,      1,\n",
      "            1,      3,      2,      1,      1,      1,      4,      2,\n",
      "            1,      3,      1,      1,      1,      1,      1,      1,\n",
      "            2,      3,      1,      1,      1,      2,      3,      1,\n",
      "            1,      2,      1,      1,      2,      2,      3,      1,\n",
      "           13,      1,      1,      2,      1,      1,      1,      1,\n",
      "            1,      1,      1,      2,      1,      1,      1,      4,\n",
      "            1,      1,      3,      1,      1,      1,      1,      1,\n",
      "            1,      1,      1,      1,      1,      4,      1,      1,\n",
      "            8,      2,      2,      1,     14,      3,      5,      4,\n",
      "            1,      1,      1,      1,      1,      3,      2,      1,\n",
      "            1,      1,      1,      1,      1,      1,    385,      1,\n",
      "            1,      3,      1,      1,      1,      1,      1,      1,\n",
      "            1,      1,      1,     19,      9,      1,      1,      1,\n",
      "            1,      3,      1,      1,      2,      1,      1,      6,\n",
      "            1,      1,      1,      1,      5,      2,      1,      1,\n",
      "            1,      1,      2,     10,      1,      2,      1,      1,\n",
      "            1,      1,      9,      1,      1,      3,      1,      1,\n",
      "            2,      3,      1,    118,      1,      1,      1,      2,\n",
      "            1,      1,      1,      1,      2,      1,      3,      1,\n",
      "            2,      1,      1,      2,      1,      1,      1,      1,\n",
      "            1,      1,      2,      1,      1,      2,      1,      1,\n",
      "            1,      8,      5,      1,      2,      2,      1,      1,\n",
      "            1,      1,      1,      1,      1,      1,      2,      1,\n",
      "            1,      1,      1,      1,      1,      1,      4,      1,\n",
      "            1,      1,      1,      1,      1,      1,      1,      1,\n",
      "            1,      1,      1,      1,      1,      1,      1,      2,\n",
      "            1,      1,      1,      2,      1,      8,      1,      2,\n",
      "            1,      1,      1,      2,      4,      4,      1,      1,\n",
      "            1,      1,      3,      1,      1,      1,      2,      1,\n",
      "            1,      1,      2,     13,      2,     12,      9,      1,\n",
      "            7,      1,      2,      9,      1,      5,      1,    107,\n",
      "            2,      1,      1,      1,      2,      1,      1,      1,\n",
      "            1,      1,     12,      1,      1,      1,      1,      1,\n",
      "            1,      1,    647,      1,      1,      1,      1,      1,\n",
      "            1,      1,      1,      1,      1,      1,    117,      1,\n",
      "            1,      1,      1,      1,      1,      1,      1,      1,\n",
      "            1,      1,      1,      1,      1,      1,      1,    117,\n",
      "            1,      1,      1,      1,      1,      1,      1,      1,\n",
      "            1,      1,      1,    647,      1,      1,      1,      1,\n",
      "            1,      1,      1,     12,      1,      1,      2,      1,\n",
      "            1,      1,      2,      1,      5,      1,      9,      2,\n",
      "            1,      7,      1,      9,     12,      2,     13,      3,\n",
      "            1, 130284], dtype=int64))\n",
      "Wall time: 10.1 s\n"
     ]
    }
   ],
   "source": [
    "%%time\n",
    "model_nb_simone_tfidf, nb_simone_tfidf, df_train_nb_simone_tfidf, df_teste_nb_simone_tfidf = \\\n",
    "train_model_tfidf(GaussianNB(), df_simone_train, 100)\n",
    "model_nb_simone_tfidf = model_nb_simone_tfidf.fit(tfidf_teste(df_train_nb_simone_tfidf, nb_simone_tfidf).toarray(), df_train_nb_simone_tfidf['Sentimento'].str.replace('p','1').replace('x','0').replace('n','-1').astype(int))\n",
    "\n",
    "df_simone = AnaliseSentimentos_tfidf(df_simone, nb_simone_tfidf,model_nb_simone_tfidf, 'predict_tfidf_NaiveBayes')\n"
   ]
  },
  {
   "cell_type": "markdown",
   "id": "a7e64f12",
   "metadata": {},
   "source": [
    "### Simone - Random Forest - bw"
   ]
  },
  {
   "cell_type": "code",
   "execution_count": 37,
   "id": "31aaf2a6",
   "metadata": {},
   "outputs": [
    {
     "name": "stdout",
     "output_type": "stream",
     "text": [
      "accuracy:\n",
      "0.6592592592592592\n",
      "precision:\n",
      "0.5198412698412698\n",
      "recall:\n",
      "0.6158166363084395\n",
      "f1:\n",
      "0.521591804570528\n",
      "matrix_confusion:\n",
      "[[ 1  1  0]\n",
      " [ 1 50 10]\n",
      " [ 5 29 38]]\n",
      "0.6577417860560378\n",
      "7\n",
      "(array([0.  , 0.01, 0.02, 0.03, 0.04, 0.05, 0.06, 0.07, 0.08, 0.09, 0.1 ,\n",
      "       0.11, 0.12, 0.13, 0.14, 0.15, 0.16, 0.17, 0.18, 0.19, 0.2 , 0.21,\n",
      "       0.22, 0.23, 0.24, 0.25, 0.26, 0.27, 0.28, 0.29, 0.3 , 0.31, 0.32,\n",
      "       0.33, 0.34, 0.35, 0.36, 0.37, 0.38, 0.39, 0.4 , 0.41, 0.42, 0.43,\n",
      "       0.44, 0.45, 0.46, 0.47, 0.48, 0.49, 0.5 , 0.51, 0.52, 0.53, 0.54,\n",
      "       0.55, 0.56, 0.57, 0.58, 0.59, 0.6 , 0.61, 0.62, 0.63, 0.64, 0.65,\n",
      "       0.66, 0.67, 0.68, 0.69, 0.7 , 0.71, 0.72, 0.73, 0.74, 0.75, 0.76,\n",
      "       0.77, 0.78, 0.79, 0.8 , 0.81, 0.82, 0.83, 0.84, 0.85, 0.86, 0.87,\n",
      "       0.88, 0.89, 0.9 , 0.91, 0.92, 0.93, 0.95, 0.96, 0.97, 0.98, 0.99,\n",
      "       1.  ]), array([ 5711,  2452, 13279,  3848,  3828,  5891,  3021,  1313, 15536,\n",
      "        2417,  2406,  4242,  4223,  8663,  5224, 12846, 14475,  4745,\n",
      "        4925,  6167,  3013, 10288,  2396,  6689,  5846,  9479,  4655,\n",
      "        5347,  3734,  7294,  5684,  3351,  4660,  4918,  8130,  4968,\n",
      "        3200,  8352,  3048,  4199,  5089, 10675, 10580,  3717,  3091,\n",
      "        4728,  6631,  2779,  4993,  1806,  7873, 10722,  8855,  6073,\n",
      "        4977,  3480,  8357,  3495,  3539,  2008,  4756,  1709,  6689,\n",
      "        6133,   799,  2412,  2543,  1924,   440,  9084,   190,   320,\n",
      "         761,   624,   145,   126,   192,   324,   424,    43,    65,\n",
      "         103,    54,    25,    16,    21,    17,     4,     7,     3,\n",
      "           9,    42,  5459,    40,     5,    12,     6,    10,    18,\n",
      "           1], dtype=int64))\n",
      "Wall time: 29.2 s\n"
     ]
    }
   ],
   "source": [
    "%%time\n",
    "model_RandomForest_simone_bw, RandomForest_simone_bw, df_train_RandomForest_simone_bw, df_teste_RandomForest_simone_bw = \\\n",
    "train_model_bw(RandomForestClassifier(), df_simone_train, 100)\n",
    "model_RandomForest_simone_bw = model_RandomForest_simone_bw.fit(Bag_of_words_teste(df_train_RandomForest_simone_bw, RandomForest_simone_bw).toarray(), df_train_RandomForest_simone_bw['Sentimento'].str.replace('p','1').replace('x','0').replace('n','-1').astype(int))\n",
    "\n",
    "df_simone = AnaliseSentimentos_bw(df_simone, RandomForest_simone_bw,model_RandomForest_simone_bw, 'predict_bw_RandomForest')\n"
   ]
  },
  {
   "cell_type": "markdown",
   "id": "80e45eb2",
   "metadata": {},
   "source": [
    "### Simone - Random Forest - tfidf"
   ]
  },
  {
   "cell_type": "code",
   "execution_count": 38,
   "id": "01ad477f",
   "metadata": {},
   "outputs": [
    {
     "name": "stdout",
     "output_type": "stream",
     "text": [
      "accuracy:\n",
      "0.7037037037037037\n",
      "precision:\n",
      "0.5584249084249084\n",
      "recall:\n",
      "0.796448087431694\n",
      "f1:\n",
      "0.5724985112246735\n",
      "matrix_confusion:\n",
      "[[ 2  0  0]\n",
      " [ 6 39 16]\n",
      " [ 5 13 54]]\n",
      "0.6577688026962449\n",
      "5\n",
      "(array([0.  , 0.01, 0.02, 0.03, 0.04, 0.05, 0.06, 0.07, 0.08, 0.09, 0.1 ,\n",
      "       0.11, 0.12, 0.13, 0.14, 0.15, 0.16, 0.17, 0.18, 0.19, 0.2 , 0.21,\n",
      "       0.22, 0.23, 0.24, 0.25, 0.26, 0.27, 0.28, 0.29, 0.3 , 0.31, 0.32,\n",
      "       0.33, 0.34, 0.35, 0.36, 0.37, 0.38, 0.39, 0.4 , 0.41, 0.42, 0.43,\n",
      "       0.44, 0.45, 0.46, 0.47, 0.48, 0.49, 0.5 , 0.51, 0.52, 0.53, 0.54,\n",
      "       0.55, 0.56, 0.57, 0.58, 0.59, 0.6 , 0.61, 0.62, 0.63, 0.64, 0.65,\n",
      "       0.66, 0.67, 0.68, 0.69, 0.7 , 0.71, 0.72, 0.73, 0.74, 0.75, 0.76,\n",
      "       0.77, 0.78, 0.79, 0.8 , 0.81, 0.82, 0.83, 0.84, 0.85, 0.86, 0.87,\n",
      "       0.88, 0.89, 0.9 , 0.91, 0.92, 0.93, 0.94, 0.95, 0.96, 0.97, 0.98,\n",
      "       0.99, 1.  ]), array([16577,  3884,  4799,  3971,  4295, 10179,  1303,  2259, 16622,\n",
      "        5680,  1979,  8947,  1840,  5967,  3140,  3632,  3665,  3715,\n",
      "        3522,  3889,  5113,  8630,  3594,  5727, 14634,  2286,  7808,\n",
      "        7033, 11112,  3215,  6296,  9194,  7159,  2814,  4962,  3570,\n",
      "        6683,  9810,  2644,  7961,  9796,  3680,  8779,  4783,  5017,\n",
      "        2835,  3719,  7685,  5696, 13352, 10185,  4971,  8257,  3635,\n",
      "        1749,  3257,  7319,  1223,  2251,  1531,   893,  1340,   927,\n",
      "        2820,  1331,  2800,  2889,  1174,  9727,   779,   623,   601,\n",
      "        5850,   174,   239,  2641,   121,   199,    73,  1411,   158,\n",
      "         243,   370,    67,   398,    86,    34,    22,    36,    11,\n",
      "          16,     6,    19,     6,    27,  5499,     8,     4,     6,\n",
      "           4,    24], dtype=int64))\n",
      "Wall time: 28.5 s\n"
     ]
    }
   ],
   "source": [
    "%%time\n",
    "model_RandomForest_simone_tfidf, RandomForest_simone_tfidf, df_train_RandomForest_simone_tfidf, df_teste_RandomForest_simone_tfidf = \\\n",
    "train_model_tfidf(RandomForestClassifier(), df_simone_train, 100)\n",
    "model_RandomForest_simone_tfidf = model_RandomForest_simone_tfidf.fit(tfidf_teste(df_train_RandomForest_simone_tfidf, RandomForest_simone_tfidf).toarray(), df_train_RandomForest_simone_tfidf['Sentimento'].str.replace('p','1').replace('x','0').replace('n','-1').astype(int))\n",
    "\n",
    "df_simone = AnaliseSentimentos_tfidf(df_simone, RandomForest_simone_tfidf,model_RandomForest_simone_tfidf, 'predict_tfidf_RandomForest')\n"
   ]
  },
  {
   "cell_type": "markdown",
   "id": "3d5aa5d4",
   "metadata": {},
   "source": [
    "### Simone - SVM - bw"
   ]
  },
  {
   "cell_type": "code",
   "execution_count": 39,
   "id": "4d91ccc7",
   "metadata": {},
   "outputs": [
    {
     "name": "stdout",
     "output_type": "stream",
     "text": [
      "accuracy:\n",
      "0.5777777777777777\n",
      "precision:\n",
      "0.5481316137566138\n",
      "recall:\n",
      "0.7110655737704917\n",
      "f1:\n",
      "0.470953732370141\n",
      "matrix_confusion:\n",
      "[[ 2  0  0]\n",
      " [11 31 19]\n",
      " [23  4 45]]\n",
      "0.5746758190366068\n",
      "7\n",
      "(array([0.01553689, 0.01667148, 0.01729065, ..., 0.95128424, 0.95154149,\n",
      "       0.95430718]), array([ 1,  9,  1, ...,  2, 30,  2], dtype=int64))\n",
      "Wall time: 22.4 s\n"
     ]
    }
   ],
   "source": [
    "%%time\n",
    "model_svc_simone_bw, svc_simone_bw, df_train_svc_simone_bw, df_teste_svc_simone_bw = \\\n",
    "train_model_bw(SVC(probability=True), df_simone_train, 100)\n",
    "model_svc_simone_bw = model_svc_simone_bw.fit(Bag_of_words_teste(df_train_svc_simone_bw, svc_simone_bw).toarray(), df_train_svc_simone_bw['Sentimento'].str.replace('p','1').replace('x','0').replace('n','-1').astype(int))\n",
    "\n",
    "df_simone = AnaliseSentimentos_bw(df_simone, svc_simone_bw,model_svc_simone_bw, 'predict_bw_SVM')"
   ]
  },
  {
   "cell_type": "markdown",
   "id": "bc6dce97",
   "metadata": {},
   "source": [
    "### Simone - SVM - tfidf"
   ]
  },
  {
   "cell_type": "code",
   "execution_count": 40,
   "id": "eaa57f49",
   "metadata": {},
   "outputs": [
    {
     "name": "stdout",
     "output_type": "stream",
     "text": [
      "accuracy:\n",
      "0.6148148148148148\n",
      "precision:\n",
      "0.5674390968508615\n",
      "recall:\n",
      "0.7325440194292653\n",
      "f1:\n",
      "0.4903298435213328\n",
      "matrix_confusion:\n",
      "[[ 2  0  0]\n",
      " [16 29 16]\n",
      " [16  4 52]]\n",
      "0.6012819436540686\n",
      "16\n",
      "(array([0.0022314 , 0.00267737, 0.00345845, ..., 0.99114985, 0.99338244,\n",
      "       0.99431015]), array([5326,    5, 5326, ...,    4,    5, 5326], dtype=int64))\n",
      "Wall time: 23.5 s\n"
     ]
    }
   ],
   "source": [
    "%%time\n",
    "model_svc_simone_tfidf, svc_simone_tfidf, df_train_svc_simone_tfidf, df_teste_svc_simone_tfidf = \\\n",
    "train_model_tfidf(SVC(probability=True), df_simone_train, 100)\n",
    "model_svc_simone_tfidf = model_svc_simone_tfidf.fit(tfidf_teste(df_train_svc_simone_tfidf, svc_simone_tfidf).toarray(), df_train_svc_simone_tfidf['Sentimento'].str.replace('p','1').replace('x','0').replace('n','-1').astype(int))\n",
    "\n",
    "df_simone = AnaliseSentimentos_tfidf(df_simone, svc_simone_tfidf,model_svc_simone_tfidf, 'predict_tfidf_SVM')"
   ]
  },
  {
   "cell_type": "markdown",
   "id": "0069f365",
   "metadata": {},
   "source": [
    "### Simone - MLP - bw"
   ]
  },
  {
   "cell_type": "code",
   "execution_count": 41,
   "id": "76b62e0a",
   "metadata": {},
   "outputs": [
    {
     "name": "stdout",
     "output_type": "stream",
     "text": [
      "accuracy:\n",
      "0.5925925925925926\n",
      "precision:\n",
      "0.5165151887333169\n",
      "recall:\n",
      "0.5632969034608379\n",
      "f1:\n",
      "0.46510338636417686\n",
      "matrix_confusion:\n",
      "[[ 1  0  1]\n",
      " [ 8 37 16]\n",
      " [21  9 42]]\n",
      "0.5702011105544619\n",
      "6\n",
      "(array([3.64815882e-08, 4.21766154e-07, 5.01434695e-07, ...,\n",
      "       9.99997310e-01, 9.99998113e-01, 9.99998731e-01]), array([ 1, 19,  3, ...,  1,  1,  1], dtype=int64))\n",
      "Wall time: 1min 39s\n"
     ]
    }
   ],
   "source": [
    "%%time\n",
    "model_mlp_simone_bw, mlp_simone_bw, df_train_mlp_simone_bw, df_teste_mlp_simone_bw = \\\n",
    "train_model_bw(MLPClassifier(max_iter=400), df_simone_train, 100)\n",
    "model_mlp_simone_bw = model_mlp_simone_bw.fit(Bag_of_words_teste(df_train_mlp_simone_bw, mlp_simone_bw).toarray(), df_train_mlp_simone_bw['Sentimento'].str.replace('p','1').replace('x','0').replace('n','-1').astype(int))\n",
    "\n",
    "df_simone = AnaliseSentimentos_bw(df_simone, mlp_simone_bw,model_mlp_simone_bw, 'predict_bw_MLP')"
   ]
  },
  {
   "cell_type": "markdown",
   "id": "55494fc2",
   "metadata": {},
   "source": [
    "### Simone - MLP - tfidf"
   ]
  },
  {
   "cell_type": "code",
   "execution_count": 42,
   "id": "e187fac8",
   "metadata": {},
   "outputs": [
    {
     "name": "stdout",
     "output_type": "stream",
     "text": [
      "accuracy:\n",
      "0.6148148148148148\n",
      "precision:\n",
      "0.5107570025602812\n",
      "recall:\n",
      "0.7425622343655132\n",
      "f1:\n",
      "0.4946530348434102\n",
      "matrix_confusion:\n",
      "[[ 2  0  0]\n",
      " [ 8 41 12]\n",
      " [12 20 40]]\n",
      "0.5906967716460049\n",
      "12\n",
      "(array([1.00259699e-04, 1.09903167e-04, 1.23524115e-04, ...,\n",
      "       9.99150944e-01, 9.99242045e-01, 9.99245544e-01]), array([1, 1, 1, ..., 1, 1, 1], dtype=int64))\n",
      "Wall time: 1min 53s\n"
     ]
    }
   ],
   "source": [
    "%%time\n",
    "model_mlp_simone_tfidf, mlp_simone_tfidf, df_train_mlp_simone_tfidf, df_teste_mlp_simone_tfidf = \\\n",
    "train_model_tfidf(MLPClassifier(max_iter=400), df_simone_train, 100)\n",
    "model_mlp_simone_tfidf = model_mlp_simone_tfidf.fit(Bag_of_words_teste(df_train_mlp_simone_tfidf, mlp_simone_tfidf).toarray(), df_train_mlp_simone_tfidf['Sentimento'].str.replace('p','1').replace('x','0').replace('n','-1').astype(int))\n",
    "\n",
    "df_simone = AnaliseSentimentos_tfidf(df_simone, mlp_simone_tfidf,model_mlp_simone_tfidf, 'predict_tfidf_MLP')"
   ]
  },
  {
   "cell_type": "markdown",
   "id": "fa1f6e12",
   "metadata": {},
   "source": [
    "### Simone - KNN - bw"
   ]
  },
  {
   "cell_type": "code",
   "execution_count": 43,
   "id": "4caa76ae",
   "metadata": {},
   "outputs": [
    {
     "name": "stdout",
     "output_type": "stream",
     "text": [
      "accuracy:\n",
      "0.6814814814814815\n",
      "precision:\n",
      "0.4943249701314218\n",
      "recall:\n",
      "0.4501366120218579\n",
      "f1:\n",
      "0.4538581693220867\n",
      "matrix_confusion:\n",
      "[[ 0  0  2]\n",
      " [ 4 29 28]\n",
      " [ 2  7 63]]\n",
      "0.6071774614419219\n",
      "1\n",
      "(array([0. , 0.2, 0.4, 0.6, 0.8, 1. ]), array([ 32896, 196164,  48366, 106917,   3552,   5591], dtype=int64))\n",
      "Wall time: 8.39 s\n"
     ]
    }
   ],
   "source": [
    "%%time\n",
    "model_knn_simone_bw, knn_simone_bw, df_train_knn_simone_bw, df_teste_knn_simone_bw = \\\n",
    "train_model_bw(KNeighborsClassifier(), df_simone_train, 100)\n",
    "model_knn_simone_bw = model_knn_simone_bw.fit(Bag_of_words_teste(df_train_knn_simone_bw, knn_simone_bw).toarray(), df_train_knn_simone_bw['Sentimento'].str.replace('p','1').replace('x','0').replace('n','-1').astype(int))\n",
    "\n",
    "df_simone = AnaliseSentimentos_bw(df_simone, knn_simone_bw,model_knn_simone_bw, 'predict_bw_KNN')"
   ]
  },
  {
   "cell_type": "markdown",
   "id": "ec6ca58e",
   "metadata": {},
   "source": [
    "### Simone - KNN - tfidf"
   ]
  },
  {
   "cell_type": "code",
   "execution_count": 44,
   "id": "f1fb5efe",
   "metadata": {},
   "outputs": [
    {
     "name": "stdout",
     "output_type": "stream",
     "text": [
      "accuracy:\n",
      "0.674074074074074\n",
      "precision:\n",
      "0.5625180375180375\n",
      "recall:\n",
      "0.7812689738919247\n",
      "f1:\n",
      "0.5377661125692622\n",
      "matrix_confusion:\n",
      "[[ 2  0  0]\n",
      " [ 9 43  9]\n",
      " [13 13 46]]\n",
      "0.6389067995133246\n",
      "13\n",
      "(array([0. , 0.2, 0.4, 0.6, 0.8, 1. ]), array([ 70874, 101496, 138248,  60856,  14810,   7202], dtype=int64))\n",
      "Wall time: 22.4 s\n"
     ]
    }
   ],
   "source": [
    "%%time\n",
    "model_knn_simone_tfidf, knn_simone_tfidf, df_train_knn_simone_tfidf, df_teste_knn_simone_tfidf = \\\n",
    "train_model_tfidf(KNeighborsClassifier(), df_simone_train, 100)\n",
    "model_knn_simone_tfidf = model_knn_simone_tfidf.fit(Bag_of_words_teste(df_train_knn_simone_tfidf, knn_simone_tfidf).toarray(), df_train_knn_simone_tfidf['Sentimento'].str.replace('p','1').replace('x','0').replace('n','-1').astype(int))\n",
    "\n",
    "df_simone = AnaliseSentimentos_tfidf(df_simone, knn_simone_tfidf,model_knn_simone_tfidf, 'predict_tfidf_KNN')"
   ]
  },
  {
   "cell_type": "markdown",
   "id": "e4e720fd",
   "metadata": {},
   "source": [
    "# Ciro"
   ]
  },
  {
   "cell_type": "markdown",
   "id": "5beb534f",
   "metadata": {},
   "source": [
    "### Ciro - Arvore de Decisao - bw"
   ]
  },
  {
   "cell_type": "code",
   "execution_count": 45,
   "id": "0a317ba8",
   "metadata": {},
   "outputs": [
    {
     "name": "stdout",
     "output_type": "stream",
     "text": [
      "accuracy:\n",
      "0.2699822380106572\n",
      "precision:\n",
      "0.3351409523226501\n",
      "recall:\n",
      "0.4868631665599561\n",
      "f1:\n",
      "0.1456507505707185\n",
      "matrix_confusion:\n",
      "[[   1    1    0]\n",
      " [   5   18    3]\n",
      " [2229 2694 1805]]\n",
      "0.4490685876668354\n",
      "1503\n",
      "(array([0., 1.]), array([996132, 498066], dtype=int64))\n",
      "Wall time: 45.3 s\n"
     ]
    }
   ],
   "source": [
    "%%time\n",
    "model_tree_ciro_bw, tree_ciro_bw, df_train_tree_ciro_bw, df_teste_tree_ciro_bw = \\\n",
    "train_model_bw(tree.DecisionTreeClassifier(), df_ciro_train, 100)\n",
    "model_tree_ciro_bw = model_tree_ciro_bw.fit(Bag_of_words_teste(df_train_tree_ciro_bw, tree_ciro_bw), df_train_tree_ciro_bw['Sentimento'].str.replace('p','1').replace('x','0').replace('n','-1').astype(int))\n",
    "\n",
    "df_ciro = AnaliseSentimentos_bw(df_ciro, tree_ciro_bw,model_tree_ciro_bw, 'predict_bw_ArvoreDeDecisao')\n"
   ]
  },
  {
   "cell_type": "markdown",
   "id": "6ad56845",
   "metadata": {},
   "source": [
    "### Ciro - Arvore de Decisao - tfidf"
   ]
  },
  {
   "cell_type": "code",
   "execution_count": 46,
   "id": "a26c1c24",
   "metadata": {},
   "outputs": [
    {
     "name": "stdout",
     "output_type": "stream",
     "text": [
      "accuracy:\n",
      "0.5057726465364121\n",
      "precision:\n",
      "0.33576421798978234\n",
      "recall:\n",
      "0.6685493460166468\n",
      "f1:\n",
      "0.2298762030229988\n",
      "matrix_confusion:\n",
      "[[   2    0    0]\n",
      " [   6   13    7]\n",
      " [1756 1570 3402]]\n",
      "0.43499060339146\n",
      "1756\n",
      "(array([0., 1.]), array([996132, 498066], dtype=int64))\n",
      "Wall time: 45.5 s\n"
     ]
    }
   ],
   "source": [
    "%%time\n",
    "model_tree_ciro_tfidf, tree_ciro_tfidf, df_train_tree_ciro_tfidf, df_teste_tree_ciro_tfidf = \\\n",
    "train_model_tfidf(tree.DecisionTreeClassifier(), df_ciro_train, 100)\n",
    "model_tree_ciro_tfidf = model_tree_ciro_tfidf.fit(tfidf_teste(df_train_tree_ciro_tfidf, tree_ciro_tfidf), df_train_tree_ciro_tfidf['Sentimento'].str.replace('p','1').replace('x','0').replace('n','-1').astype(int))\n",
    "\n",
    "df_ciro = AnaliseSentimentos_tfidf(df_ciro, tree_ciro_tfidf,model_tree_ciro_tfidf, 'predict_tfidf_ArvoreDeDecisao')\n"
   ]
  },
  {
   "cell_type": "markdown",
   "id": "ac990958",
   "metadata": {},
   "source": [
    "### Ciro - Naive Bayes - bw"
   ]
  },
  {
   "cell_type": "code",
   "execution_count": 47,
   "id": "1039c570",
   "metadata": {},
   "outputs": [
    {
     "name": "stdout",
     "output_type": "stream",
     "text": [
      "accuracy:\n",
      "0.3932800473653049\n",
      "precision:\n",
      "0.33594657780324844\n",
      "recall:\n",
      "0.6181247903899509\n",
      "f1:\n",
      "0.19407499652824775\n",
      "matrix_confusion:\n",
      "[[   2    0    0]\n",
      " [  10   12    4]\n",
      " [2704 1381 2643]]\n",
      "0.42711898318739855\n",
      "2269\n",
      "(array([0.00000000e+000, 9.88131292e-324, 1.48219694e-323, ...,\n",
      "       1.07710351e-003, 9.98922896e-001, 1.00000000e+000]), array([934397,     38,     78, ...,      3,      3, 498063], dtype=int64))\n",
      "Wall time: 1min 30s\n"
     ]
    }
   ],
   "source": [
    "%%time\n",
    "model_nb_ciro_bw, nb_ciro_bw, df_train_nb_ciro_bw, df_teste_nb_ciro_bw = \\\n",
    "train_model_bw(GaussianNB(), df_ciro_train, 100)\n",
    "model_nb_ciro_bw = model_nb_ciro_bw.fit(Bag_of_words_teste(df_train_nb_ciro_bw, nb_ciro_bw).toarray(), df_train_nb_ciro_bw['Sentimento'].str.replace('p','1').replace('x','0').replace('n','-1').astype(int))\n",
    "\n",
    "df_ciro = AnaliseSentimentos_bw(df_ciro, nb_ciro_bw,model_nb_ciro_bw, 'predict_bw_NaiveBayes')\n"
   ]
  },
  {
   "cell_type": "markdown",
   "id": "5f03aad2",
   "metadata": {},
   "source": [
    "### Ciro - Naive Bayes - tfidf"
   ]
  },
  {
   "cell_type": "code",
   "execution_count": 48,
   "id": "0fbc84a3",
   "metadata": {},
   "outputs": [
    {
     "name": "stdout",
     "output_type": "stream",
     "text": [
      "accuracy:\n",
      "0.5267910005920663\n",
      "precision:\n",
      "0.3364742509447365\n",
      "recall:\n",
      "0.6500426842281777\n",
      "f1:\n",
      "0.2370532540795254\n",
      "matrix_confusion:\n",
      "[[   2    0    0]\n",
      " [  10   11    5]\n",
      " [2079 1103 3546]]\n",
      "0.43759029746112643\n",
      "2079\n",
      "(array([0.0e+000, 9.9e-324, 1.5e-323, ..., 1.0e+000, 1.0e+000, 1.0e+000]), array([954855,     23,     19, ...,      1,      4, 497864], dtype=int64))\n",
      "Wall time: 1min 31s\n"
     ]
    }
   ],
   "source": [
    "%%time\n",
    "model_nb_ciro_tfidf, nb_ciro_tfidf, df_train_nb_ciro_tfidf, df_teste_nb_ciro_tfidf = \\\n",
    "train_model_tfidf(GaussianNB(), df_ciro_train, 100)\n",
    "model_nb_ciro_tfidf = model_nb_ciro_tfidf.fit(tfidf_teste(df_train_nb_ciro_tfidf, nb_ciro_tfidf).toarray(), df_train_nb_ciro_tfidf['Sentimento'].str.replace('p','1').replace('x','0').replace('n','-1').astype(int))\n",
    "\n",
    "df_ciro = AnaliseSentimentos_tfidf(df_ciro, nb_ciro_tfidf,model_nb_ciro_tfidf, 'predict_tfidf_NaiveBayes')\n"
   ]
  },
  {
   "cell_type": "markdown",
   "id": "84080ded",
   "metadata": {},
   "source": [
    "### Ciro - Random Forest - bw"
   ]
  },
  {
   "cell_type": "code",
   "execution_count": 49,
   "id": "c5b089d3",
   "metadata": {},
   "outputs": [
    {
     "name": "stdout",
     "output_type": "stream",
     "text": [
      "accuracy:\n",
      "0.3845470692717584\n",
      "precision:\n",
      "0.33472005650236686\n",
      "recall:\n",
      "0.6279726516052319\n",
      "f1:\n",
      "0.18956283893693512\n",
      "matrix_confusion:\n",
      "[[   2    0    0]\n",
      " [   5   13    8]\n",
      " [2093 2052 2583]]\n",
      "0.412277544850584\n",
      "1305\n",
      "(array([0.  , 0.01, 0.02, 0.03, 0.04, 0.05, 0.06, 0.07, 0.08, 0.09, 0.1 ,\n",
      "       0.11, 0.12, 0.13, 0.14, 0.15, 0.16, 0.17, 0.18, 0.19, 0.2 , 0.21,\n",
      "       0.22, 0.23, 0.24, 0.25, 0.26, 0.27, 0.28, 0.29, 0.3 , 0.31, 0.32,\n",
      "       0.33, 0.34, 0.35, 0.36, 0.37, 0.38, 0.39, 0.4 , 0.41, 0.42, 0.43,\n",
      "       0.44, 0.45, 0.46, 0.47, 0.48, 0.49, 0.5 , 0.51, 0.52, 0.53, 0.54,\n",
      "       0.55, 0.56, 0.57, 0.58, 0.59, 0.6 , 0.61, 0.62, 0.63, 0.64, 0.65,\n",
      "       0.66, 0.67, 0.68, 0.69, 0.7 , 0.71, 0.72, 0.73, 0.74, 0.75, 0.76,\n",
      "       0.77, 0.78, 0.79, 0.8 , 0.81, 0.82, 0.83, 0.84, 0.85, 0.86, 0.87,\n",
      "       0.88, 0.89, 0.9 , 0.91, 0.92, 0.93, 0.94, 0.95, 0.96, 0.97, 0.98,\n",
      "       0.99, 1.  ]), array([ 1265,  7670, 13147, 10080,  6899,  8285,  9990, 10480, 13651,\n",
      "       17574, 29920, 16420, 18160, 22497, 24374, 26838, 32340, 37905,\n",
      "       34062, 32184, 32637, 31046, 30288, 29834, 35890, 37304, 31570,\n",
      "       28203, 32557, 34295, 29212, 35806, 33388, 30019, 37018, 29586,\n",
      "       26418, 29667, 22761, 23712, 23966, 24592, 21786, 27628, 26074,\n",
      "       18113, 18800, 18177, 18926, 19201, 17278, 18726, 17153, 14095,\n",
      "       16938, 12563,  9736, 13349, 10725, 11754, 12034,  7390,  7378,\n",
      "       12761,  6429,  8339, 11231,  4715,  4463,  9601,  4554,  5722,\n",
      "        3359,  2878, 11354,  3517,  2802,  1740,  1050,  1205,  1098,\n",
      "         520,  1347,  1165,   624,   675,   546,   737,  1133,   781,\n",
      "         737,   531,   578,   593,   628,   569,  4234,   461,    30,\n",
      "          25,   132], dtype=int64))\n",
      "Wall time: 2min 3s\n"
     ]
    }
   ],
   "source": [
    "%%time\n",
    "model_RandomForest_ciro_bw, RandomForest_ciro_bw, df_train_RandomForest_ciro_bw, df_teste_RandomForest_ciro_bw = \\\n",
    "train_model_bw(RandomForestClassifier(), df_ciro_train, 100)\n",
    "model_RandomForest_ciro_bw = model_RandomForest_ciro_bw.fit(Bag_of_words_teste(df_train_RandomForest_ciro_bw, RandomForest_ciro_bw).toarray(), df_train_RandomForest_ciro_bw['Sentimento'].str.replace('p','1').replace('x','0').replace('n','-1').astype(int))\n",
    "\n",
    "df_ciro = AnaliseSentimentos_bw(df_ciro, RandomForest_ciro_bw,model_RandomForest_ciro_bw, 'predict_bw_RandomForest')\n"
   ]
  },
  {
   "cell_type": "markdown",
   "id": "682ac138",
   "metadata": {},
   "source": [
    "### Ciro - Random Forest - tfidf"
   ]
  },
  {
   "cell_type": "code",
   "execution_count": 50,
   "id": "08ec4371",
   "metadata": {},
   "outputs": [
    {
     "name": "stdout",
     "output_type": "stream",
     "text": [
      "accuracy:\n",
      "0.5134695085849615\n",
      "precision:\n",
      "0.3349006141319262\n",
      "recall:\n",
      "0.6072708009390531\n",
      "f1:\n",
      "0.23110765030979538\n",
      "matrix_confusion:\n",
      "[[   2    0    0]\n",
      " [   8    8   10]\n",
      " [2069 1200 3459]]\n",
      "0.42168714349143405\n",
      "2069\n",
      "(array([0.  , 0.01, 0.02, 0.03, 0.04, 0.05, 0.06, 0.07, 0.08, 0.09, 0.1 ,\n",
      "       0.11, 0.12, 0.13, 0.14, 0.15, 0.16, 0.17, 0.18, 0.19, 0.2 , 0.21,\n",
      "       0.22, 0.23, 0.24, 0.25, 0.26, 0.27, 0.28, 0.29, 0.3 , 0.31, 0.32,\n",
      "       0.33, 0.34, 0.35, 0.36, 0.37, 0.38, 0.39, 0.4 , 0.41, 0.42, 0.43,\n",
      "       0.44, 0.45, 0.46, 0.47, 0.48, 0.49, 0.5 , 0.51, 0.52, 0.53, 0.54,\n",
      "       0.55, 0.56, 0.57, 0.58, 0.59, 0.6 , 0.61, 0.62, 0.63, 0.64, 0.65,\n",
      "       0.66, 0.67, 0.68, 0.69, 0.7 , 0.71, 0.72, 0.73, 0.74, 0.75, 0.76,\n",
      "       0.77, 0.78, 0.79, 0.8 , 0.81, 0.82, 0.83, 0.84, 0.85, 0.86, 0.87,\n",
      "       0.88, 0.89, 0.9 , 0.91, 0.92, 0.93, 0.94, 0.95, 0.96, 0.97, 0.98]), array([  306,  3262,  2011,  3271,  5560,  6281,  7256,  9144,  8406,\n",
      "        9795, 13570, 17106, 18610, 19554, 20235, 26408, 22638, 29846,\n",
      "       32136, 32503, 32797, 35315, 41850, 31038, 40736, 31988, 35250,\n",
      "       35602, 44268, 32623, 32242, 37161, 41790, 35728, 49815, 35048,\n",
      "       36414, 33821, 44744, 40637, 26945, 26785, 22995, 27430, 20465,\n",
      "       20215, 27110, 21954, 19456, 18760, 19424, 17338, 13143, 11510,\n",
      "       17388, 13252, 15298,  9154,  8275,  9666,  9181, 10280,  7472,\n",
      "        6391,  8156,  4769,  5601,  4410,  4552,  3255,  2920,  2061,\n",
      "        3077,  1967,  1864,  1882,  1048,   853,  1659,   916,   349,\n",
      "        1127,   354,  3545,   289,   182,   226,   254,   583,   707,\n",
      "         351,   201,    72,    34,   187,    18,    41,     9,    27],\n",
      "      dtype=int64))\n",
      "Wall time: 1min 56s\n"
     ]
    }
   ],
   "source": [
    "%%time\n",
    "model_RandomForest_ciro_tfidf, RandomForest_ciro_tfidf, df_train_RandomForest_ciro_tfidf, df_teste_RandomForest_ciro_tfidf = \\\n",
    "train_model_tfidf(RandomForestClassifier(), df_ciro_train, 100)\n",
    "model_RandomForest_ciro_tfidf = model_RandomForest_ciro_tfidf.fit(tfidf_teste(df_train_RandomForest_ciro_tfidf, RandomForest_ciro_tfidf).toarray(), df_train_RandomForest_ciro_tfidf['Sentimento'].str.replace('p','1').replace('x','0').replace('n','-1').astype(int))\n",
    "\n",
    "df_ciro = AnaliseSentimentos_tfidf(df_ciro, RandomForest_ciro_tfidf,model_RandomForest_ciro_tfidf, 'predict_tfidf_RandomForest')\n"
   ]
  },
  {
   "cell_type": "markdown",
   "id": "a15fd085",
   "metadata": {},
   "source": [
    "### Ciro - SVM - bw"
   ]
  },
  {
   "cell_type": "code",
   "execution_count": 51,
   "id": "c67acaa5",
   "metadata": {},
   "outputs": [
    {
     "name": "stdout",
     "output_type": "stream",
     "text": [
      "accuracy:\n",
      "0.2470396684428656\n",
      "precision:\n",
      "0.33744428254432707\n",
      "recall:\n",
      "0.4025580048172201\n",
      "f1:\n",
      "0.14078854438268093\n",
      "matrix_confusion:\n",
      "[[   1    0    1]\n",
      " [  12   12    2]\n",
      " [4221  851 1656]]\n",
      "0.3645319052449232\n",
      "3322\n",
      "(array([0.02240704, 0.02252773, 0.02496058, ..., 0.83151511, 0.83761853,\n",
      "       0.8625048 ]), array([6, 1, 2, ..., 6, 1, 1], dtype=int64))\n",
      "Wall time: 5min 14s\n"
     ]
    }
   ],
   "source": [
    "%%time\n",
    "model_svc_ciro_bw, svc_ciro_bw, df_train_svc_ciro_bw, df_teste_svc_ciro_bw = \\\n",
    "train_model_bw(SVC(probability=True), df_ciro_train, 100)\n",
    "model_svc_ciro_bw = model_svc_ciro_bw.fit(Bag_of_words_teste(df_train_svc_ciro_bw, svc_ciro_bw).toarray(), df_train_svc_ciro_bw['Sentimento'].str.replace('p','1').replace('x','0').replace('n','-1').astype(int))\n",
    "\n",
    "df_ciro = AnaliseSentimentos_bw(df_ciro, svc_ciro_bw,model_svc_ciro_bw, 'predict_bw_SVM')"
   ]
  },
  {
   "cell_type": "markdown",
   "id": "9e0fa02e",
   "metadata": {},
   "source": [
    "### Ciro - SVM - tfidf"
   ]
  },
  {
   "cell_type": "code",
   "execution_count": 52,
   "id": "8c6ce0c5",
   "metadata": {},
   "outputs": [
    {
     "name": "stdout",
     "output_type": "stream",
     "text": [
      "accuracy:\n",
      "0.5207223208999407\n",
      "precision:\n",
      "0.33804133084785515\n",
      "recall:\n",
      "0.6735533095521204\n",
      "f1:\n",
      "0.23807800549024974\n",
      "matrix_confusion:\n",
      "[[   2    0    0]\n",
      " [   9   13    4]\n",
      " [2336  889 3503]]\n",
      "0.44259874169754154\n",
      "2336\n",
      "(array([0.14646846, 0.15036453, 0.15494565, ..., 0.56595912, 0.57124158,\n",
      "       0.57583995]), array([10,  2,  1, ...,  6,  2, 10], dtype=int64))\n",
      "Wall time: 5min 32s\n"
     ]
    }
   ],
   "source": [
    "%%time\n",
    "model_svc_ciro_tfidf, svc_ciro_tfidf, df_train_svc_ciro_tfidf, df_teste_svc_ciro_tfidf = \\\n",
    "train_model_tfidf(SVC(probability=True), df_ciro_train, 100)\n",
    "model_svc_ciro_tfidf = model_svc_ciro_tfidf.fit(tfidf_teste(df_train_svc_ciro_tfidf, svc_ciro_tfidf).toarray(), df_train_svc_ciro_tfidf['Sentimento'].str.replace('p','1').replace('x','0').replace('n','-1').astype(int))\n",
    "\n",
    "df_ciro = AnaliseSentimentos_tfidf(df_ciro, svc_ciro_tfidf,model_svc_ciro_tfidf, 'predict_tfidf_SVM')"
   ]
  },
  {
   "cell_type": "markdown",
   "id": "285e38f4",
   "metadata": {},
   "source": [
    "### Ciro - MLP - bw"
   ]
  },
  {
   "cell_type": "code",
   "execution_count": 53,
   "id": "6daba2f4",
   "metadata": {},
   "outputs": [
    {
     "name": "stdout",
     "output_type": "stream",
     "text": [
      "accuracy:\n",
      "0.43220840734162225\n",
      "precision:\n",
      "0.3351844180687204\n",
      "recall:\n",
      "0.6566968505137352\n",
      "f1:\n",
      "0.20669888714699527\n",
      "matrix_confusion:\n",
      "[[   2    0    0]\n",
      " [   2   14   10]\n",
      " [2095 1729 2904]]\n",
      "0.42644599138702194\n",
      "1823\n",
      "(array([4.64868497e-22, 5.54149967e-22, 5.64662805e-22, ...,\n",
      "       1.00000000e+00, 1.00000000e+00, 1.00000000e+00]), array([ 5,  2,  2, ...,  2,  1, 41], dtype=int64))\n",
      "Wall time: 4min 22s\n"
     ]
    }
   ],
   "source": [
    "%%time\n",
    "model_mlp_ciro_bw, mlp_ciro_bw, df_train_mlp_ciro_bw, df_teste_mlp_ciro_bw = \\\n",
    "train_model_bw(MLPClassifier(max_iter=400), df_ciro_train, 100)\n",
    "model_mlp_ciro_bw = model_mlp_ciro_bw.fit(Bag_of_words_teste(df_train_mlp_ciro_bw, mlp_ciro_bw).toarray(), df_train_mlp_ciro_bw['Sentimento'].str.replace('p','1').replace('x','0').replace('n','-1').astype(int))\n",
    "\n",
    "df_ciro = AnaliseSentimentos_bw(df_ciro, mlp_ciro_bw,model_mlp_ciro_bw, 'predict_bw_MLP')"
   ]
  },
  {
   "cell_type": "markdown",
   "id": "90c6f382",
   "metadata": {},
   "source": [
    "### Ciro - MLP - tfidf"
   ]
  },
  {
   "cell_type": "code",
   "execution_count": 54,
   "id": "8a461d98",
   "metadata": {},
   "outputs": [
    {
     "name": "stdout",
     "output_type": "stream",
     "text": [
      "accuracy:\n",
      "0.5220544701006513\n",
      "precision:\n",
      "0.33616122241331065\n",
      "recall:\n",
      "0.6739992072929053\n",
      "f1:\n",
      "0.23583187644688106\n",
      "matrix_confusion:\n",
      "[[   2    0    0]\n",
      " [   3   13   10]\n",
      " [1968 1248 3512]]\n",
      "0.44201169406343704\n",
      "1968\n",
      "(array([5.04399354e-05, 9.26305584e-05, 1.22747143e-04, ...,\n",
      "       9.99595006e-01, 9.99651807e-01, 9.99677095e-01]), array([1, 1, 1, ..., 1, 1, 1], dtype=int64))\n",
      "Wall time: 4min 59s\n"
     ]
    }
   ],
   "source": [
    "%%time\n",
    "model_mlp_ciro_tfidf, mlp_ciro_tfidf, df_train_mlp_ciro_tfidf, df_teste_mlp_ciro_tfidf = \\\n",
    "train_model_tfidf(MLPClassifier(max_iter=400), df_ciro_train, 100)\n",
    "model_mlp_ciro_tfidf = model_mlp_ciro_tfidf.fit(Bag_of_words_teste(df_train_mlp_ciro_tfidf, mlp_ciro_tfidf).toarray(), df_train_mlp_ciro_tfidf['Sentimento'].str.replace('p','1').replace('x','0').replace('n','-1').astype(int))\n",
    "\n",
    "df_ciro = AnaliseSentimentos_tfidf(df_ciro, mlp_ciro_tfidf,model_mlp_ciro_tfidf, 'predict_tfidf_MLP')"
   ]
  },
  {
   "cell_type": "markdown",
   "id": "d8d9c068",
   "metadata": {},
   "source": [
    "### Ciro - KNN - bw"
   ]
  },
  {
   "cell_type": "code",
   "execution_count": 55,
   "id": "d4e94485",
   "metadata": {},
   "outputs": [
    {
     "name": "stdout",
     "output_type": "stream",
     "text": [
      "accuracy:\n",
      "0.19789816459443457\n",
      "precision:\n",
      "0.33320701643283407\n",
      "recall:\n",
      "0.39888030122869605\n",
      "f1:\n",
      "0.11268574229539019\n",
      "matrix_confusion:\n",
      "[[   1    1    0]\n",
      " [   6   13    7]\n",
      " [2523 2882 1323]]\n",
      "0.41590233583917724\n",
      "1338\n",
      "(array([0. , 0.2, 0.4, 0.6, 0.8, 1. ]), array([178338, 593137, 340254, 322812,  50036,   9621], dtype=int64))\n",
      "Wall time: 1min 32s\n"
     ]
    }
   ],
   "source": [
    "%%time\n",
    "model_knn_ciro_bw, knn_ciro_bw, df_train_knn_ciro_bw, df_teste_knn_ciro_bw = \\\n",
    "train_model_bw(KNeighborsClassifier(), df_ciro_train, 100)\n",
    "model_knn_ciro_bw = model_knn_ciro_bw.fit(Bag_of_words_teste(df_train_knn_ciro_bw, knn_ciro_bw).toarray(), df_train_knn_ciro_bw['Sentimento'].str.replace('p','1').replace('x','0').replace('n','-1').astype(int))\n",
    "\n",
    "df_ciro = AnaliseSentimentos_bw(df_ciro, knn_ciro_bw,model_knn_ciro_bw, 'predict_bw_KNN')"
   ]
  },
  {
   "cell_type": "markdown",
   "id": "fa2e1997",
   "metadata": {},
   "source": [
    "### Ciro - KNN - tfidf"
   ]
  },
  {
   "cell_type": "code",
   "execution_count": 56,
   "id": "045616f5",
   "metadata": {},
   "outputs": [
    {
     "name": "stdout",
     "output_type": "stream",
     "text": [
      "accuracy:\n",
      "0.3716696269982238\n",
      "precision:\n",
      "0.3343062367397345\n",
      "recall:\n",
      "0.5853494008963688\n",
      "f1:\n",
      "0.18442608178920894\n",
      "matrix_confusion:\n",
      "[[   2    0    0]\n",
      " [   8   10    8]\n",
      " [2337 1892 2499]]\n",
      "0.368937836605884\n",
      "2337\n",
      "(array([0. , 0.2, 0.4, 0.6, 0.8, 1. ]), array([247687, 470717, 424963, 253542,  77384,  19905], dtype=int64))\n",
      "Wall time: 1min 47s\n"
     ]
    }
   ],
   "source": [
    "%%time\n",
    "model_knn_ciro_tfidf, knn_ciro_tfidf, df_train_knn_ciro_tfidf, df_teste_knn_ciro_tfidf = \\\n",
    "train_model_tfidf(KNeighborsClassifier(), df_ciro_train, 100)\n",
    "model_knn_ciro_tfidf = model_knn_ciro_tfidf.fit(Bag_of_words_teste(df_train_knn_ciro_tfidf, knn_ciro_tfidf).toarray(), df_train_knn_ciro_tfidf['Sentimento'].str.replace('p','1').replace('x','0').replace('n','-1').astype(int))\n",
    "\n",
    "df_ciro = AnaliseSentimentos_tfidf(df_ciro, knn_ciro_tfidf,model_knn_ciro_tfidf, 'predict_tfidf_KNN')"
   ]
  },
  {
   "cell_type": "code",
   "execution_count": 57,
   "id": "2f967f97",
   "metadata": {},
   "outputs": [],
   "source": [
    "df_bolsonaro.to_excel('bolsonaro_predict4.xlsx')\n",
    "df_lula.to_excel('lula_predict4.xlsx')\n",
    "df_simone.to_excel('simone_predict4.xlsx')\n",
    "df_ciro.to_excel('ciro_predict4.xlsx')"
   ]
  },
  {
   "cell_type": "code",
   "execution_count": 58,
   "id": "58714574",
   "metadata": {},
   "outputs": [],
   "source": [
    "def VotacaoPredict(df):\n",
    "    for i in df.index:\n",
    "        pos=0\n",
    "        neu=0\n",
    "        neg=0\n",
    "        for j in ['predict_tfidf_MLP','predict_bw_MLP',\n",
    "                  'predict_tfidf_SVM','predict_bw_SVM',\n",
    "                 'predict_tfidf_RandomForest','predict_bw_RandomForest',\n",
    "                 'predict_tfidf_NaiveBayes','predict_bw_NaiveBayes',\n",
    "                 'predict_tfidf_ArvoreDeDecisao','predict_bw_ArvoreDeDecisao',\n",
    "                 'predict_tfidf_KNN', 'predict_bw_KNN']:\n",
    "            \n",
    "            pos+=df.loc[i,j+'1']\n",
    "            neu+=df.loc[i,j+'0']    \n",
    "            neg+=df.loc[i,j+'-1']   \n",
    "        \n",
    "        if((neu>=neg)& (neu>=pos)):\n",
    "            df.loc[i,'VotacaoPredict_norm'] = 0\n",
    "        elif((neg>=pos)& (neg>=neu)):\n",
    "            df.loc[i,'VotacaoPredict_norm'] = -1\n",
    "        else:\n",
    "            df.loc[i,'VotacaoPredict_norm'] = 1     \n",
    "    #print(df['VotacaoPredict_ajust'].value_counts())\n",
    "    print(df['VotacaoPredict_norm'].value_counts())        \n",
    "    return df"
   ]
  },
  {
   "cell_type": "code",
   "execution_count": 59,
   "id": "133c0e8e",
   "metadata": {},
   "outputs": [
    {
     "name": "stdout",
     "output_type": "stream",
     "text": [
      " 1.0    500381\n",
      " 0.0    347499\n",
      "-1.0     98558\n",
      "Name: VotacaoPredict_norm, dtype: int64\n",
      " 0.0    514145\n",
      " 1.0    343190\n",
      "-1.0     74395\n",
      "Name: VotacaoPredict_norm, dtype: int64\n",
      " 0.0    58196\n",
      "-1.0    40686\n",
      " 1.0    32280\n",
      "Name: VotacaoPredict_norm, dtype: int64\n",
      " 1.0    213701\n",
      "-1.0    146145\n",
      " 0.0    138220\n",
      "Name: VotacaoPredict_norm, dtype: int64\n"
     ]
    }
   ],
   "source": [
    "df_bolsonaro_predict2 = VotacaoPredict(df_bolsonaro)\n",
    "df_lula_predict2 = VotacaoPredict(df_lula)\n",
    "df_simone_predict2 = VotacaoPredict(df_simone)\n",
    "df_ciro_predict2 = VotacaoPredict(df_ciro)"
   ]
  },
  {
   "cell_type": "code",
   "execution_count": 61,
   "id": "756de764",
   "metadata": {},
   "outputs": [],
   "source": [
    "df_bolsonaro_predict2.to_excel('bolsonaro_resultado_equilibrio5.xlsx')\n",
    "df_lula_predict2.to_excel('lula_resultado_equilibrio5.xlsx')\n",
    "df_simone_predict2.to_excel('simone_resultado_equilibrio5.xlsx')\n",
    "df_ciro_predict2.to_excel('ciro_resultado_equilibrio5.xlsx')"
   ]
  },
  {
   "cell_type": "code",
   "execution_count": null,
   "id": "9580e4bb",
   "metadata": {
    "scrolled": true
   },
   "outputs": [],
   "source": [
    "# df_bolsonaro = pd.read_excel('bolsonaro_predict1.xlsx', index_col=0)\n",
    "# df_lula = pd.read_excel('lula_predict1.xlsx', index_col=0)\n",
    "# df_simone = pd.read_excel('simone_predict1.xlsx', index_col=0)\n",
    "# df_ciro = pd.read_excel('ciro_predict1.xlsx', index_col=0)"
   ]
  }
 ],
 "metadata": {
  "kernelspec": {
   "display_name": "Python 3 (ipykernel)",
   "language": "python",
   "name": "python3"
  },
  "language_info": {
   "codemirror_mode": {
    "name": "ipython",
    "version": 3
   },
   "file_extension": ".py",
   "mimetype": "text/x-python",
   "name": "python",
   "nbconvert_exporter": "python",
   "pygments_lexer": "ipython3",
   "version": "3.9.7"
  }
 },
 "nbformat": 4,
 "nbformat_minor": 5
}
