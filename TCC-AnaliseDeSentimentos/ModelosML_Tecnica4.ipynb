{
 "cells": [
  {
   "cell_type": "markdown",
   "id": "d977afc7",
   "metadata": {},
   "source": [
    "# Importando bases"
   ]
  },
  {
   "cell_type": "code",
   "execution_count": 14,
   "id": "6e57baba",
   "metadata": {},
   "outputs": [],
   "source": [
    "import pandas as pd\n",
    "import numpy as np\n",
    "from sklearn.feature_extraction.text import CountVectorizer\n",
    "from sklearn.feature_extraction.text import TfidfVectorizer\n",
    "from sklearn.feature_extraction.text import TfidfTransformer\n",
    "from sklearn.naive_bayes import GaussianNB\n",
    "from sklearn import tree\n",
    "from sklearn.ensemble import RandomForestClassifier\n",
    "from sklearn.svm import LinearSVC\n",
    "from sklearn.neural_network import MLPClassifier\n",
    "from sklearn.metrics import confusion_matrix\n",
    "from sklearn.metrics import accuracy_score\n",
    "from sklearn.metrics import precision_score\n",
    "from sklearn.metrics import recall_score\n",
    "from sklearn.metrics import f1_score\n",
    "from sklearn.neighbors import KNeighborsClassifier"
   ]
  },
  {
   "cell_type": "code",
   "execution_count": 15,
   "id": "31e77bbb",
   "metadata": {},
   "outputs": [],
   "source": [
    "df_bolsonaro_train = pd.read_excel('Bolsonaro_treino_sem_stop2.xlsx')  \n",
    "df_lula_train = pd.read_excel('Lula_treino_sem_stop2.xlsx') \n",
    "df_simone_train = pd.read_excel('Simone_treino_sem_stop2.xlsx') \n",
    "df_ciro_train = pd.read_excel('Ciro_treino_sem_stop2.xlsx') "
   ]
  },
  {
   "cell_type": "code",
   "execution_count": 16,
   "id": "8f914181",
   "metadata": {},
   "outputs": [],
   "source": [
    "df_bolsonaro = pd.read_excel('Bolsonaro_todos_sem_stop.xlsx', index_col=0)\n",
    "df_lula = pd.read_excel('Lula_todos_sem_stop.xlsx', index_col=0)\n",
    "df_simone = pd.read_excel('Simone_todos_sem_stop.xlsx', index_col=0)\n",
    "df_ciro = pd.read_excel('Ciro_todos_sem_stop.xlsx', index_col=0)\n",
    "\n"
   ]
  },
  {
   "cell_type": "code",
   "execution_count": 17,
   "id": "6468928f",
   "metadata": {},
   "outputs": [],
   "source": [
    "df_lula_train = df_lula_train[df_lula_train['Sentimento']!=' ']"
   ]
  },
  {
   "cell_type": "code",
   "execution_count": 18,
   "id": "817ecd7b",
   "metadata": {},
   "outputs": [
    {
     "name": "stdout",
     "output_type": "stream",
     "text": [
      "p    10335\n",
      "n     1773\n",
      "x       81\n",
      "Name: Sentimento, dtype: int64\n",
      "p    5065\n",
      "n     848\n",
      "x     108\n",
      "Name: Sentimento, dtype: int64\n",
      "p    120\n",
      "x    109\n",
      "n     50\n",
      "Name: Sentimento, dtype: int64\n",
      "p    6807\n",
      "x     105\n",
      "n      81\n",
      "Name: Sentimento, dtype: int64\n"
     ]
    }
   ],
   "source": [
    "print(df_lula_train['Sentimento'].value_counts())\n",
    "print(df_bolsonaro_train['Sentimento'].value_counts())\n",
    "print(df_simone_train['Sentimento'].value_counts())\n",
    "print(df_ciro_train['Sentimento'].value_counts())"
   ]
  },
  {
   "cell_type": "code",
   "execution_count": 19,
   "id": "2eca0ec4",
   "metadata": {},
   "outputs": [],
   "source": [
    "def train_test_under(df):\n",
    "    tamanho = df['Sentimento'].value_counts()[2]-5\n",
    "    \n",
    "    df_train = df[df['Sentimento']=='p'].sample(n = tamanho)\n",
    "    df_train = df_train.append(df[df['Sentimento']=='n'].sample(n = tamanho))\n",
    "    df_train = df_train.append(df[df['Sentimento']=='x'].sample(n = tamanho))\n",
    "    \n",
    "    df_teste = df.drop(df_train.index)\n",
    "    \n",
    "    X_bw_train, bw = Bag_of_words(df_train)\n",
    "    X_tfidf_train, tfidf = tfidf(df_train)\n",
    "    Y_train = df_train['Sentimento'].str.replace('p','1').replace('x','0').replace('n','-1').astype(int)\n",
    "    \n",
    "    X_bw_teste = Bag_of_words_teste(df_teste, bw )\n",
    "    X_tfidf_teste = tfidf_teste(df_teste, tfidf)\n",
    "    Y_teste = df_teste['Sentimento'].str.replace('p','1').replace('x','0').replace('n','-1').astype(int)\n",
    "    \n",
    "    return X_bw_train, X_tfidf_train, Y_train, X_bw_teste, X_tfidf_teste, Y_teste, bw, tfidf, df_train, df_teste\n"
   ]
  },
  {
   "cell_type": "code",
   "execution_count": 20,
   "id": "18fc2942",
   "metadata": {},
   "outputs": [],
   "source": [
    "# Bag Of Words\n",
    "\n",
    "def Bag_of_words(df):\n",
    "    matrix = CountVectorizer()\n",
    "    text = []\n",
    "    for i in df.index:\n",
    "        text.append(\"\".join(df['novo_texto'][i]))\n",
    "    X = matrix.fit_transform(text)\n",
    "    return X, matrix\n",
    "\n",
    "def Bag_of_words_teste(df, matrix):\n",
    "    text = []\n",
    "    for i in df.index:\n",
    "        text.append(\"\".join(df['novo_texto'][i]))\n",
    "    X = matrix.transform(text)\n",
    "    return X\n",
    "\n",
    "def tfidf_(df):\n",
    "    matrix = TfidfVectorizer()\n",
    "    text = []\n",
    "    for i in df.index:\n",
    "        text.append(\"\".join(df['novo_texto'][i]))\n",
    "    X = matrix.fit_transform(text)\n",
    "    return X, matrix\n",
    "\n",
    "def tfidf_teste(df, matrix):\n",
    "    text = []\n",
    "    for i in df.index:\n",
    "        text.append(\"\".join(df['novo_texto'][i]))\n",
    "    X = matrix.transform(text)\n",
    "    return X\n",
    "\n",
    "def train_test_under_bw(df):\n",
    "    tamanho = df['Sentimento'].value_counts()[2]-2\n",
    "    \n",
    "    df_train = df[df['Sentimento']=='p'].sample(n = tamanho)\n",
    "    df_train = df_train.append(df[df['Sentimento']=='n'].sample(n = tamanho))\n",
    "    df_train = df_train.append(df[df['Sentimento']=='x'].sample(n = tamanho))\n",
    "    \n",
    "    df_teste = df.drop(df_train.index)\n",
    "    \n",
    "    X_bw_train, bw = Bag_of_words(df_train)\n",
    "    Y_train = df_train['Sentimento'].str.replace('p','1').replace('x','0').replace('n','-1').astype(int)\n",
    "    \n",
    "    X_bw_teste = Bag_of_words_teste(df_teste, bw )\n",
    "    \n",
    "    Y_teste = df_teste['Sentimento'].str.replace('p','1').replace('x','0').replace('n','-1').astype(int)\n",
    "    \n",
    "    return X_bw_train, Y_train, X_bw_teste, Y_teste, bw, df_train, df_teste\n",
    "\n",
    "def train_test_under_tfidf(df):\n",
    "    tamanho = df['Sentimento'].value_counts()[2]-2\n",
    "    \n",
    "    df_train = df[df['Sentimento']=='p'].sample(n = tamanho)\n",
    "    df_train = df_train.append(df[df['Sentimento']=='n'].sample(n = tamanho))\n",
    "    df_train = df_train.append(df[df['Sentimento']=='x'].sample(n = tamanho))\n",
    "    \n",
    "    df_teste = df.drop(df_train.index)\n",
    "    \n",
    "    X_tfidf_train, tfidf = tfidf_(df_train)\n",
    "    Y_train = df_train['Sentimento'].str.replace('p','1').replace('x','0').replace('n','-1').astype(int)\n",
    "    \n",
    "    X_tfidf_teste = tfidf_teste(df_teste, tfidf)\n",
    "    Y_teste = df_teste['Sentimento'].str.replace('p','1').replace('x','0').replace('n','-1').astype(int)\n",
    "    \n",
    "    return X_tfidf_train, Y_train, X_tfidf_teste, Y_teste, tfidf, df_train, df_teste\n",
    "\n",
    "def train_model_bw(model, df_train_tudo, num_tests):\n",
    "    X_train, Y_train, X_teste, Y_teste, bw, df_train, df_teste = train_test_under_bw(df_train_tudo)\n",
    "    \n",
    "    model2 = model.fit(X_train.toarray(), Y_train)\n",
    "    predict = model2.predict(X_teste.toarray())\n",
    "    accuracy = accuracy_score(Y_teste, predict)\n",
    "    precision = precision_score(Y_teste, predict, average='macro')\n",
    "    recall = recall_score(Y_teste, predict, average='macro')\n",
    "    f1 = f1_score(Y_teste, predict, average='macro')\n",
    "    score = accuracy + precision + recall + f1\n",
    "    \n",
    "    matrix_confusion = confusion_matrix(Y_teste, predict,labels=[-1, 0, 1])\n",
    "    \n",
    "    errados = matrix_confusion[0][2]+ matrix_confusion[2][0]\n",
    "    \n",
    "    model2_fim, bw_fim, df_train_fim, df_teste_fim, score_fim, errados_fim = model2, bw, df_train, df_teste, score, errados\n",
    "    for i in range(0,num_tests):\n",
    "        X_train, Y_train, X_teste, Y_teste, bw, df_train, df_teste = train_test_under_bw(df_train_tudo)\n",
    "\n",
    "        model2 = model.fit(X_train.toarray(), Y_train)\n",
    "        predict = model2.predict(X_teste.toarray())\n",
    "        accuracy = accuracy_score(Y_teste, predict)\n",
    "        precision = precision_score(Y_teste, predict, average='macro')\n",
    "        recall = recall_score(Y_teste, predict, average='macro')\n",
    "        f1 = f1_score(Y_teste, predict, average='macro')\n",
    "        score = accuracy + precision + recall + f1\n",
    "\n",
    "        matrix_confusion = confusion_matrix(Y_teste, predict,labels=[-1, 0, 1])\n",
    "        accuracy_fim, precision_fim,recall_fim, f1_fim, matrix_confusion_fim = accuracy, precision,recall,f1,matrix_confusion \n",
    "        errados = matrix_confusion[0][2]+ matrix_confusion[2][0]\n",
    "        \n",
    "        if((score_fim<score) & (errados_fim>errados)):\n",
    "            accuracy_fim, precision_fim,recall_fim, f1_fim, matrix_confusion_fim = accuracy, precision,recall,f1,matrix_confusion \n",
    "            model2_fim, bw_fim, df_train_fim, df_teste_fim, score_fim, errados_fim = model2, bw, df_train, df_teste, score, errados\n",
    "    \n",
    "    print('accuracy:')\n",
    "    print(accuracy_fim)\n",
    "    print('precision:')\n",
    "    print(precision_fim)\n",
    "    print('recall:')\n",
    "    print(recall_fim)\n",
    "    print('f1:')\n",
    "    print(f1_fim)\n",
    "    print('matrix_confusion:')\n",
    "    print(matrix_confusion_fim)\n",
    "    print(score_fim/4)\n",
    "    print(errados_fim)\n",
    "    return model2_fim, bw_fim, df_train_fim, df_teste_fim     \n",
    "    \n",
    "def train_model_tfidf(model, df_train_tudo, num_tests):\n",
    "    X_train, Y_train, X_teste, Y_teste, tfidf, df_train, df_teste = train_test_under_tfidf(df_train_tudo)\n",
    "    \n",
    "    model2 = model.fit(X_train.toarray(), Y_train)\n",
    "    predict = model2.predict(X_teste.toarray())\n",
    "    accuracy = accuracy_score(Y_teste, predict)\n",
    "    precision = precision_score(Y_teste, predict, average='macro')\n",
    "    recall = recall_score(Y_teste, predict, average='macro')\n",
    "    f1 = f1_score(Y_teste, predict, average='macro')\n",
    "    score = accuracy + precision + recall + f1\n",
    "    \n",
    "    matrix_confusion = confusion_matrix(Y_teste, predict,labels=[-1, 0, 1])\n",
    "    accuracy_fim, precision_fim,recall_fim, f1_fim, matrix_confusion_fim = accuracy, precision,recall,f1,matrix_confusion \n",
    "    errados = matrix_confusion[0][2]+ matrix_confusion[2][0]\n",
    "    \n",
    "    model2_fim, tfidf_fim, df_train_fim, df_teste_fim, score_fim, errados_fim = model2, tfidf, df_train, df_teste, score, errados\n",
    "    for i in range(0,num_tests):\n",
    "        X_train, Y_train, X_teste, Y_teste, tfidf, df_train, df_teste = train_test_under_tfidf(df_train_tudo)\n",
    "\n",
    "        model2 = model.fit(X_train.toarray(), Y_train)\n",
    "        predict = model2.predict(X_teste.toarray())\n",
    "        accuracy = accuracy_score(Y_teste, predict)\n",
    "        precision = precision_score(Y_teste, predict, average='macro')\n",
    "        recall = recall_score(Y_teste, predict, average='macro')\n",
    "        f1 = f1_score(Y_teste, predict, average='macro')\n",
    "        score = accuracy + precision + recall + f1\n",
    "\n",
    "        matrix_confusion = confusion_matrix(Y_teste, predict,labels=[-1, 0, 1])\n",
    "\n",
    "        errados = matrix_confusion[0][2]+ matrix_confusion[2][0]\n",
    "        \n",
    "        if((score_fim<score) & (errados_fim>errados)):\n",
    "            accuracy_fim, precision_fim,recall_fim, f1_fim, matrix_confusion_fim = accuracy, precision,recall,f1,matrix_confusion \n",
    "            model2_fim, tfidf_fim, df_train_fim, df_teste_fim, score_fim, errados_fim = model2, tfidf, df_train, df_teste, score, errados\n",
    "    \n",
    "    print('accuracy:')\n",
    "    print(accuracy_fim)\n",
    "    print('precision:')\n",
    "    print(precision_fim)\n",
    "    print('recall:')\n",
    "    print(recall_fim)\n",
    "    print('f1:')\n",
    "    print(f1_fim)\n",
    "    print('matrix_confusion:')\n",
    "    print(matrix_confusion_fim)\n",
    "    print(score_fim/4)\n",
    "    print(errados_fim)\n",
    "    return model2_fim, tfidf_fim, df_train_fim, df_teste_fim  \n",
    "\n",
    "def AnaliseSentimentos_bw(df, bw,model, name_colum):\n",
    "    i1=0\n",
    "    for i in range(5000,len(df),5000):\n",
    "        if (i==5000):\n",
    "            predict = model.predict(Bag_of_words_teste(df[i1:i], bw).toarray())\n",
    "        else:\n",
    "            predict = np.append(predict, model.predict(Bag_of_words_teste(df[i1:i], bw).toarray()))\n",
    "        i1=i\n",
    "        \n",
    "    predict = np.append(predict,model.predict(Bag_of_words_teste(df[i1:], bw).toarray()))\n",
    "\n",
    "    df[name_colum] = predict\n",
    "\n",
    "    print(np.unique(predict, return_counts=True))\n",
    "    return df\n",
    "\n",
    "def AnaliseSentimentos_tfidf(df, tfidf,model, name_colum):\n",
    "    i1=0\n",
    "    for i in range(5000,len(df),5000):\n",
    "        if (i==5000):\n",
    "            predict = model.predict(tfidf_teste(df[i1:i], tfidf).toarray())\n",
    "        else:\n",
    "            predict = np.append(predict, model.predict(tfidf_teste(df[i1:i], tfidf).toarray()))\n",
    "        i1=i\n",
    "        \n",
    "    predict = np.append(predict,model.predict(tfidf_teste(df[i1:], tfidf).toarray()))\n",
    "\n",
    "    df[name_colum] = predict\n",
    "\n",
    "    print(np.unique(predict, return_counts=True))\n",
    "    return df"
   ]
  },
  {
   "cell_type": "markdown",
   "id": "72038a02",
   "metadata": {},
   "source": [
    "## Bolsonaro"
   ]
  },
  {
   "cell_type": "markdown",
   "id": "fea48c83",
   "metadata": {},
   "source": [
    "### Bolsonaro - Arvore de Decisao - bw"
   ]
  },
  {
   "cell_type": "code",
   "execution_count": 21,
   "id": "2c0bde87",
   "metadata": {
    "scrolled": true
   },
   "outputs": [
    {
     "name": "stdout",
     "output_type": "stream",
     "text": [
      "accuracy:\n",
      "0.503594599333684\n",
      "precision:\n",
      "0.3767103884854037\n",
      "recall:\n",
      "0.5158946669065493\n",
      "f1:\n",
      "0.31612868357547075\n",
      "matrix_confusion:\n",
      "[[ 409  125  208]\n",
      " [   1    1    0]\n",
      " [1565  932 2462]]\n",
      "0.5042903153856906\n",
      "1010\n",
      "(array([-1,  0,  1]), array([140918, 215693, 589827], dtype=int64))\n",
      "Wall time: 1min 9s\n"
     ]
    }
   ],
   "source": [
    "%%time\n",
    "model_tree_bolsonaro_bw, tree_bolsonaro_bw, df_train_tree_bolsonaro_bw, df_teste_tree_bolsonaro_bw = \\\n",
    "train_model_bw(tree.DecisionTreeClassifier(), df_bolsonaro_train, 100)\n",
    "model_tree_bolsonaro_bw = model_tree_bolsonaro_bw.fit(Bag_of_words_teste(df_train_tree_bolsonaro_bw, tree_bolsonaro_bw), df_train_tree_bolsonaro_bw['Sentimento'].str.replace('p','1').replace('x','0').replace('n','-1').astype(int))\n",
    "\n",
    "df_bolsonaro = AnaliseSentimentos_bw(df_bolsonaro, tree_bolsonaro_bw,model_tree_bolsonaro_bw, 'predict_bw_ArvoreDeDecisao')\n"
   ]
  },
  {
   "cell_type": "markdown",
   "id": "cdacb569",
   "metadata": {},
   "source": [
    "### Bolsonaro - Arvore de Decisao - tfidf"
   ]
  },
  {
   "cell_type": "code",
   "execution_count": 22,
   "id": "26b9dd24",
   "metadata": {},
   "outputs": [
    {
     "name": "stdout",
     "output_type": "stream",
     "text": [
      "accuracy:\n",
      "0.6287918639312643\n",
      "precision:\n",
      "0.38600979257686746\n",
      "recall:\n",
      "0.4970349860772078\n",
      "f1:\n",
      "0.35212453741456384\n",
      "matrix_confusion:\n",
      "[[ 234  148  360]\n",
      " [   0    1    1]\n",
      " [ 686  922 3351]]\n",
      "0.46599029499997585\n",
      "1046\n",
      "(array([-1,  0,  1]), array([121064, 248564, 576810], dtype=int64))\n",
      "Wall time: 1min 8s\n"
     ]
    }
   ],
   "source": [
    "%%time\n",
    "model_tree_bolsonaro_tfidf, tree_bolsonaro_tfidf, df_train_tree_bolsonaro_tfidf, df_teste_tree_bolsonaro_tfidf = \\\n",
    "train_model_tfidf(tree.DecisionTreeClassifier(), df_bolsonaro_train, 100)\n",
    "model_tree_bolsonaro_tfidf = model_tree_bolsonaro_tfidf.fit(tfidf_teste(df_train_tree_bolsonaro_tfidf, tree_bolsonaro_tfidf), df_train_tree_bolsonaro_tfidf['Sentimento'].str.replace('p','1').replace('x','0').replace('n','-1').astype(int))\n",
    "\n",
    "df_bolsonaro = AnaliseSentimentos_tfidf(df_bolsonaro, tree_bolsonaro_tfidf,model_tree_bolsonaro_tfidf, 'predict_tfidf_ArvoreDeDecisao')\n"
   ]
  },
  {
   "cell_type": "markdown",
   "id": "50b2009f",
   "metadata": {},
   "source": [
    "### Bolsonaro - Naive Bayes - bw"
   ]
  },
  {
   "cell_type": "code",
   "execution_count": 23,
   "id": "2b9c620f",
   "metadata": {
    "scrolled": true
   },
   "outputs": [
    {
     "name": "stdout",
     "output_type": "stream",
     "text": [
      "accuracy:\n",
      "0.49132035770647026\n",
      "precision:\n",
      "0.3699379377435046\n",
      "recall:\n",
      "0.6491374826134954\n",
      "f1:\n",
      "0.30708618277530647\n",
      "matrix_confusion:\n",
      "[[ 334  165  243]\n",
      " [   0    2    0]\n",
      " [1353 1140 2466]]\n",
      "0.43047422402768193\n",
      "1213\n",
      "(array([-1,  0,  1]), array([202913, 404396, 339129], dtype=int64))\n",
      "Wall time: 2min 27s\n"
     ]
    }
   ],
   "source": [
    "%%time\n",
    "model_nb_bolsonaro_bw, nb_bolsonaro_bw, df_train_nb_bolsonaro_bw, df_teste_nb_bolsonaro_bw = \\\n",
    "train_model_bw(GaussianNB(), df_bolsonaro_train, 100)\n",
    "model_nb_bolsonaro_bw = model_nb_bolsonaro_bw.fit(Bag_of_words_teste(df_train_nb_bolsonaro_bw, nb_bolsonaro_bw).toarray(), df_train_nb_bolsonaro_bw['Sentimento'].str.replace('p','1').replace('x','0').replace('n','-1').astype(int))\n",
    "\n",
    "df_bolsonaro = AnaliseSentimentos_bw(df_bolsonaro, nb_bolsonaro_bw,model_nb_bolsonaro_bw, 'predict_bw_NaiveBayes')\n"
   ]
  },
  {
   "cell_type": "markdown",
   "id": "fa7eb572",
   "metadata": {},
   "source": [
    "### Bolsonaro - Naive Bayes - tfidf"
   ]
  },
  {
   "cell_type": "code",
   "execution_count": 24,
   "id": "9802f64a",
   "metadata": {},
   "outputs": [
    {
     "name": "stdout",
     "output_type": "stream",
     "text": [
      "accuracy:\n",
      "0.476766614062774\n",
      "precision:\n",
      "0.3722568641463389\n",
      "recall:\n",
      "0.4628242695222115\n",
      "f1:\n",
      "0.30306571090469653\n",
      "matrix_confusion:\n",
      "[[ 297  205  240]\n",
      " [   0    1    1]\n",
      " [1140 1398 2421]]\n",
      "0.40372836465900525\n",
      "1380\n",
      "(array([-1,  0,  1]), array([229336, 323876, 393226], dtype=int64))\n",
      "Wall time: 2min 32s\n"
     ]
    }
   ],
   "source": [
    "%%time\n",
    "model_nb_bolsonaro_tfidf, nb_bolsonaro_tfidf, df_train_nb_bolsonaro_tfidf, df_teste_nb_bolsonaro_tfidf = \\\n",
    "train_model_tfidf(GaussianNB(), df_bolsonaro_train, 100)\n",
    "model_nb_bolsonaro_tfidf = model_nb_bolsonaro_tfidf.fit(tfidf_teste(df_train_nb_bolsonaro_tfidf, nb_bolsonaro_tfidf).toarray(), df_train_nb_bolsonaro_tfidf['Sentimento'].str.replace('p','1').replace('x','0').replace('n','-1').astype(int))\n",
    "\n",
    "df_bolsonaro = AnaliseSentimentos_tfidf(df_bolsonaro, nb_bolsonaro_tfidf,model_nb_bolsonaro_tfidf, 'predict_tfidf_NaiveBayes')\n"
   ]
  },
  {
   "cell_type": "markdown",
   "id": "5c087da8",
   "metadata": {},
   "source": [
    "### Bolsonaro - Random Forest - bw"
   ]
  },
  {
   "cell_type": "code",
   "execution_count": 25,
   "id": "3a1936db",
   "metadata": {},
   "outputs": [
    {
     "name": "stdout",
     "output_type": "stream",
     "text": [
      "accuracy:\n",
      "0.6344029458179905\n",
      "precision:\n",
      "0.4058181635506945\n",
      "recall:\n",
      "0.6501226499343131\n",
      "f1:\n",
      "0.35651308446450747\n",
      "matrix_confusion:\n",
      "[[ 193  186  363]\n",
      " [   0    2    0]\n",
      " [ 426 1110 3423]]\n",
      "0.5178657284248911\n",
      "678\n",
      "(array([-1,  0,  1]), array([ 66473, 293132, 586833], dtype=int64))\n",
      "Wall time: 3min 12s\n"
     ]
    }
   ],
   "source": [
    "%%time\n",
    "model_RandomForest_bolsonaro_bw, RandomForest_bolsonaro_bw, df_train_RandomForest_bolsonaro_bw, df_teste_RandomForest_bolsonaro_bw = \\\n",
    "train_model_bw(RandomForestClassifier(), df_bolsonaro_train, 100)\n",
    "model_RandomForest_bolsonaro_bw = model_RandomForest_bolsonaro_bw.fit(Bag_of_words_teste(df_train_RandomForest_bolsonaro_bw, RandomForest_bolsonaro_bw).toarray(), df_train_RandomForest_bolsonaro_bw['Sentimento'].str.replace('p','1').replace('x','0').replace('n','-1').astype(int))\n",
    "\n",
    "df_bolsonaro = AnaliseSentimentos_bw(df_bolsonaro, RandomForest_bolsonaro_bw,model_RandomForest_bolsonaro_bw, 'predict_bw_RandomForest')\n"
   ]
  },
  {
   "cell_type": "markdown",
   "id": "0b5a2a87",
   "metadata": {},
   "source": [
    "### Bolsonaro - Random Forest - tfidf"
   ]
  },
  {
   "cell_type": "code",
   "execution_count": 26,
   "id": "159352dc",
   "metadata": {},
   "outputs": [
    {
     "name": "stdout",
     "output_type": "stream",
     "text": [
      "accuracy:\n",
      "0.4665965281430826\n",
      "precision:\n",
      "0.4181166133218001\n",
      "recall:\n",
      "0.62094086151546\n",
      "f1:\n",
      "0.3287850794186349\n",
      "matrix_confusion:\n",
      "[[ 285  268  189]\n",
      " [   0    2    0]\n",
      " [ 586 1999 2374]]\n",
      "0.45860977059974445\n",
      "775\n",
      "(array([-1,  0,  1]), array([155915, 365016, 425507], dtype=int64))\n",
      "Wall time: 3min\n"
     ]
    }
   ],
   "source": [
    "%%time\n",
    "model_RandomForest_bolsonaro_tfidf, RandomForest_bolsonaro_tfidf, df_train_RandomForest_bolsonaro_tfidf, df_teste_RandomForest_bolsonaro_tfidf = \\\n",
    "train_model_tfidf(RandomForestClassifier(), df_bolsonaro_train, 100)\n",
    "model_RandomForest_bolsonaro_tfidf = model_RandomForest_bolsonaro_tfidf.fit(tfidf_teste(df_train_RandomForest_bolsonaro_tfidf, RandomForest_bolsonaro_tfidf).toarray(), df_train_RandomForest_bolsonaro_tfidf['Sentimento'].str.replace('p','1').replace('x','0').replace('n','-1').astype(int))\n",
    "\n",
    "df_bolsonaro = AnaliseSentimentos_tfidf(df_bolsonaro, RandomForest_bolsonaro_tfidf,model_RandomForest_bolsonaro_tfidf, 'predict_tfidf_RandomForest')\n"
   ]
  },
  {
   "cell_type": "markdown",
   "id": "90533c53",
   "metadata": {},
   "source": [
    "### Bolsonaro - SVM - bw"
   ]
  },
  {
   "cell_type": "code",
   "execution_count": 27,
   "id": "0313645e",
   "metadata": {},
   "outputs": [
    {
     "name": "stdout",
     "output_type": "stream",
     "text": [
      "accuracy:\n",
      "0.4853585832018236\n",
      "precision:\n",
      "0.37546213186886074\n",
      "recall:\n",
      "0.6415038173761592\n",
      "f1:\n",
      "0.3083932140770262\n",
      "matrix_confusion:\n",
      "[[ 320  199  223]\n",
      " [   0    2    0]\n",
      " [1214 1299 2446]]\n",
      "0.43441421221006987\n",
      "1090\n",
      "(array([-1,  0,  1]), array([197530, 318218, 430690], dtype=int64))\n",
      "Wall time: 1min 11s\n"
     ]
    }
   ],
   "source": [
    "%%time\n",
    "model_svc_bolsonaro_bw, svc_bolsonaro_bw, df_train_svc_bolsonaro_bw, df_teste_svc_bolsonaro_bw = \\\n",
    "train_model_bw(LinearSVC(), df_bolsonaro_train, 100)\n",
    "model_svc_bolsonaro_bw = model_svc_bolsonaro_bw.fit(Bag_of_words_teste(df_train_svc_bolsonaro_bw, svc_bolsonaro_bw).toarray(), df_train_svc_bolsonaro_bw['Sentimento'].str.replace('p','1').replace('x','0').replace('n','-1').astype(int))\n",
    "\n",
    "df_bolsonaro = AnaliseSentimentos_bw(df_bolsonaro, svc_bolsonaro_bw,model_svc_bolsonaro_bw, 'predict_bw_SVM')"
   ]
  },
  {
   "cell_type": "markdown",
   "id": "2648b08f",
   "metadata": {},
   "source": [
    "### Bolsonaro - SVM - tfidf"
   ]
  },
  {
   "cell_type": "code",
   "execution_count": 28,
   "id": "2caa0798",
   "metadata": {},
   "outputs": [
    {
     "name": "stdout",
     "output_type": "stream",
     "text": [
      "accuracy:\n",
      "0.5430475188497282\n",
      "precision:\n",
      "0.3907150918117806\n",
      "recall:\n",
      "0.5042773926792692\n",
      "f1:\n",
      "0.3387351810824742\n",
      "matrix_confusion:\n",
      "[[ 339  180  223]\n",
      " [   0    1    1]\n",
      " [1036 1166 2757]]\n",
      "0.44419379610581305\n",
      "1259\n",
      "(array([-1,  0,  1]), array([247462, 298824, 400152], dtype=int64))\n",
      "Wall time: 1min 6s\n"
     ]
    }
   ],
   "source": [
    "%%time\n",
    "model_svc_bolsonaro_tfidf, svc_bolsonaro_tfidf, df_train_svc_bolsonaro_tfidf, df_teste_svc_bolsonaro_tfidf = \\\n",
    "train_model_tfidf(LinearSVC(), df_bolsonaro_train, 100)\n",
    "model_svc_bolsonaro_tfidf = model_svc_bolsonaro_tfidf.fit(tfidf_teste(df_train_svc_bolsonaro_tfidf, svc_bolsonaro_tfidf).toarray(), df_train_svc_bolsonaro_tfidf['Sentimento'].str.replace('p','1').replace('x','0').replace('n','-1').astype(int))\n",
    "\n",
    "df_bolsonaro = AnaliseSentimentos_tfidf(df_bolsonaro, svc_bolsonaro_tfidf,model_svc_bolsonaro_tfidf, 'predict_tfidf_SVM')"
   ]
  },
  {
   "cell_type": "markdown",
   "id": "c0bf1c6d",
   "metadata": {},
   "source": [
    "### Bolsonaro - MLP - bw"
   ]
  },
  {
   "cell_type": "code",
   "execution_count": 29,
   "id": "561868bf",
   "metadata": {},
   "outputs": [
    {
     "name": "stdout",
     "output_type": "stream",
     "text": [
      "accuracy:\n",
      "0.4844818516570226\n",
      "precision:\n",
      "0.37679133324331754\n",
      "recall:\n",
      "0.6358194698776146\n",
      "f1:\n",
      "0.3099916891060748\n",
      "matrix_confusion:\n",
      "[[ 306  193  243]\n",
      " [   0    2    0]\n",
      " [1090 1414 2455]]\n",
      "0.4386815243563395\n",
      "1254\n",
      "(array([-1,  0,  1]), array([222892, 277241, 446305], dtype=int64))\n",
      "Wall time: 9min 29s\n"
     ]
    }
   ],
   "source": [
    "%%time\n",
    "model_mlp_bolsonaro_bw, mlp_bolsonaro_bw, df_train_mlp_bolsonaro_bw, df_teste_mlp_bolsonaro_bw = \\\n",
    "train_model_bw(MLPClassifier(max_iter=400), df_bolsonaro_train, 100)\n",
    "model_mlp_bolsonaro_bw = model_mlp_bolsonaro_bw.fit(Bag_of_words_teste(df_train_mlp_bolsonaro_bw, mlp_bolsonaro_bw).toarray(), df_train_mlp_bolsonaro_bw['Sentimento'].str.replace('p','1').replace('x','0').replace('n','-1').astype(int))\n",
    "\n",
    "df_bolsonaro = AnaliseSentimentos_bw(df_bolsonaro, mlp_bolsonaro_bw,model_mlp_bolsonaro_bw, 'predict_bw_MLP')"
   ]
  },
  {
   "cell_type": "markdown",
   "id": "38cdc758",
   "metadata": {},
   "source": [
    "### Bolsonaro - MLP - tfidf"
   ]
  },
  {
   "cell_type": "code",
   "execution_count": 30,
   "id": "cdfe371f",
   "metadata": {},
   "outputs": [
    {
     "name": "stdout",
     "output_type": "stream",
     "text": [
      "accuracy:\n",
      "0.49728213221111695\n",
      "precision:\n",
      "0.38044582242629493\n",
      "recall:\n",
      "0.661355369193605\n",
      "f1:\n",
      "0.31756110491865946\n",
      "matrix_confusion:\n",
      "[[ 360  166  216]\n",
      " [   0    2    0]\n",
      " [1275 1210 2474]]\n",
      "0.4641611071874191\n",
      "1491\n",
      "(array([-1,  0,  1]), array([293643, 270755, 382040], dtype=int64))\n",
      "Wall time: 10min 19s\n"
     ]
    }
   ],
   "source": [
    "%%time\n",
    "model_mlp_bolsonaro_tfidf, mlp_bolsonaro_tfidf, df_train_mlp_bolsonaro_tfidf, df_teste_mlp_bolsonaro_tfidf = \\\n",
    "train_model_tfidf(MLPClassifier(max_iter=400), df_bolsonaro_train, 100)\n",
    "model_mlp_bolsonaro_tfidf = model_mlp_bolsonaro_tfidf.fit(Bag_of_words_teste(df_train_mlp_bolsonaro_tfidf, mlp_bolsonaro_tfidf).toarray(), df_train_mlp_bolsonaro_tfidf['Sentimento'].str.replace('p','1').replace('x','0').replace('n','-1').astype(int))\n",
    "\n",
    "df_bolsonaro = AnaliseSentimentos_tfidf(df_bolsonaro, mlp_bolsonaro_tfidf,model_mlp_bolsonaro_tfidf, 'predict_tfidf_MLP')"
   ]
  },
  {
   "cell_type": "markdown",
   "id": "754f28f3",
   "metadata": {},
   "source": [
    "### Bolsonaro - KNN - bw"
   ]
  },
  {
   "cell_type": "code",
   "execution_count": 31,
   "id": "a624dafb",
   "metadata": {},
   "outputs": [
    {
     "name": "stdout",
     "output_type": "stream",
     "text": [
      "accuracy:\n",
      "0.21322111169559882\n",
      "precision:\n",
      "0.34825107274945166\n",
      "recall:\n",
      "0.49512027375603035\n",
      "f1:\n",
      "0.1488040232507016\n",
      "matrix_confusion:\n",
      "[[ 646   36   60]\n",
      " [   1    1    0]\n",
      " [4052  338  569]]\n",
      "0.526992420593109\n",
      "934\n",
      "(array([-1,  0,  1]), array([ 62561,  48210, 835667], dtype=int64))\n",
      "Wall time: 2min 33s\n"
     ]
    }
   ],
   "source": [
    "%%time\n",
    "model_knn_bolsonaro_bw, knn_bolsonaro_bw, df_train_knn_bolsonaro_bw, df_teste_knn_bolsonaro_bw = \\\n",
    "train_model_bw(KNeighborsClassifier(), df_bolsonaro_train, 100)\n",
    "model_knn_bolsonaro_bw = model_knn_bolsonaro_bw.fit(Bag_of_words_teste(df_train_knn_bolsonaro_bw, knn_bolsonaro_bw).toarray(), df_train_knn_bolsonaro_bw['Sentimento'].str.replace('p','1').replace('x','0').replace('n','-1').astype(int))\n",
    "\n",
    "df_bolsonaro = AnaliseSentimentos_bw(df_bolsonaro, knn_bolsonaro_bw,model_knn_bolsonaro_bw, 'predict_bw_KNN')"
   ]
  },
  {
   "cell_type": "markdown",
   "id": "f810728a",
   "metadata": {},
   "source": [
    "### Bolsonaro - KNN - tfidf"
   ]
  },
  {
   "cell_type": "code",
   "execution_count": 32,
   "id": "4990814c",
   "metadata": {},
   "outputs": [
    {
     "name": "stdout",
     "output_type": "stream",
     "text": [
      "accuracy:\n",
      "0.4273189549359986\n",
      "precision:\n",
      "0.3610571509009653\n",
      "recall:\n",
      "0.6234569109102547\n",
      "f1:\n",
      "0.27800260801095866\n",
      "matrix_confusion:\n",
      "[[ 331  189  222]\n",
      " [   0    2    0]\n",
      " [1536 1319 2104]]\n",
      "0.4224589061895443\n",
      "1758\n",
      "(array([-1,  0,  1]), array([365699, 289089, 291650], dtype=int64))\n",
      "Wall time: 3min 5s\n"
     ]
    }
   ],
   "source": [
    "%%time\n",
    "model_knn_bolsonaro_tfidf, knn_bolsonaro_tfidf, df_train_knn_bolsonaro_tfidf, df_teste_knn_bolsonaro_tfidf = \\\n",
    "train_model_tfidf(KNeighborsClassifier(), df_bolsonaro_train, 100)\n",
    "model_knn_bolsonaro_tfidf = model_knn_bolsonaro_tfidf.fit(Bag_of_words_teste(df_train_knn_bolsonaro_tfidf, knn_bolsonaro_tfidf).toarray(), df_train_knn_bolsonaro_tfidf['Sentimento'].str.replace('p','1').replace('x','0').replace('n','-1').astype(int))\n",
    "\n",
    "df_bolsonaro = AnaliseSentimentos_tfidf(df_bolsonaro, knn_bolsonaro_tfidf,model_knn_bolsonaro_tfidf, 'predict_tfidf_KNN')"
   ]
  },
  {
   "cell_type": "markdown",
   "id": "355b3295",
   "metadata": {},
   "source": [
    "# Lula"
   ]
  },
  {
   "cell_type": "markdown",
   "id": "3979fdd8",
   "metadata": {},
   "source": [
    "### Lula - Arvore de Decisao - bw"
   ]
  },
  {
   "cell_type": "code",
   "execution_count": 33,
   "id": "b4542a1c",
   "metadata": {},
   "outputs": [
    {
     "name": "stdout",
     "output_type": "stream",
     "text": [
      "accuracy:\n",
      "0.4764892904953146\n",
      "precision:\n",
      "0.41465563044214376\n",
      "recall:\n",
      "0.6100268007178374\n",
      "f1:\n",
      "0.3247910264933757\n",
      "matrix_confusion:\n",
      "[[ 558  721  415]\n",
      " [   0    2    0]\n",
      " [1195 3926 5135]]\n",
      "0.46704406845169755\n",
      "1679\n",
      "(array([-1,  0,  1]), array([180896, 444691, 306143], dtype=int64))\n",
      "Wall time: 1min 19s\n"
     ]
    }
   ],
   "source": [
    "%%time\n",
    "model_tree_lula_bw, tree_lula_bw, df_train_tree_lula_bw, df_teste_tree_lula_bw = \\\n",
    "train_model_bw(tree.DecisionTreeClassifier(), df_lula_train, 100)\n",
    "model_tree_lula_bw = model_tree_lula_bw.fit(Bag_of_words_teste(df_train_tree_lula_bw, tree_lula_bw), df_train_tree_lula_bw['Sentimento'].str.replace('p','1').replace('x','0').replace('n','-1').astype(int))\n",
    "\n",
    "df_lula = AnaliseSentimentos_bw(df_lula, tree_lula_bw,model_tree_lula_bw, 'predict_bw_ArvoreDeDecisao')\n"
   ]
  },
  {
   "cell_type": "markdown",
   "id": "47713584",
   "metadata": {},
   "source": [
    "### Lula - Arvore de Decisao - tfidf"
   ]
  },
  {
   "cell_type": "code",
   "execution_count": 34,
   "id": "a7528298",
   "metadata": {},
   "outputs": [
    {
     "name": "stdout",
     "output_type": "stream",
     "text": [
      "accuracy:\n",
      "0.5148929049531459\n",
      "precision:\n",
      "0.40036197644608373\n",
      "recall:\n",
      "0.6295445029135286\n",
      "f1:\n",
      "0.33177094714566574\n",
      "matrix_confusion:\n",
      "[[ 586  589  519]\n",
      " [   0    2    0]\n",
      " [1464 3226 5566]]\n",
      "0.46914258286460603\n",
      "1983\n",
      "(array([-1,  0,  1]), array([177805, 360098, 393827], dtype=int64))\n",
      "Wall time: 1min 20s\n"
     ]
    }
   ],
   "source": [
    "%%time\n",
    "model_tree_lula_tfidf, tree_lula_tfidf, df_train_tree_lula_tfidf, df_teste_tree_lula_tfidf = \\\n",
    "train_model_tfidf(tree.DecisionTreeClassifier(), df_lula_train, 100)\n",
    "model_tree_lula_tfidf = model_tree_lula_tfidf.fit(tfidf_teste(df_train_tree_lula_tfidf, tree_lula_tfidf), df_train_tree_lula_tfidf['Sentimento'].str.replace('p','1').replace('x','0').replace('n','-1').astype(int))\n",
    "\n",
    "df_lula = AnaliseSentimentos_tfidf(df_lula, tree_lula_tfidf,model_tree_lula_tfidf, 'predict_tfidf_ArvoreDeDecisao')\n"
   ]
  },
  {
   "cell_type": "markdown",
   "id": "486ae1c8",
   "metadata": {},
   "source": [
    "### Lula - Naive Bayes - bw"
   ]
  },
  {
   "cell_type": "code",
   "execution_count": 35,
   "id": "c25b6a1b",
   "metadata": {},
   "outputs": [
    {
     "name": "stdout",
     "output_type": "stream",
     "text": [
      "accuracy:\n",
      "0.35081994645247655\n",
      "precision:\n",
      "0.36878210106120163\n",
      "recall:\n",
      "0.5743515779592223\n",
      "f1:\n",
      "0.2554935872805243\n",
      "matrix_confusion:\n",
      "[[ 638  667  389]\n",
      " [   0    2    0]\n",
      " [2480 4223 3553]]\n",
      "0.43451889798955995\n",
      "2293\n",
      "(array([-1,  0,  1]), array([222587, 410034, 299109], dtype=int64))\n",
      "Wall time: 2min 48s\n"
     ]
    }
   ],
   "source": [
    "%%time\n",
    "model_nb_lula_bw, nb_lula_bw, df_train_nb_lula_bw, df_teste_nb_lula_bw = \\\n",
    "train_model_bw(GaussianNB(), df_lula_train, 100)\n",
    "model_nb_lula_bw = model_nb_lula_bw.fit(Bag_of_words_teste(df_train_nb_lula_bw, nb_lula_bw).toarray(), df_train_nb_lula_bw['Sentimento'].str.replace('p','1').replace('x','0').replace('n','-1').astype(int))\n",
    "\n",
    "df_lula = AnaliseSentimentos_bw(df_lula, nb_lula_bw,model_nb_lula_bw, 'predict_bw_NaiveBayes')\n"
   ]
  },
  {
   "cell_type": "markdown",
   "id": "76979985",
   "metadata": {},
   "source": [
    "### Lula - Naive Bayes - tfidf"
   ]
  },
  {
   "cell_type": "code",
   "execution_count": 36,
   "id": "4a0565d5",
   "metadata": {},
   "outputs": [
    {
     "name": "stdout",
     "output_type": "stream",
     "text": [
      "accuracy:\n",
      "0.47849732262382866\n",
      "precision:\n",
      "0.37279281697620736\n",
      "recall:\n",
      "0.6168848820068505\n",
      "f1:\n",
      "0.30383120666664915\n",
      "matrix_confusion:\n",
      "[[ 595  541  558]\n",
      " [   0    2    0]\n",
      " [2159 2975 5122]]\n",
      "0.4430015570683839\n",
      "2717\n",
      "(array([-1,  0,  1]), array([244317, 342539, 344874], dtype=int64))\n",
      "Wall time: 2min 53s\n"
     ]
    }
   ],
   "source": [
    "%%time\n",
    "model_nb_lula_tfidf, nb_lula_tfidf, df_train_nb_lula_tfidf, df_teste_nb_lula_tfidf = \\\n",
    "train_model_tfidf(GaussianNB(), df_lula_train, 100)\n",
    "model_nb_lula_tfidf = model_nb_lula_tfidf.fit(tfidf_teste(df_train_nb_lula_tfidf, nb_lula_tfidf).toarray(), df_train_nb_lula_tfidf['Sentimento'].str.replace('p','1').replace('x','0').replace('n','-1').astype(int))\n",
    "\n",
    "df_lula = AnaliseSentimentos_tfidf(df_lula, nb_lula_tfidf,model_nb_lula_tfidf, 'predict_tfidf_NaiveBayes')\n"
   ]
  },
  {
   "cell_type": "markdown",
   "id": "170dee4f",
   "metadata": {},
   "source": [
    "### Lula - Random Forest - bw"
   ]
  },
  {
   "cell_type": "code",
   "execution_count": 37,
   "id": "2b90401f",
   "metadata": {},
   "outputs": [
    {
     "name": "stdout",
     "output_type": "stream",
     "text": [
      "accuracy:\n",
      "0.47740963855421686\n",
      "precision:\n",
      "0.4059287166528174\n",
      "recall:\n",
      "0.43340103734019486\n",
      "f1:\n",
      "0.31611304013282127\n",
      "matrix_confusion:\n",
      "[[ 495  785  414]\n",
      " [   0    1    1]\n",
      " [1204 3842 5210]]\n",
      "0.44954464556597384\n",
      "1001\n",
      "(array([-1,  0,  1]), array([ 42383, 609923, 279424], dtype=int64))\n",
      "Wall time: 3min 23s\n"
     ]
    }
   ],
   "source": [
    "%%time\n",
    "model_RandomForest_lula_bw, RandomForest_lula_bw, df_train_RandomForest_lula_bw, df_teste_RandomForest_lula_bw = \\\n",
    "train_model_bw(RandomForestClassifier(), df_lula_train, 100)\n",
    "model_RandomForest_lula_bw = model_RandomForest_lula_bw.fit(Bag_of_words_teste(df_train_RandomForest_lula_bw, RandomForest_lula_bw).toarray(), df_train_RandomForest_lula_bw['Sentimento'].str.replace('p','1').replace('x','0').replace('n','-1').astype(int))\n",
    "\n",
    "df_lula = AnaliseSentimentos_bw(df_lula, RandomForest_lula_bw,model_RandomForest_lula_bw, 'predict_bw_RandomForest')\n"
   ]
  },
  {
   "cell_type": "markdown",
   "id": "550b54cb",
   "metadata": {},
   "source": [
    "### Lula - Random Forest - tfidf"
   ]
  },
  {
   "cell_type": "code",
   "execution_count": 38,
   "id": "5f15963a",
   "metadata": {},
   "outputs": [
    {
     "name": "stdout",
     "output_type": "stream",
     "text": [
      "accuracy:\n",
      "0.5150602409638554\n",
      "precision:\n",
      "0.42129696951422146\n",
      "recall:\n",
      "0.6245170851698295\n",
      "f1:\n",
      "0.3396559326558881\n",
      "matrix_confusion:\n",
      "[[ 555  731  408]\n",
      " [   0    2    0]\n",
      " [1120 3537 5599]]\n",
      "0.4751325570759486\n",
      "1528\n",
      "(array([-1,  0,  1]), array([178809, 461001, 291920], dtype=int64))\n",
      "Wall time: 3min 16s\n"
     ]
    }
   ],
   "source": [
    "%%time\n",
    "model_RandomForest_lula_tfidf, RandomForest_lula_tfidf, df_train_RandomForest_lula_tfidf, df_teste_RandomForest_lula_tfidf = \\\n",
    "train_model_tfidf(RandomForestClassifier(), df_lula_train, 100)\n",
    "model_RandomForest_lula_tfidf = model_RandomForest_lula_tfidf.fit(tfidf_teste(df_train_RandomForest_lula_tfidf, RandomForest_lula_tfidf).toarray(), df_train_RandomForest_lula_tfidf['Sentimento'].str.replace('p','1').replace('x','0').replace('n','-1').astype(int))\n",
    "\n",
    "df_lula = AnaliseSentimentos_tfidf(df_lula, RandomForest_lula_tfidf,model_RandomForest_lula_tfidf, 'predict_tfidf_RandomForest')\n"
   ]
  },
  {
   "cell_type": "markdown",
   "id": "1b0dc0d0",
   "metadata": {},
   "source": [
    "### lula - SVM - bw"
   ]
  },
  {
   "cell_type": "code",
   "execution_count": 39,
   "id": "e149aac8",
   "metadata": {},
   "outputs": [
    {
     "name": "stdout",
     "output_type": "stream",
     "text": [
      "accuracy:\n",
      "0.47448125836680055\n",
      "precision:\n",
      "0.3918018974701742\n",
      "recall:\n",
      "0.6281380062758591\n",
      "f1:\n",
      "0.31504002277927035\n",
      "matrix_confusion:\n",
      "[[ 673  626  395]\n",
      " [   0    2    0]\n",
      " [2039 3221 4996]]\n",
      "0.48022278195083445\n",
      "1702\n",
      "(array([-1,  0,  1]), array([113347, 449744, 368639], dtype=int64))\n",
      "Wall time: 1min 27s\n"
     ]
    }
   ],
   "source": [
    "%%time\n",
    "model_svc_lula_bw, svc_lula_bw, df_train_svc_lula_bw, df_teste_svc_lula_bw = \\\n",
    "train_model_bw(LinearSVC(), df_lula_train, 100)\n",
    "model_svc_lula_bw = model_svc_lula_bw.fit(Bag_of_words_teste(df_train_svc_lula_bw, svc_lula_bw).toarray(), df_train_svc_lula_bw['Sentimento'].str.replace('p','1').replace('x','0').replace('n','-1').astype(int))\n",
    "\n",
    "df_lula = AnaliseSentimentos_bw(df_lula, svc_lula_bw,model_svc_lula_bw, 'predict_bw_SVM')"
   ]
  },
  {
   "cell_type": "markdown",
   "id": "da1d180a",
   "metadata": {},
   "source": [
    "### lula - SVM - tfidf"
   ]
  },
  {
   "cell_type": "code",
   "execution_count": 40,
   "id": "48031cd4",
   "metadata": {},
   "outputs": [
    {
     "name": "stdout",
     "output_type": "stream",
     "text": [
      "accuracy:\n",
      "0.5686077643908969\n",
      "precision:\n",
      "0.4069105673152465\n",
      "recall:\n",
      "0.6745582662739804\n",
      "f1:\n",
      "0.3584647700079935\n",
      "matrix_confusion:\n",
      "[[ 733  434  527]\n",
      " [   0    2    0]\n",
      " [1710 2485 6061]]\n",
      "0.5021353419970294\n",
      "2237\n",
      "(array([-1,  0,  1]), array([230790, 335056, 365884], dtype=int64))\n",
      "Wall time: 1min 24s\n"
     ]
    }
   ],
   "source": [
    "%%time\n",
    "model_svc_lula_tfidf, svc_lula_tfidf, df_train_svc_lula_tfidf, df_teste_svc_lula_tfidf = \\\n",
    "train_model_tfidf(LinearSVC(), df_lula_train, 100)\n",
    "model_svc_lula_tfidf = model_svc_lula_tfidf.fit(tfidf_teste(df_train_svc_lula_tfidf, svc_lula_tfidf).toarray(), df_train_svc_lula_tfidf['Sentimento'].str.replace('p','1').replace('x','0').replace('n','-1').astype(int))\n",
    "\n",
    "df_lula = AnaliseSentimentos_tfidf(df_lula, svc_lula_tfidf,model_svc_lula_tfidf, 'predict_tfidf_SVM')"
   ]
  },
  {
   "cell_type": "markdown",
   "id": "2f4d0c75",
   "metadata": {},
   "source": [
    "### Lula - MLP - bw"
   ]
  },
  {
   "cell_type": "code",
   "execution_count": 41,
   "id": "7f0b3ce3",
   "metadata": {},
   "outputs": [
    {
     "name": "stdout",
     "output_type": "stream",
     "text": [
      "accuracy:\n",
      "0.47832998661311915\n",
      "precision:\n",
      "0.38110468377318923\n",
      "recall:\n",
      "0.6429390676217367\n",
      "f1:\n",
      "0.31165497153880767\n",
      "matrix_confusion:\n",
      "[[ 754  483  457]\n",
      " [   0    2    0]\n",
      " [2567 2728 4961]]\n",
      "0.4806175903860879\n",
      "2262\n",
      "(array([-1,  0,  1]), array([203289, 378076, 350365], dtype=int64))\n",
      "Wall time: 8min 17s\n"
     ]
    }
   ],
   "source": [
    "%%time\n",
    "model_mlp_lula_bw, mlp_lula_bw, df_train_mlp_lula_bw, df_teste_mlp_lula_bw = \\\n",
    "train_model_bw(MLPClassifier(max_iter=400), df_lula_train, 100)\n",
    "model_mlp_lula_bw = model_mlp_lula_bw.fit(Bag_of_words_teste(df_train_mlp_lula_bw, mlp_lula_bw).toarray(), df_train_mlp_lula_bw['Sentimento'].str.replace('p','1').replace('x','0').replace('n','-1').astype(int))\n",
    "\n",
    "df_lula = AnaliseSentimentos_bw(df_lula, mlp_lula_bw,model_mlp_lula_bw, 'predict_bw_MLP')"
   ]
  },
  {
   "cell_type": "markdown",
   "id": "3916ac0b",
   "metadata": {},
   "source": [
    "### Lula - MLP - tfidf"
   ]
  },
  {
   "cell_type": "code",
   "execution_count": 42,
   "id": "6b923f49",
   "metadata": {},
   "outputs": [
    {
     "name": "stdout",
     "output_type": "stream",
     "text": [
      "accuracy:\n",
      "0.46971218206157966\n",
      "precision:\n",
      "0.3884990310417056\n",
      "recall:\n",
      "0.6280924200368251\n",
      "f1:\n",
      "0.31219269455393833\n",
      "matrix_confusion:\n",
      "[[ 684  589  421]\n",
      " [   0    2    0]\n",
      " [2123 3205 4928]]\n",
      "0.4496240819235122\n",
      "2544\n",
      "(array([-1,  0,  1]), array([281232, 373494, 277004], dtype=int64))\n",
      "Wall time: 9min 8s\n"
     ]
    }
   ],
   "source": [
    "%%time\n",
    "model_mlp_lula_tfidf, mlp_lula_tfidf, df_train_mlp_lula_tfidf, df_teste_mlp_lula_tfidf = \\\n",
    "train_model_tfidf(MLPClassifier(max_iter=400), df_lula_train, 100)\n",
    "model_mlp_lula_tfidf = model_mlp_lula_tfidf.fit(Bag_of_words_teste(df_train_mlp_lula_tfidf, mlp_lula_tfidf).toarray(), df_train_mlp_lula_tfidf['Sentimento'].str.replace('p','1').replace('x','0').replace('n','-1').astype(int))\n",
    "\n",
    "df_lula = AnaliseSentimentos_tfidf(df_lula, mlp_lula_tfidf,model_mlp_lula_tfidf, 'predict_tfidf_MLP')"
   ]
  },
  {
   "cell_type": "markdown",
   "id": "a1654d8b",
   "metadata": {},
   "source": [
    "### Lula - KNN - bw"
   ]
  },
  {
   "cell_type": "code",
   "execution_count": 43,
   "id": "8061ec4b",
   "metadata": {},
   "outputs": [
    {
     "name": "stdout",
     "output_type": "stream",
     "text": [
      "accuracy:\n",
      "0.15311244979919678\n",
      "precision:\n",
      "0.36309428492027557\n",
      "recall:\n",
      "0.2845922426035176\n",
      "f1:\n",
      "0.13969493060000834\n",
      "matrix_confusion:\n",
      "[[ 356 1257   81]\n",
      " [   0    1    1]\n",
      " [2153 6630 1473]]\n",
      "0.37473675023031083\n",
      "551\n",
      "(array([-1,  0,  1]), array([ 17448, 764571, 149711], dtype=int64))\n",
      "Wall time: 3min 12s\n"
     ]
    }
   ],
   "source": [
    "%%time\n",
    "model_knn_lula_bw, knn_lula_bw, df_train_knn_lula_bw, df_teste_knn_lula_bw = \\\n",
    "train_model_bw(KNeighborsClassifier(), df_lula_train, 100)\n",
    "model_knn_lula_bw = model_knn_lula_bw.fit(Bag_of_words_teste(df_train_knn_lula_bw, knn_lula_bw).toarray(), df_train_knn_lula_bw['Sentimento'].str.replace('p','1').replace('x','0').replace('n','-1').astype(int))\n",
    "\n",
    "df_lula = AnaliseSentimentos_bw(df_lula, knn_lula_bw,model_knn_lula_bw, 'predict_bw_KNN')"
   ]
  },
  {
   "cell_type": "markdown",
   "id": "db128468",
   "metadata": {},
   "source": [
    "### Lula - KNN - tfidf"
   ]
  },
  {
   "cell_type": "code",
   "execution_count": 44,
   "id": "36edb729",
   "metadata": {},
   "outputs": [
    {
     "name": "stdout",
     "output_type": "stream",
     "text": [
      "accuracy:\n",
      "0.5387382864792504\n",
      "precision:\n",
      "0.3895578010075373\n",
      "recall:\n",
      "0.5096271383322866\n",
      "f1:\n",
      "0.3388240957521333\n",
      "matrix_confusion:\n",
      "[[ 814  378  502]\n",
      " [   1    1    0]\n",
      " [2438 2194 5624]]\n",
      "0.4441868303928019\n",
      "2940\n",
      "(array([-1,  0,  1]), array([287818, 295979, 347933], dtype=int64))\n",
      "Wall time: 3min 31s\n"
     ]
    }
   ],
   "source": [
    "%%time\n",
    "model_knn_lula_tfidf, knn_lula_tfidf, df_train_knn_lula_tfidf, df_teste_knn_lula_tfidf = \\\n",
    "train_model_tfidf(KNeighborsClassifier(), df_lula_train, 100)\n",
    "model_knn_lula_tfidf = model_knn_lula_tfidf.fit(Bag_of_words_teste(df_train_knn_lula_tfidf, knn_lula_tfidf).toarray(), df_train_knn_lula_tfidf['Sentimento'].str.replace('p','1').replace('x','0').replace('n','-1').astype(int))\n",
    "\n",
    "df_lula = AnaliseSentimentos_tfidf(df_lula, knn_lula_tfidf,model_knn_lula_tfidf, 'predict_tfidf_KNN')"
   ]
  },
  {
   "cell_type": "markdown",
   "id": "db094735",
   "metadata": {},
   "source": [
    "# Simone"
   ]
  },
  {
   "cell_type": "markdown",
   "id": "334ad64c",
   "metadata": {},
   "source": [
    "### Simone - Arvore de Decisao - bw"
   ]
  },
  {
   "cell_type": "code",
   "execution_count": 45,
   "id": "0de6efd3",
   "metadata": {},
   "outputs": [
    {
     "name": "stdout",
     "output_type": "stream",
     "text": [
      "accuracy:\n",
      "0.48148148148148145\n",
      "precision:\n",
      "0.4775311025311025\n",
      "recall:\n",
      "0.49218275652701876\n",
      "f1:\n",
      "0.39195174516275433\n",
      "matrix_confusion:\n",
      "[[ 1  1  0]\n",
      " [18 35  8]\n",
      " [23 20 29]]\n",
      "0.5824212407655569\n",
      "8\n",
      "(array([-1,  0,  1]), array([33816, 44920, 52426], dtype=int64))\n",
      "Wall time: 6.6 s\n"
     ]
    }
   ],
   "source": [
    "%%time\n",
    "model_tree_simone_bw, tree_simone_bw, df_train_tree_simone_bw, df_teste_tree_simone_bw = \\\n",
    "train_model_bw(tree.DecisionTreeClassifier(), df_simone_train, 100)\n",
    "model_tree_simone_bw = model_tree_simone_bw.fit(Bag_of_words_teste(df_train_tree_simone_bw, tree_simone_bw), df_train_tree_simone_bw['Sentimento'].str.replace('p','1').replace('x','0').replace('n','-1').astype(int))\n",
    "\n",
    "df_simone = AnaliseSentimentos_bw(df_simone, tree_simone_bw,model_tree_simone_bw, 'predict_bw_ArvoreDeDecisao')\n"
   ]
  },
  {
   "cell_type": "markdown",
   "id": "41f4a8ef",
   "metadata": {},
   "source": [
    "### Simone - Arvore de Decisao - tfidf"
   ]
  },
  {
   "cell_type": "code",
   "execution_count": 46,
   "id": "43ad13f9",
   "metadata": {},
   "outputs": [
    {
     "name": "stdout",
     "output_type": "stream",
     "text": [
      "accuracy:\n",
      "0.6666666666666666\n",
      "precision:\n",
      "0.5335485133020345\n",
      "recall:\n",
      "0.7699605343047966\n",
      "f1:\n",
      "0.535227599447783\n",
      "matrix_confusion:\n",
      "[[ 2  0  0]\n",
      " [ 8 35 18]\n",
      " [ 6 13 53]]\n",
      "0.6263508284303202\n",
      "6\n",
      "(array([-1,  0,  1]), array([36998, 53451, 40713], dtype=int64))\n",
      "Wall time: 6.78 s\n"
     ]
    }
   ],
   "source": [
    "%%time\n",
    "model_tree_simone_tfidf, tree_simone_tfidf, df_train_tree_simone_tfidf, df_teste_tree_simone_tfidf = \\\n",
    "train_model_tfidf(tree.DecisionTreeClassifier(), df_simone_train, 100)\n",
    "model_tree_simone_tfidf = model_tree_simone_tfidf.fit(tfidf_teste(df_train_tree_simone_tfidf, tree_simone_tfidf), df_train_tree_simone_tfidf['Sentimento'].str.replace('p','1').replace('x','0').replace('n','-1').astype(int))\n",
    "\n",
    "df_simone = AnaliseSentimentos_tfidf(df_simone, tree_simone_tfidf,model_tree_simone_tfidf, 'predict_tfidf_ArvoreDeDecisao')\n"
   ]
  },
  {
   "cell_type": "markdown",
   "id": "f934ee36",
   "metadata": {},
   "source": [
    "### Simone - Naive Bayes - bw"
   ]
  },
  {
   "cell_type": "code",
   "execution_count": 47,
   "id": "55d83565",
   "metadata": {},
   "outputs": [
    {
     "name": "stdout",
     "output_type": "stream",
     "text": [
      "accuracy:\n",
      "0.6\n",
      "precision:\n",
      "0.5140238183716445\n",
      "recall:\n",
      "0.7349726775956285\n",
      "f1:\n",
      "0.48219167382644695\n",
      "matrix_confusion:\n",
      "[[ 2  0  0]\n",
      " [ 8 43 10]\n",
      " [16 20 36]]\n",
      "0.5863891294086958\n",
      "10\n",
      "(array([-1,  0,  1]), array([29535, 61064, 40563], dtype=int64))\n",
      "Wall time: 9.84 s\n"
     ]
    }
   ],
   "source": [
    "%%time\n",
    "model_nb_simone_bw, nb_simone_bw, df_train_nb_simone_bw, df_teste_nb_simone_bw = \\\n",
    "train_model_bw(GaussianNB(), df_simone_train, 100)\n",
    "model_nb_simone_bw = model_nb_simone_bw.fit(Bag_of_words_teste(df_train_nb_simone_bw, nb_simone_bw).toarray(), df_train_nb_simone_bw['Sentimento'].str.replace('p','1').replace('x','0').replace('n','-1').astype(int))\n",
    "\n",
    "df_simone = AnaliseSentimentos_bw(df_simone, nb_simone_bw,model_nb_simone_bw, 'predict_bw_NaiveBayes')\n"
   ]
  },
  {
   "cell_type": "markdown",
   "id": "713a8608",
   "metadata": {},
   "source": [
    "### Simone - Naive Bayes - tfidf"
   ]
  },
  {
   "cell_type": "code",
   "execution_count": 48,
   "id": "6eeea615",
   "metadata": {},
   "outputs": [
    {
     "name": "stdout",
     "output_type": "stream",
     "text": [
      "accuracy:\n",
      "0.6296296296296297\n",
      "precision:\n",
      "0.528042328042328\n",
      "recall:\n",
      "0.7559957498482088\n",
      "f1:\n",
      "0.5046946612164004\n",
      "matrix_confusion:\n",
      "[[ 2  0  0]\n",
      " [ 7 46  8]\n",
      " [12 23 37]]\n",
      "0.6045905921841417\n",
      "12\n",
      "(array([-1,  0,  1]), array([44694, 59470, 26998], dtype=int64))\n",
      "Wall time: 10.3 s\n"
     ]
    }
   ],
   "source": [
    "%%time\n",
    "model_nb_simone_tfidf, nb_simone_tfidf, df_train_nb_simone_tfidf, df_teste_nb_simone_tfidf = \\\n",
    "train_model_tfidf(GaussianNB(), df_simone_train, 100)\n",
    "model_nb_simone_tfidf = model_nb_simone_tfidf.fit(tfidf_teste(df_train_nb_simone_tfidf, nb_simone_tfidf).toarray(), df_train_nb_simone_tfidf['Sentimento'].str.replace('p','1').replace('x','0').replace('n','-1').astype(int))\n",
    "\n",
    "df_simone = AnaliseSentimentos_tfidf(df_simone, nb_simone_tfidf,model_nb_simone_tfidf, 'predict_tfidf_NaiveBayes')\n"
   ]
  },
  {
   "cell_type": "markdown",
   "id": "a7e64f12",
   "metadata": {},
   "source": [
    "### Simone - Random Forest - bw"
   ]
  },
  {
   "cell_type": "code",
   "execution_count": 49,
   "id": "31aaf2a6",
   "metadata": {},
   "outputs": [
    {
     "name": "stdout",
     "output_type": "stream",
     "text": [
      "accuracy:\n",
      "0.6444444444444445\n",
      "precision:\n",
      "0.5236051228002938\n",
      "recall:\n",
      "0.7660898603521554\n",
      "f1:\n",
      "0.52517150110733\n",
      "matrix_confusion:\n",
      "[[ 2  0  0]\n",
      " [ 3 47 11]\n",
      " [10 24 38]]\n",
      "0.6048852712733213\n",
      "1\n",
      "(array([-1,  0,  1]), array([ 19807, 100847,  10508], dtype=int64))\n",
      "Wall time: 29 s\n"
     ]
    }
   ],
   "source": [
    "%%time\n",
    "model_RandomForest_simone_bw, RandomForest_simone_bw, df_train_RandomForest_simone_bw, df_teste_RandomForest_simone_bw = \\\n",
    "train_model_bw(RandomForestClassifier(), df_simone_train, 100)\n",
    "model_RandomForest_simone_bw = model_RandomForest_simone_bw.fit(Bag_of_words_teste(df_train_RandomForest_simone_bw, RandomForest_simone_bw).toarray(), df_train_RandomForest_simone_bw['Sentimento'].str.replace('p','1').replace('x','0').replace('n','-1').astype(int))\n",
    "\n",
    "df_simone = AnaliseSentimentos_bw(df_simone, RandomForest_simone_bw,model_RandomForest_simone_bw, 'predict_bw_RandomForest')\n"
   ]
  },
  {
   "cell_type": "markdown",
   "id": "80e45eb2",
   "metadata": {},
   "source": [
    "### Simone - Random Forest - tfidf"
   ]
  },
  {
   "cell_type": "code",
   "execution_count": 50,
   "id": "01ad477f",
   "metadata": {},
   "outputs": [
    {
     "name": "stdout",
     "output_type": "stream",
     "text": [
      "accuracy:\n",
      "0.674074074074074\n",
      "precision:\n",
      "0.5407843137254902\n",
      "recall:\n",
      "0.7762598664238008\n",
      "f1:\n",
      "0.5400167084377611\n",
      "matrix_confusion:\n",
      "[[ 2  0  0]\n",
      " [ 8 37 16]\n",
      " [ 7 13 52]]\n",
      "0.6327837406652815\n",
      "7\n",
      "(array([-1,  0,  1]), array([32810, 49438, 48914], dtype=int64))\n",
      "Wall time: 29 s\n"
     ]
    }
   ],
   "source": [
    "%%time\n",
    "model_RandomForest_simone_tfidf, RandomForest_simone_tfidf, df_train_RandomForest_simone_tfidf, df_teste_RandomForest_simone_tfidf = \\\n",
    "train_model_tfidf(RandomForestClassifier(), df_simone_train, 100)\n",
    "model_RandomForest_simone_tfidf = model_RandomForest_simone_tfidf.fit(tfidf_teste(df_train_RandomForest_simone_tfidf, RandomForest_simone_tfidf).toarray(), df_train_RandomForest_simone_tfidf['Sentimento'].str.replace('p','1').replace('x','0').replace('n','-1').astype(int))\n",
    "\n",
    "df_simone = AnaliseSentimentos_tfidf(df_simone, RandomForest_simone_tfidf,model_RandomForest_simone_tfidf, 'predict_tfidf_RandomForest')\n"
   ]
  },
  {
   "cell_type": "markdown",
   "id": "3d5aa5d4",
   "metadata": {},
   "source": [
    "### Simone - SVM - bw"
   ]
  },
  {
   "cell_type": "code",
   "execution_count": 51,
   "id": "4d91ccc7",
   "metadata": {},
   "outputs": [
    {
     "name": "stdout",
     "output_type": "stream",
     "text": [
      "accuracy:\n",
      "0.6444444444444445\n",
      "precision:\n",
      "0.5623572559806619\n",
      "recall:\n",
      "0.7560716454159078\n",
      "f1:\n",
      "0.5147818599311137\n",
      "matrix_confusion:\n",
      "[[ 2  0  0]\n",
      " [14 35 12]\n",
      " [14  8 50]]\n",
      "0.6315871703073883\n",
      "11\n",
      "(array([-1,  0,  1]), array([40151, 61066, 29945], dtype=int64))\n",
      "Wall time: 7.03 s\n"
     ]
    }
   ],
   "source": [
    "%%time\n",
    "model_svc_simone_bw, svc_simone_bw, df_train_svc_simone_bw, df_teste_svc_simone_bw = \\\n",
    "train_model_bw(LinearSVC(), df_simone_train, 100)\n",
    "model_svc_simone_bw = model_svc_simone_bw.fit(Bag_of_words_teste(df_train_svc_simone_bw, svc_simone_bw).toarray(), df_train_svc_simone_bw['Sentimento'].str.replace('p','1').replace('x','0').replace('n','-1').astype(int))\n",
    "\n",
    "df_simone = AnaliseSentimentos_bw(df_simone, svc_simone_bw,model_svc_simone_bw, 'predict_bw_SVM')"
   ]
  },
  {
   "cell_type": "markdown",
   "id": "bc6dce97",
   "metadata": {},
   "source": [
    "### Simone - SVM - tfidf"
   ]
  },
  {
   "cell_type": "code",
   "execution_count": 52,
   "id": "eaa57f49",
   "metadata": {},
   "outputs": [
    {
     "name": "stdout",
     "output_type": "stream",
     "text": [
      "accuracy:\n",
      "0.6592592592592592\n",
      "precision:\n",
      "0.5532679738562091\n",
      "recall:\n",
      "0.7728445658773527\n",
      "f1:\n",
      "0.5267686243295999\n",
      "matrix_confusion:\n",
      "[[ 2  0  0]\n",
      " [ 9 44  8]\n",
      " [13 16 43]]\n",
      "0.6280351058306053\n",
      "13\n",
      "(array([-1,  0,  1]), array([41356, 57685, 32121], dtype=int64))\n",
      "Wall time: 6.97 s\n"
     ]
    }
   ],
   "source": [
    "%%time\n",
    "model_svc_simone_tfidf, svc_simone_tfidf, df_train_svc_simone_tfidf, df_teste_svc_simone_tfidf = \\\n",
    "train_model_tfidf(LinearSVC(), df_simone_train, 100)\n",
    "model_svc_simone_tfidf = model_svc_simone_tfidf.fit(tfidf_teste(df_train_svc_simone_tfidf, svc_simone_tfidf).toarray(), df_train_svc_simone_tfidf['Sentimento'].str.replace('p','1').replace('x','0').replace('n','-1').astype(int))\n",
    "\n",
    "df_simone = AnaliseSentimentos_tfidf(df_simone, svc_simone_tfidf,model_svc_simone_tfidf, 'predict_tfidf_SVM')"
   ]
  },
  {
   "cell_type": "markdown",
   "id": "0069f365",
   "metadata": {},
   "source": [
    "### Simone - MLP - bw"
   ]
  },
  {
   "cell_type": "code",
   "execution_count": 53,
   "id": "76b62e0a",
   "metadata": {},
   "outputs": [
    {
     "name": "stdout",
     "output_type": "stream",
     "text": [
      "accuracy:\n",
      "0.6888888888888889\n",
      "precision:\n",
      "0.5500605326876514\n",
      "recall:\n",
      "0.6318306010928961\n",
      "f1:\n",
      "0.5257891414141415\n",
      "matrix_confusion:\n",
      "[[ 1  0  1]\n",
      " [ 4 47 10]\n",
      " [15 12 45]]\n",
      "0.6674181912608373\n",
      "7\n",
      "(array([-1,  0,  1]), array([32141, 68302, 30719], dtype=int64))\n",
      "Wall time: 1min 39s\n"
     ]
    }
   ],
   "source": [
    "%%time\n",
    "model_mlp_simone_bw, mlp_simone_bw, df_train_mlp_simone_bw, df_teste_mlp_simone_bw = \\\n",
    "train_model_bw(MLPClassifier(max_iter=400), df_simone_train, 100)\n",
    "model_mlp_simone_bw = model_mlp_simone_bw.fit(Bag_of_words_teste(df_train_mlp_simone_bw, mlp_simone_bw).toarray(), df_train_mlp_simone_bw['Sentimento'].str.replace('p','1').replace('x','0').replace('n','-1').astype(int))\n",
    "\n",
    "df_simone = AnaliseSentimentos_bw(df_simone, mlp_simone_bw,model_mlp_simone_bw, 'predict_bw_MLP')"
   ]
  },
  {
   "cell_type": "markdown",
   "id": "55494fc2",
   "metadata": {},
   "source": [
    "### Simone - MLP - tfidf"
   ]
  },
  {
   "cell_type": "code",
   "execution_count": 54,
   "id": "e187fac8",
   "metadata": {},
   "outputs": [
    {
     "name": "stdout",
     "output_type": "stream",
     "text": [
      "accuracy:\n",
      "0.6814814814814815\n",
      "precision:\n",
      "0.5544677544677544\n",
      "recall:\n",
      "0.6213570127504554\n",
      "f1:\n",
      "0.520601278302343\n",
      "matrix_confusion:\n",
      "[[ 1  0  1]\n",
      " [ 8 40 13]\n",
      " [13  8 51]]\n",
      "0.5944768817505086\n",
      "14\n",
      "(array([-1,  0,  1]), array([38912, 31518, 60732], dtype=int64))\n",
      "Wall time: 2min 3s\n"
     ]
    }
   ],
   "source": [
    "%%time\n",
    "model_mlp_simone_tfidf, mlp_simone_tfidf, df_train_mlp_simone_tfidf, df_teste_mlp_simone_tfidf = \\\n",
    "train_model_tfidf(MLPClassifier(max_iter=400), df_simone_train, 100)\n",
    "model_mlp_simone_tfidf = model_mlp_simone_tfidf.fit(Bag_of_words_teste(df_train_mlp_simone_tfidf, mlp_simone_tfidf).toarray(), df_train_mlp_simone_tfidf['Sentimento'].str.replace('p','1').replace('x','0').replace('n','-1').astype(int))\n",
    "\n",
    "df_simone = AnaliseSentimentos_tfidf(df_simone, mlp_simone_tfidf,model_mlp_simone_tfidf, 'predict_tfidf_MLP')"
   ]
  },
  {
   "cell_type": "markdown",
   "id": "fa1f6e12",
   "metadata": {},
   "source": [
    "### Simone - KNN - bw"
   ]
  },
  {
   "cell_type": "code",
   "execution_count": 55,
   "id": "4caa76ae",
   "metadata": {},
   "outputs": [
    {
     "name": "stdout",
     "output_type": "stream",
     "text": [
      "accuracy:\n",
      "0.48148148148148145\n",
      "precision:\n",
      "0.5193947525342875\n",
      "recall:\n",
      "0.49218275652701876\n",
      "f1:\n",
      "0.40932370099036763\n",
      "matrix_confusion:\n",
      "[[ 1  0  1]\n",
      " [16 35 10]\n",
      " [35  8 29]]\n",
      "0.6629099743877609\n",
      "2\n",
      "(array([-1,  0,  1]), array([  7000,   7389, 116773], dtype=int64))\n",
      "Wall time: 14.4 s\n"
     ]
    }
   ],
   "source": [
    "%%time\n",
    "model_knn_simone_bw, knn_simone_bw, df_train_knn_simone_bw, df_teste_knn_simone_bw = \\\n",
    "train_model_bw(KNeighborsClassifier(), df_simone_train, 100)\n",
    "model_knn_simone_bw = model_knn_simone_bw.fit(Bag_of_words_teste(df_train_knn_simone_bw, knn_simone_bw).toarray(), df_train_knn_simone_bw['Sentimento'].str.replace('p','1').replace('x','0').replace('n','-1').astype(int))\n",
    "\n",
    "df_simone = AnaliseSentimentos_bw(df_simone, knn_simone_bw,model_knn_simone_bw, 'predict_bw_KNN')"
   ]
  },
  {
   "cell_type": "markdown",
   "id": "ec6ca58e",
   "metadata": {},
   "source": [
    "### Simone - KNN - tfidf"
   ]
  },
  {
   "cell_type": "code",
   "execution_count": 56,
   "id": "f1fb5efe",
   "metadata": {},
   "outputs": [
    {
     "name": "stdout",
     "output_type": "stream",
     "text": [
      "accuracy:\n",
      "0.6148148148148148\n",
      "precision:\n",
      "0.5269862807176241\n",
      "recall:\n",
      "0.7450667880995749\n",
      "f1:\n",
      "0.49309239610963757\n",
      "matrix_confusion:\n",
      "[[ 2  0  0]\n",
      " [10 44  7]\n",
      " [12 23 37]]\n",
      "0.5949900699354128\n",
      "12\n",
      "(array([-1,  0,  1]), array([43923, 64888, 22351], dtype=int64))\n",
      "Wall time: 30.9 s\n"
     ]
    }
   ],
   "source": [
    "%%time\n",
    "model_knn_simone_tfidf, knn_simone_tfidf, df_train_knn_simone_tfidf, df_teste_knn_simone_tfidf = \\\n",
    "train_model_tfidf(KNeighborsClassifier(), df_simone_train, 100)\n",
    "model_knn_simone_tfidf = model_knn_simone_tfidf.fit(Bag_of_words_teste(df_train_knn_simone_tfidf, knn_simone_tfidf).toarray(), df_train_knn_simone_tfidf['Sentimento'].str.replace('p','1').replace('x','0').replace('n','-1').astype(int))\n",
    "\n",
    "df_simone = AnaliseSentimentos_tfidf(df_simone, knn_simone_tfidf,model_knn_simone_tfidf, 'predict_tfidf_KNN')"
   ]
  },
  {
   "cell_type": "markdown",
   "id": "e4e720fd",
   "metadata": {},
   "source": [
    "# Ciro"
   ]
  },
  {
   "cell_type": "markdown",
   "id": "5beb534f",
   "metadata": {},
   "source": [
    "### Ciro - Arvore de Decisao - bw"
   ]
  },
  {
   "cell_type": "code",
   "execution_count": 57,
   "id": "0a317ba8",
   "metadata": {},
   "outputs": [
    {
     "name": "stdout",
     "output_type": "stream",
     "text": [
      "accuracy:\n",
      "0.28656009473060984\n",
      "precision:\n",
      "0.33467291271846134\n",
      "recall:\n",
      "0.3002530564956249\n",
      "f1:\n",
      "0.15164556012169253\n",
      "matrix_confusion:\n",
      "[[   0    1    1]\n",
      " [   8   16    2]\n",
      " [1957 2851 1920]]\n",
      "0.39563912385063027\n",
      "1609\n",
      "(array([-1,  0,  1]), array([126080, 183774, 188212], dtype=int64))\n",
      "Wall time: 45 s\n"
     ]
    }
   ],
   "source": [
    "%%time\n",
    "model_tree_ciro_bw, tree_ciro_bw, df_train_tree_ciro_bw, df_teste_tree_ciro_bw = \\\n",
    "train_model_bw(tree.DecisionTreeClassifier(), df_ciro_train, 100)\n",
    "model_tree_ciro_bw = model_tree_ciro_bw.fit(Bag_of_words_teste(df_train_tree_ciro_bw, tree_ciro_bw), df_train_tree_ciro_bw['Sentimento'].str.replace('p','1').replace('x','0').replace('n','-1').astype(int))\n",
    "\n",
    "df_ciro = AnaliseSentimentos_bw(df_ciro, tree_ciro_bw,model_tree_ciro_bw, 'predict_bw_ArvoreDeDecisao')\n"
   ]
  },
  {
   "cell_type": "markdown",
   "id": "6ad56845",
   "metadata": {},
   "source": [
    "### Ciro - Arvore de Decisao - tfidf"
   ]
  },
  {
   "cell_type": "code",
   "execution_count": 58,
   "id": "a26c1c24",
   "metadata": {},
   "outputs": [
    {
     "name": "stdout",
     "output_type": "stream",
     "text": [
      "accuracy:\n",
      "0.4698046181172291\n",
      "precision:\n",
      "0.33559904548693487\n",
      "recall:\n",
      "0.6820520442696424\n",
      "f1:\n",
      "0.21888229383324884\n",
      "matrix_confusion:\n",
      "[[   2    0    0]\n",
      " [   3   15    8]\n",
      " [1754 1817 3157]]\n",
      "0.4265845004267638\n",
      "1754\n",
      "(array([-1,  0,  1]), array([205602, 134024, 158440], dtype=int64))\n",
      "Wall time: 45.4 s\n"
     ]
    }
   ],
   "source": [
    "%%time\n",
    "model_tree_ciro_tfidf, tree_ciro_tfidf, df_train_tree_ciro_tfidf, df_teste_tree_ciro_tfidf = \\\n",
    "train_model_tfidf(tree.DecisionTreeClassifier(), df_ciro_train, 100)\n",
    "model_tree_ciro_tfidf = model_tree_ciro_tfidf.fit(tfidf_teste(df_train_tree_ciro_tfidf, tree_ciro_tfidf), df_train_tree_ciro_tfidf['Sentimento'].str.replace('p','1').replace('x','0').replace('n','-1').astype(int))\n",
    "\n",
    "df_ciro = AnaliseSentimentos_tfidf(df_ciro, tree_ciro_tfidf,model_tree_ciro_tfidf, 'predict_tfidf_ArvoreDeDecisao')\n"
   ]
  },
  {
   "cell_type": "markdown",
   "id": "ac990958",
   "metadata": {},
   "source": [
    "### Ciro - Naive Bayes - bw"
   ]
  },
  {
   "cell_type": "code",
   "execution_count": 59,
   "id": "1039c570",
   "metadata": {},
   "outputs": [
    {
     "name": "stdout",
     "output_type": "stream",
     "text": [
      "accuracy:\n",
      "0.4732089994079337\n",
      "precision:\n",
      "0.33593514848800465\n",
      "recall:\n",
      "0.6193367175828531\n",
      "f1:\n",
      "0.220744521256287\n",
      "matrix_confusion:\n",
      "[[   2    0    0]\n",
      " [   8   10    8]\n",
      " [2502 1041 3185]]\n",
      "0.3876135890079022\n",
      "2297\n",
      "(array([-1,  0,  1]), array([190682, 129915, 177469], dtype=int64))\n",
      "Wall time: 1min 27s\n"
     ]
    }
   ],
   "source": [
    "%%time\n",
    "model_nb_ciro_bw, nb_ciro_bw, df_train_nb_ciro_bw, df_teste_nb_ciro_bw = \\\n",
    "train_model_bw(GaussianNB(), df_ciro_train, 100)\n",
    "model_nb_ciro_bw = model_nb_ciro_bw.fit(Bag_of_words_teste(df_train_nb_ciro_bw, nb_ciro_bw).toarray(), df_train_nb_ciro_bw['Sentimento'].str.replace('p','1').replace('x','0').replace('n','-1').astype(int))\n",
    "\n",
    "df_ciro = AnaliseSentimentos_bw(df_ciro, nb_ciro_bw,model_nb_ciro_bw, 'predict_bw_NaiveBayes')\n"
   ]
  },
  {
   "cell_type": "markdown",
   "id": "5f03aad2",
   "metadata": {},
   "source": [
    "### Ciro - Naive Bayes - tfidf"
   ]
  },
  {
   "cell_type": "code",
   "execution_count": 60,
   "id": "0fbc84a3",
   "metadata": {},
   "outputs": [
    {
     "name": "stdout",
     "output_type": "stream",
     "text": [
      "accuracy:\n",
      "0.49985198342214326\n",
      "precision:\n",
      "0.336964314578899\n",
      "recall:\n",
      "0.7048804841611025\n",
      "f1:\n",
      "0.23000654748328112\n",
      "matrix_confusion:\n",
      "[[   2    0    0]\n",
      " [   5   16    5]\n",
      " [1978 1391 3359]]\n",
      "0.44292583241135647\n",
      "1978\n",
      "(array([-1,  0,  1]), array([157390, 150551, 190125], dtype=int64))\n",
      "Wall time: 1min 31s\n"
     ]
    }
   ],
   "source": [
    "%%time\n",
    "model_nb_ciro_tfidf, nb_ciro_tfidf, df_train_nb_ciro_tfidf, df_teste_nb_ciro_tfidf = \\\n",
    "train_model_tfidf(GaussianNB(), df_ciro_train, 100)\n",
    "model_nb_ciro_tfidf = model_nb_ciro_tfidf.fit(tfidf_teste(df_train_nb_ciro_tfidf, nb_ciro_tfidf).toarray(), df_train_nb_ciro_tfidf['Sentimento'].str.replace('p','1').replace('x','0').replace('n','-1').astype(int))\n",
    "\n",
    "df_ciro = AnaliseSentimentos_tfidf(df_ciro, nb_ciro_tfidf,model_nb_ciro_tfidf, 'predict_tfidf_NaiveBayes')\n"
   ]
  },
  {
   "cell_type": "markdown",
   "id": "84080ded",
   "metadata": {},
   "source": [
    "### Ciro - Random Forest - bw"
   ]
  },
  {
   "cell_type": "code",
   "execution_count": 61,
   "id": "c5b089d3",
   "metadata": {},
   "outputs": [
    {
     "name": "stdout",
     "output_type": "stream",
     "text": [
      "accuracy:\n",
      "0.3845470692717584\n",
      "precision:\n",
      "0.3366132132635921\n",
      "recall:\n",
      "0.6790565261136009\n",
      "f1:\n",
      "0.19190537170200664\n",
      "matrix_confusion:\n",
      "[[   2    0    0]\n",
      " [   6   17    3]\n",
      " [2500 1649 2579]]\n",
      "0.45749387834973876\n",
      "1573\n",
      "(array([-1,  0,  1]), array([123245, 149778, 225043], dtype=int64))\n",
      "Wall time: 2min 3s\n"
     ]
    }
   ],
   "source": [
    "%%time\n",
    "model_RandomForest_ciro_bw, RandomForest_ciro_bw, df_train_RandomForest_ciro_bw, df_teste_RandomForest_ciro_bw = \\\n",
    "train_model_bw(RandomForestClassifier(), df_ciro_train, 100)\n",
    "model_RandomForest_ciro_bw = model_RandomForest_ciro_bw.fit(Bag_of_words_teste(df_train_RandomForest_ciro_bw, RandomForest_ciro_bw).toarray(), df_train_RandomForest_ciro_bw['Sentimento'].str.replace('p','1').replace('x','0').replace('n','-1').astype(int))\n",
    "\n",
    "df_ciro = AnaliseSentimentos_bw(df_ciro, RandomForest_ciro_bw,model_RandomForest_ciro_bw, 'predict_bw_RandomForest')\n"
   ]
  },
  {
   "cell_type": "markdown",
   "id": "682ac138",
   "metadata": {},
   "source": [
    "### Ciro - Random Forest - tfidf"
   ]
  },
  {
   "cell_type": "code",
   "execution_count": 62,
   "id": "08ec4371",
   "metadata": {},
   "outputs": [
    {
     "name": "stdout",
     "output_type": "stream",
     "text": [
      "accuracy:\n",
      "0.38972764949674366\n",
      "precision:\n",
      "0.3363541886896759\n",
      "recall:\n",
      "0.6935615415104119\n",
      "f1:\n",
      "0.1931532597422734\n",
      "matrix_confusion:\n",
      "[[   2    0    0]\n",
      " [   5   18    3]\n",
      " [2198 1917 2613]]\n",
      "0.4031991598597762\n",
      "2198\n",
      "(array([-1,  0,  1]), array([197877, 194728, 105461], dtype=int64))\n",
      "Wall time: 1min 56s\n"
     ]
    }
   ],
   "source": [
    "%%time\n",
    "model_RandomForest_ciro_tfidf, RandomForest_ciro_tfidf, df_train_RandomForest_ciro_tfidf, df_teste_RandomForest_ciro_tfidf = \\\n",
    "train_model_tfidf(RandomForestClassifier(), df_ciro_train, 100)\n",
    "model_RandomForest_ciro_tfidf = model_RandomForest_ciro_tfidf.fit(tfidf_teste(df_train_RandomForest_ciro_tfidf, RandomForest_ciro_tfidf).toarray(), df_train_RandomForest_ciro_tfidf['Sentimento'].str.replace('p','1').replace('x','0').replace('n','-1').astype(int))\n",
    "\n",
    "df_ciro = AnaliseSentimentos_tfidf(df_ciro, RandomForest_ciro_tfidf,model_RandomForest_ciro_tfidf, 'predict_tfidf_RandomForest')\n"
   ]
  },
  {
   "cell_type": "markdown",
   "id": "a15fd085",
   "metadata": {},
   "source": [
    "### Ciro - SVM - bw"
   ]
  },
  {
   "cell_type": "code",
   "execution_count": 63,
   "id": "c67acaa5",
   "metadata": {},
   "outputs": [
    {
     "name": "stdout",
     "output_type": "stream",
     "text": [
      "accuracy:\n",
      "0.422291296625222\n",
      "precision:\n",
      "0.3369752829907065\n",
      "recall:\n",
      "0.6789193268087441\n",
      "f1:\n",
      "0.20522440411164308\n",
      "matrix_confusion:\n",
      "[[   2    0    0]\n",
      " [   8   16    2]\n",
      " [2429 1464 2835]]\n",
      "0.43872051832945386\n",
      "1814\n",
      "(array([-1,  0,  1]), array([146807, 180671, 170588], dtype=int64))\n",
      "Wall time: 48.4 s\n"
     ]
    }
   ],
   "source": [
    "%%time\n",
    "model_svc_ciro_bw, svc_ciro_bw, df_train_svc_ciro_bw, df_teste_svc_ciro_bw = \\\n",
    "train_model_bw(LinearSVC(), df_ciro_train, 100)\n",
    "model_svc_ciro_bw = model_svc_ciro_bw.fit(Bag_of_words_teste(df_train_svc_ciro_bw, svc_ciro_bw).toarray(), df_train_svc_ciro_bw['Sentimento'].str.replace('p','1').replace('x','0').replace('n','-1').astype(int))\n",
    "\n",
    "df_ciro = AnaliseSentimentos_bw(df_ciro, svc_ciro_bw,model_svc_ciro_bw, 'predict_bw_SVM')"
   ]
  },
  {
   "cell_type": "markdown",
   "id": "9e0fa02e",
   "metadata": {},
   "source": [
    "### Ciro - SVM - tfidf"
   ]
  },
  {
   "cell_type": "code",
   "execution_count": 64,
   "id": "8c6ce0c5",
   "metadata": {},
   "outputs": [
    {
     "name": "stdout",
     "output_type": "stream",
     "text": [
      "accuracy:\n",
      "0.5047365304914151\n",
      "precision:\n",
      "0.3363388176068713\n",
      "recall:\n",
      "0.5398983200707339\n",
      "f1:\n",
      "0.23043927412910492\n",
      "matrix_confusion:\n",
      "[[   1    1    0]\n",
      " [   4   16    6]\n",
      " [1787 1548 3393]]\n",
      "0.40285323557453134\n",
      "1787\n",
      "(array([-1,  0,  1]), array([139285, 183303, 175478], dtype=int64))\n",
      "Wall time: 46.4 s\n"
     ]
    }
   ],
   "source": [
    "%%time\n",
    "model_svc_ciro_tfidf, svc_ciro_tfidf, df_train_svc_ciro_tfidf, df_teste_svc_ciro_tfidf = \\\n",
    "train_model_tfidf(LinearSVC(), df_ciro_train, 100)\n",
    "model_svc_ciro_tfidf = model_svc_ciro_tfidf.fit(tfidf_teste(df_train_svc_ciro_tfidf, svc_ciro_tfidf).toarray(), df_train_svc_ciro_tfidf['Sentimento'].str.replace('p','1').replace('x','0').replace('n','-1').astype(int))\n",
    "\n",
    "df_ciro = AnaliseSentimentos_tfidf(df_ciro, svc_ciro_tfidf,model_svc_ciro_tfidf, 'predict_tfidf_SVM')"
   ]
  },
  {
   "cell_type": "markdown",
   "id": "285e38f4",
   "metadata": {},
   "source": [
    "### Ciro - MLP - bw"
   ]
  },
  {
   "cell_type": "code",
   "execution_count": 65,
   "id": "6daba2f4",
   "metadata": {},
   "outputs": [
    {
     "name": "stdout",
     "output_type": "stream",
     "text": [
      "accuracy:\n",
      "0.4635879218472469\n",
      "precision:\n",
      "0.3363654523608996\n",
      "recall:\n",
      "0.5261250342998262\n",
      "f1:\n",
      "0.21844585495660276\n",
      "matrix_confusion:\n",
      "[[   1    0    1]\n",
      " [   3   16    7]\n",
      " [2201 1412 3115]]\n",
      "0.4455410179104286\n",
      "1775\n",
      "(array([-1,  0,  1]), array([152025, 142870, 203171], dtype=int64))\n",
      "Wall time: 4min 39s\n"
     ]
    }
   ],
   "source": [
    "%%time\n",
    "model_mlp_ciro_bw, mlp_ciro_bw, df_train_mlp_ciro_bw, df_teste_mlp_ciro_bw = \\\n",
    "train_model_bw(MLPClassifier(max_iter=400), df_ciro_train, 100)\n",
    "model_mlp_ciro_bw = model_mlp_ciro_bw.fit(Bag_of_words_teste(df_train_mlp_ciro_bw, mlp_ciro_bw).toarray(), df_train_mlp_ciro_bw['Sentimento'].str.replace('p','1').replace('x','0').replace('n','-1').astype(int))\n",
    "\n",
    "df_ciro = AnaliseSentimentos_bw(df_ciro, mlp_ciro_bw,model_mlp_ciro_bw, 'predict_bw_MLP')"
   ]
  },
  {
   "cell_type": "markdown",
   "id": "90c6f382",
   "metadata": {},
   "source": [
    "### Ciro - MLP - tfidf"
   ]
  },
  {
   "cell_type": "code",
   "execution_count": 66,
   "id": "8a461d98",
   "metadata": {},
   "outputs": [
    {
     "name": "stdout",
     "output_type": "stream",
     "text": [
      "accuracy:\n",
      "0.5201302545885139\n",
      "precision:\n",
      "0.335820993298076\n",
      "recall:\n",
      "0.6605841641513461\n",
      "f1:\n",
      "0.23434192749187632\n",
      "matrix_confusion:\n",
      "[[   2    0    0]\n",
      " [   6   12    8]\n",
      " [1856 1372 3500]]\n",
      "0.43771933488245307\n",
      "1856\n",
      "(array([-1,  0,  1]), array([156087, 162440, 179539], dtype=int64))\n",
      "Wall time: 5min 6s\n"
     ]
    }
   ],
   "source": [
    "%%time\n",
    "model_mlp_ciro_tfidf, mlp_ciro_tfidf, df_train_mlp_ciro_tfidf, df_teste_mlp_ciro_tfidf = \\\n",
    "train_model_tfidf(MLPClassifier(max_iter=400), df_ciro_train, 100)\n",
    "model_mlp_ciro_tfidf = model_mlp_ciro_tfidf.fit(Bag_of_words_teste(df_train_mlp_ciro_tfidf, mlp_ciro_tfidf).toarray(), df_train_mlp_ciro_tfidf['Sentimento'].str.replace('p','1').replace('x','0').replace('n','-1').astype(int))\n",
    "\n",
    "df_ciro = AnaliseSentimentos_tfidf(df_ciro, mlp_ciro_tfidf,model_mlp_ciro_tfidf, 'predict_tfidf_MLP')"
   ]
  },
  {
   "cell_type": "markdown",
   "id": "d8d9c068",
   "metadata": {},
   "source": [
    "### Ciro - KNN - bw"
   ]
  },
  {
   "cell_type": "code",
   "execution_count": 67,
   "id": "d4e94485",
   "metadata": {},
   "outputs": [
    {
     "name": "stdout",
     "output_type": "stream",
     "text": [
      "accuracy:\n",
      "0.012137359384251036\n",
      "precision:\n",
      "0.3350121246036187\n",
      "recall:\n",
      "0.23394005914814475\n",
      "f1:\n",
      "0.00961523360816647\n",
      "matrix_confusion:\n",
      "[[   0    2    0]\n",
      " [   8   18    0]\n",
      " [3110 3554   64]]\n",
      "0.4097075980234055\n",
      "1286\n",
      "(array([-1,  0,  1]), array([ 95788,  54268, 348010], dtype=int64))\n",
      "Wall time: 1min 48s\n"
     ]
    }
   ],
   "source": [
    "%%time\n",
    "model_knn_ciro_bw, knn_ciro_bw, df_train_knn_ciro_bw, df_teste_knn_ciro_bw = \\\n",
    "train_model_bw(KNeighborsClassifier(), df_ciro_train, 100)\n",
    "model_knn_ciro_bw = model_knn_ciro_bw.fit(Bag_of_words_teste(df_train_knn_ciro_bw, knn_ciro_bw).toarray(), df_train_knn_ciro_bw['Sentimento'].str.replace('p','1').replace('x','0').replace('n','-1').astype(int))\n",
    "\n",
    "df_ciro = AnaliseSentimentos_bw(df_ciro, knn_ciro_bw,model_knn_ciro_bw, 'predict_bw_KNN')"
   ]
  },
  {
   "cell_type": "markdown",
   "id": "fa2e1997",
   "metadata": {},
   "source": [
    "### Ciro - KNN - tfidf"
   ]
  },
  {
   "cell_type": "code",
   "execution_count": 68,
   "id": "045616f5",
   "metadata": {},
   "outputs": [
    {
     "name": "stdout",
     "output_type": "stream",
     "text": [
      "accuracy:\n",
      "0.39742451154529307\n",
      "precision:\n",
      "0.33507961058417446\n",
      "recall:\n",
      "0.6067410591786335\n",
      "f1:\n",
      "0.1942997178080413\n",
      "matrix_confusion:\n",
      "[[   2    0    0]\n",
      " [   9   11    6]\n",
      " [2414 1642 2672]]\n",
      "0.38338622477903556\n",
      "2414\n",
      "(array([-1,  0,  1]), array([199838, 180045, 118183], dtype=int64))\n",
      "Wall time: 2min 3s\n"
     ]
    }
   ],
   "source": [
    "%%time\n",
    "model_knn_ciro_tfidf, knn_ciro_tfidf, df_train_knn_ciro_tfidf, df_teste_knn_ciro_tfidf = \\\n",
    "train_model_tfidf(KNeighborsClassifier(), df_ciro_train, 100)\n",
    "model_knn_ciro_tfidf = model_knn_ciro_tfidf.fit(Bag_of_words_teste(df_train_knn_ciro_tfidf, knn_ciro_tfidf).toarray(), df_train_knn_ciro_tfidf['Sentimento'].str.replace('p','1').replace('x','0').replace('n','-1').astype(int))\n",
    "\n",
    "df_ciro = AnaliseSentimentos_tfidf(df_ciro, knn_ciro_tfidf,model_knn_ciro_tfidf, 'predict_tfidf_KNN')"
   ]
  },
  {
   "cell_type": "code",
   "execution_count": 69,
   "id": "2f967f97",
   "metadata": {},
   "outputs": [],
   "source": [
    "df_bolsonaro.to_excel('bolsonaro_predict3.xlsx')\n",
    "df_lula.to_excel('lula_predict3.xlsx')\n",
    "df_simone.to_excel('simone_predict3.xlsx')\n",
    "df_ciro.to_excel('ciro_predict3.xlsx')"
   ]
  },
  {
   "cell_type": "code",
   "execution_count": 70,
   "id": "58714574",
   "metadata": {},
   "outputs": [],
   "source": [
    "def VotacaoPredict(df):\n",
    "    for i in df.index:\n",
    "        pos=0\n",
    "        neu=0\n",
    "        neg=0\n",
    "        for j in ['predict_tfidf_MLP','predict_bw_MLP',\n",
    "                  'predict_tfidf_SVM','predict_bw_SVM',\n",
    "                 'predict_tfidf_RandomForest','predict_bw_RandomForest',\n",
    "                 'predict_tfidf_NaiveBayes','predict_bw_NaiveBayes',\n",
    "                 'predict_tfidf_ArvoreDeDecisao','predict_bw_ArvoreDeDecisao',\n",
    "                 'predict_tfidf_KNN', 'predict_bw_KNN']:\n",
    "            if (df.loc[i,j]==1):\n",
    "                pos+=1\n",
    "            elif (df.loc[i,j]==0):\n",
    "                neu+=1    \n",
    "            else:\n",
    "                neg+=1\n",
    "        \n",
    "        if((neu>=neg)& (neu>=pos)):\n",
    "            df.loc[i,'VotacaoPredict_norm'] = 0\n",
    "        elif((neg>=pos)& (neg>=neu)):\n",
    "            df.loc[i,'VotacaoPredict_norm'] = -1\n",
    "        else:\n",
    "            df.loc[i,'VotacaoPredict_norm'] = 1     \n",
    "    #print(df['VotacaoPredict_ajust'].value_counts())\n",
    "    print(df['VotacaoPredict_norm'].value_counts())        \n",
    "    return df"
   ]
  },
  {
   "cell_type": "code",
   "execution_count": 71,
   "id": "133c0e8e",
   "metadata": {},
   "outputs": [
    {
     "name": "stdout",
     "output_type": "stream",
     "text": [
      " 1.0    546907\n",
      " 0.0    302082\n",
      "-1.0     97449\n",
      "Name: VotacaoPredict_norm, dtype: int64\n",
      " 0.0    540879\n",
      " 1.0    284524\n",
      "-1.0    106327\n",
      "Name: VotacaoPredict_norm, dtype: int64\n",
      " 0.0    61606\n",
      "-1.0    35215\n",
      " 1.0    34341\n",
      "Name: VotacaoPredict_norm, dtype: int64\n",
      " 0.0    175705\n",
      "-1.0    161910\n",
      " 1.0    160451\n",
      "Name: VotacaoPredict_norm, dtype: int64\n"
     ]
    }
   ],
   "source": [
    "df_bolsonaro_predict2 = VotacaoPredict(df_bolsonaro)\n",
    "df_lula_predict2 = VotacaoPredict(df_lula)\n",
    "df_simone_predict2 = VotacaoPredict(df_simone)\n",
    "df_ciro_predict2 = VotacaoPredict(df_ciro)"
   ]
  },
  {
   "cell_type": "code",
   "execution_count": 74,
   "id": "756de764",
   "metadata": {},
   "outputs": [],
   "source": [
    "df_bolsonaro_predict2.to_excel('bolsonaro_resultado_equilibrio2.xlsx')\n",
    "df_lula_predict2.to_excel('lula_resultado_equilibrio2.xlsx')\n",
    "df_simone_predict2.to_excel('simone_resultado_equilibrio2.xlsx')\n",
    "df_ciro_predict2.to_excel('ciro_resultado_equilibrio2.xlsx')"
   ]
  },
  {
   "cell_type": "code",
   "execution_count": null,
   "id": "9580e4bb",
   "metadata": {
    "scrolled": true
   },
   "outputs": [],
   "source": [
    "# df_bolsonaro = pd.read_excel('bolsonaro_predict1.xlsx', index_col=0)\n",
    "# df_lula = pd.read_excel('lula_predict1.xlsx', index_col=0)\n",
    "# df_simone = pd.read_excel('simone_predict1.xlsx', index_col=0)\n",
    "# df_ciro = pd.read_excel('ciro_predict1.xlsx', index_col=0)"
   ]
  }
 ],
 "metadata": {
  "kernelspec": {
   "display_name": "Python 3 (ipykernel)",
   "language": "python",
   "name": "python3"
  },
  "language_info": {
   "codemirror_mode": {
    "name": "ipython",
    "version": 3
   },
   "file_extension": ".py",
   "mimetype": "text/x-python",
   "name": "python",
   "nbconvert_exporter": "python",
   "pygments_lexer": "ipython3",
   "version": "3.9.7"
  }
 },
 "nbformat": 4,
 "nbformat_minor": 5
}
