{
 "cells": [
  {
   "cell_type": "code",
   "execution_count": 1,
   "id": "f8e036c4",
   "metadata": {},
   "outputs": [],
   "source": [
    "import tweepy as tw\n",
    "import pandas as pd\n",
    "import time"
   ]
  },
  {
   "cell_type": "code",
   "execution_count": 10,
   "id": "096d4b1c",
   "metadata": {
    "scrolled": true
   },
   "outputs": [
    {
     "data": {
      "text/plain": [
       "' (lula OR PT eleic OR Luiz inacio OR Alckmin) OR (bolsonaro OR PL eleic OR Braga Netto) OR (ciro OR PDT eleic OR Ana Paula Matos) OR (Simone tebet OR MDB eleic OR Mara Gabrilli) '"
      ]
     },
     "execution_count": 10,
     "metadata": {},
     "output_type": "execute_result"
    }
   ],
   "source": [
    "lula = ' (lula OR PT eleic OR Luiz inacio OR Alckmin) '\n",
    "bolsonaro = ' (bolsonaro OR PL eleic OR Braga Netto) '\n",
    "ciro = ' (ciro OR PDT eleic OR Ana Paula Matos) '\n",
    "simone = ' (Simone tebet OR MDB eleic OR Mara Gabrilli) '\n",
    "\n",
    "\n",
    "query_eleicoes =lula + 'OR' +\\\n",
    "                bolsonaro + 'OR' +\\\n",
    "                ciro + 'OR' +\\\n",
    "                simone \n",
    "\n",
    "Querys = [lula, bolsonaro, ciro, simone]\n",
    "\n",
    "query_eleicoes"
   ]
  },
  {
   "cell_type": "code",
   "execution_count": 11,
   "id": "9b58fdfd",
   "metadata": {},
   "outputs": [],
   "source": [
    "\n",
    "consumer_key = \""\n",
    "\n",
    "consumer_secret = \"\"\n",
    "\n",
    "access_token = \"\"\n",
    "\n",
    "access_token_secret = \"\"\n",
    "\n",
    "bearer_token = ''\n"
   ]
  },
  {
   "cell_type": "code",
   "execution_count": 12,
   "id": "c1661616",
   "metadata": {},
   "outputs": [],
   "source": [
    "# Criando nosso Client\n",
    "cliente = tw.Client(bearer_token,consumer_key, consumer_secret, access_token, access_token_secret)"
   ]
  },
  {
   "cell_type": "code",
   "execution_count": 13,
   "id": "e444c802",
   "metadata": {},
   "outputs": [
    {
     "data": {
      "text/html": [
       "<div>\n",
       "<style scoped>\n",
       "    .dataframe tbody tr th:only-of-type {\n",
       "        vertical-align: middle;\n",
       "    }\n",
       "\n",
       "    .dataframe tbody tr th {\n",
       "        vertical-align: top;\n",
       "    }\n",
       "\n",
       "    .dataframe thead th {\n",
       "        text-align: right;\n",
       "    }\n",
       "</style>\n",
       "<table border=\"1\" class=\"dataframe\">\n",
       "  <thead>\n",
       "    <tr style=\"text-align: right;\">\n",
       "      <th></th>\n",
       "      <th>Data_post</th>\n",
       "      <th>ID</th>\n",
       "      <th>Texto</th>\n",
       "      <th>Eh_RT</th>\n",
       "    </tr>\n",
       "  </thead>\n",
       "  <tbody>\n",
       "  </tbody>\n",
       "</table>\n",
       "</div>"
      ],
      "text/plain": [
       "Empty DataFrame\n",
       "Columns: [Data_post, ID, Texto, Eh_RT]\n",
       "Index: []"
      ]
     },
     "execution_count": 13,
     "metadata": {},
     "output_type": "execute_result"
    }
   ],
   "source": [
    "base = pd.DataFrame( columns=['Data_post', 'ID', 'Texto', 'Eh_RT'])\n",
    "base"
   ]
  },
  {
   "cell_type": "code",
   "execution_count": 14,
   "id": "356ab87e",
   "metadata": {},
   "outputs": [],
   "source": [
    "def tweets_for_df(dados, index, base):\n",
    "    for i in dados:\n",
    "        texto = i.text\n",
    "\n",
    "        if (texto[:2] == 'RT'):\n",
    "            RT = 'S'\n",
    "        else:\n",
    "            RT = 'N'\n",
    "        base.loc[index,'Data_post']=inicio\n",
    "        base.loc[index,'ID']=i.id\n",
    "        base.loc[index,'Texto']=texto\n",
    "        base.loc[index,'Eh_RT']=RT\n",
    "        index+=1\n",
    "        \n",
    "    \n",
    "    return base, index"
   ]
  },
  {
   "cell_type": "code",
   "execution_count": 78,
   "id": "d161c068",
   "metadata": {
    "scrolled": true
   },
   "outputs": [
    {
     "name": "stdout",
     "output_type": "stream",
     "text": [
      "inicio: 2022-09-28T18:50:00Z\n",
      "fim: 2022-09-28T18:51:00Z\n",
      "\n"
     ]
    },
    {
     "ename": "BadRequest",
     "evalue": "400 Bad Request\nInvalid 'start_time':'2022-09-28T18:50Z'. 'start_time' must be on or after 2022-09-28T19:11Z\nInvalid 'end_time':'2022-09-28T18:51Z'. 'end_time' must be on or after 2022-09-28T19:11Z",
     "output_type": "error",
     "traceback": [
      "\u001b[1;31m---------------------------------------------------------------------------\u001b[0m",
      "\u001b[1;31mBadRequest\u001b[0m                                Traceback (most recent call last)",
      "\u001b[1;32m~\\AppData\\Local\\Temp/ipykernel_8672/3258684588.py\u001b[0m in \u001b[0;36m<module>\u001b[1;34m\u001b[0m\n\u001b[0;32m     52\u001b[0m \u001b[1;33m\u001b[0m\u001b[0m\n\u001b[0;32m     53\u001b[0m \u001b[1;33m\u001b[0m\u001b[0m\n\u001b[1;32m---> 54\u001b[1;33m     resposta = cliente.search_recent_tweets(query=[(lula + 'lang:pt' )] ,\n\u001b[0m\u001b[0;32m     55\u001b[0m                                             \u001b[0mmax_results\u001b[0m\u001b[1;33m=\u001b[0m\u001b[1;36m100\u001b[0m\u001b[1;33m,\u001b[0m\u001b[1;33m\u001b[0m\u001b[1;33m\u001b[0m\u001b[0m\n\u001b[0;32m     56\u001b[0m                                             \u001b[0mstart_time\u001b[0m\u001b[1;33m=\u001b[0m\u001b[0minicio\u001b[0m\u001b[1;33m,\u001b[0m\u001b[1;33m\u001b[0m\u001b[1;33m\u001b[0m\u001b[0m\n",
      "\u001b[1;32m~\\anaconda3\\lib\\site-packages\\tweepy\\client.py\u001b[0m in \u001b[0;36msearch_recent_tweets\u001b[1;34m(self, query, user_auth, **params)\u001b[0m\n\u001b[0;32m   1246\u001b[0m         \"\"\"\n\u001b[0;32m   1247\u001b[0m         \u001b[0mparams\u001b[0m\u001b[1;33m[\u001b[0m\u001b[1;34m\"query\"\u001b[0m\u001b[1;33m]\u001b[0m \u001b[1;33m=\u001b[0m \u001b[0mquery\u001b[0m\u001b[1;33m\u001b[0m\u001b[1;33m\u001b[0m\u001b[0m\n\u001b[1;32m-> 1248\u001b[1;33m         return self._make_request(\n\u001b[0m\u001b[0;32m   1249\u001b[0m             \u001b[1;34m\"GET\"\u001b[0m\u001b[1;33m,\u001b[0m \u001b[1;34m\"/2/tweets/search/recent\"\u001b[0m\u001b[1;33m,\u001b[0m \u001b[0mparams\u001b[0m\u001b[1;33m=\u001b[0m\u001b[0mparams\u001b[0m\u001b[1;33m,\u001b[0m\u001b[1;33m\u001b[0m\u001b[1;33m\u001b[0m\u001b[0m\n\u001b[0;32m   1250\u001b[0m             endpoint_parameters=(\n",
      "\u001b[1;32m~\\anaconda3\\lib\\site-packages\\tweepy\\client.py\u001b[0m in \u001b[0;36m_make_request\u001b[1;34m(self, method, route, params, endpoint_parameters, json, data_type, user_auth)\u001b[0m\n\u001b[0;32m    124\u001b[0m         \u001b[0mrequest_params\u001b[0m \u001b[1;33m=\u001b[0m \u001b[0mself\u001b[0m\u001b[1;33m.\u001b[0m\u001b[0m_process_params\u001b[0m\u001b[1;33m(\u001b[0m\u001b[0mparams\u001b[0m\u001b[1;33m,\u001b[0m \u001b[0mendpoint_parameters\u001b[0m\u001b[1;33m)\u001b[0m\u001b[1;33m\u001b[0m\u001b[1;33m\u001b[0m\u001b[0m\n\u001b[0;32m    125\u001b[0m \u001b[1;33m\u001b[0m\u001b[0m\n\u001b[1;32m--> 126\u001b[1;33m         response = self.request(method, route, params=request_params,\n\u001b[0m\u001b[0;32m    127\u001b[0m                                 json=json, user_auth=user_auth)\n\u001b[0;32m    128\u001b[0m \u001b[1;33m\u001b[0m\u001b[0m\n",
      "\u001b[1;32m~\\anaconda3\\lib\\site-packages\\tweepy\\client.py\u001b[0m in \u001b[0;36mrequest\u001b[1;34m(self, method, route, params, json, user_auth)\u001b[0m\n\u001b[0;32m     93\u001b[0m \u001b[1;33m\u001b[0m\u001b[0m\n\u001b[0;32m     94\u001b[0m             \u001b[1;32mif\u001b[0m \u001b[0mresponse\u001b[0m\u001b[1;33m.\u001b[0m\u001b[0mstatus_code\u001b[0m \u001b[1;33m==\u001b[0m \u001b[1;36m400\u001b[0m\u001b[1;33m:\u001b[0m\u001b[1;33m\u001b[0m\u001b[1;33m\u001b[0m\u001b[0m\n\u001b[1;32m---> 95\u001b[1;33m                 \u001b[1;32mraise\u001b[0m \u001b[0mBadRequest\u001b[0m\u001b[1;33m(\u001b[0m\u001b[0mresponse\u001b[0m\u001b[1;33m)\u001b[0m\u001b[1;33m\u001b[0m\u001b[1;33m\u001b[0m\u001b[0m\n\u001b[0m\u001b[0;32m     96\u001b[0m             \u001b[1;32mif\u001b[0m \u001b[0mresponse\u001b[0m\u001b[1;33m.\u001b[0m\u001b[0mstatus_code\u001b[0m \u001b[1;33m==\u001b[0m \u001b[1;36m401\u001b[0m\u001b[1;33m:\u001b[0m\u001b[1;33m\u001b[0m\u001b[1;33m\u001b[0m\u001b[0m\n\u001b[0;32m     97\u001b[0m                 \u001b[1;32mraise\u001b[0m \u001b[0mUnauthorized\u001b[0m\u001b[1;33m(\u001b[0m\u001b[0mresponse\u001b[0m\u001b[1;33m)\u001b[0m\u001b[1;33m\u001b[0m\u001b[1;33m\u001b[0m\u001b[0m\n",
      "\u001b[1;31mBadRequest\u001b[0m: 400 Bad Request\nInvalid 'start_time':'2022-09-28T18:50Z'. 'start_time' must be on or after 2022-09-28T19:11Z\nInvalid 'end_time':'2022-09-28T18:51Z'. 'end_time' must be on or after 2022-09-28T19:11Z"
     ]
    }
   ],
   "source": [
    "indexLula = 0\n",
    "indexBolsonaro = 0\n",
    "indexCiro = 0\n",
    "indexSimone = 0\n",
    "\n",
    "baseLula = pd.DataFrame( columns=['Data_post', 'ID', 'Texto', 'Eh_RT'])\n",
    "baseBolsonaro = pd.DataFrame( columns=['Data_post', 'ID', 'Texto', 'Eh_RT'])\n",
    "baseCiro = pd.DataFrame( columns=['Data_post', 'ID', 'Texto', 'Eh_RT'])\n",
    "baseSimone = pd.DataFrame( columns=['Data_post', 'ID', 'Texto', 'Eh_RT'])\n",
    "\n",
    "ano = '2022-'\n",
    "mes = '10-'\n",
    "segundos = ':00Z'\n",
    "dia =2\n",
    "hora = 14\n",
    "minuto= 59\n",
    "while(True):\n",
    "    if(minuto==59):\n",
    "        minuto_fim = '0'\n",
    "        if(hora==23):\n",
    "            hora_fim = '0'\n",
    "            dia_fim = str (dia+1)\n",
    "        else:\n",
    "            hora_fim = str (hora+1)\n",
    "            dia_fim = str(dia)\n",
    "    else:\n",
    "        minuto_fim = str(minuto+1)\n",
    "        hora_fim = str(hora)\n",
    "        dia_fim = str (dia)\n",
    "\n",
    "    if(dia<=9): dia_ini = '0' + str(dia)\n",
    "    else: dia_ini = str(dia)\n",
    "\n",
    "    if(minuto<=9): minuto_ini = '0' + str(minuto)\n",
    "    else: minuto_ini = str(minuto)\n",
    "\n",
    "    if(hora<=9): hora_ini = '0' + str(hora)\n",
    "    else: hora_ini = str(hora)\n",
    "\n",
    "    if(int(dia_fim)<=9): dia_fim = '0' + dia_fim\n",
    "\n",
    "    if(int(minuto_fim)<=9): minuto_fim = '0' + minuto_fim\n",
    "\n",
    "    if(int(hora_fim)<=9): hora_fim = '0' + hora_fim\n",
    "\n",
    "    inicio = ano + mes + dia_ini + 'T' + hora_ini + ':' + minuto_ini + segundos\n",
    "    fim = ano + mes + dia_fim + 'T' + hora_fim + ':' + minuto_fim + segundos\n",
    "    print(\"inicio: \"+inicio)\n",
    "    print(\"fim: \"+fim)\n",
    "    print()\n",
    "    \n",
    "    \n",
    "    \n",
    "    resposta = cliente.search_recent_tweets(query=[(lula + 'lang:pt' )] ,\n",
    "                                            max_results=100,\n",
    "                                            start_time=inicio,\n",
    "                                            end_time=fim)\n",
    "    dados = resposta.data\n",
    "    if dados is not None:\n",
    "        baseLula, indexLula = tweets_for_df(dados, indexLula, baseLula)\n",
    "    time.sleep(2)\n",
    "    \n",
    "    \n",
    "    resposta = cliente.search_recent_tweets(query=[(bolsonaro + 'lang:pt' )] ,\n",
    "                                            max_results=100,\n",
    "                                            start_time=inicio,\n",
    "                                            end_time=fim)\n",
    "    dados = resposta.data\n",
    "    if dados is not None:\n",
    "        baseBolsonaro, indexBolsonaro = tweets_for_df(dados, indexBolsonaro, baseBolsonaro)\n",
    "    time.sleep(2)\n",
    "    \n",
    "    \n",
    "    resposta = cliente.search_recent_tweets(query=[(ciro + 'lang:pt' )] ,\n",
    "                                            max_results=100,\n",
    "                                            start_time=inicio,\n",
    "                                            end_time=fim)\n",
    "    dados = resposta.data\n",
    "    if dados is not None:\n",
    "        baseCiro, indexCiro = tweets_for_df(dados, indexCiro, baseCiro)\n",
    "    time.sleep(2)\n",
    "    \n",
    "    \n",
    "    resposta = cliente.search_recent_tweets(query=[(simone + 'lang:pt' )] ,\n",
    "                                            max_results=100,\n",
    "                                            start_time=inicio,\n",
    "                                            end_time=fim)\n",
    "    dados = resposta.data\n",
    "    if dados is not None:\n",
    "        baseSimone, indexSimone = tweets_for_df(dados, indexSimone, baseSimone)\n",
    "    time.sleep(2)\n",
    "    \n",
    "    minuto-=1\n",
    "    if(minuto==-1):\n",
    "        minuto=59\n",
    "        hora-=1\n",
    "        if(hora==-1):\n",
    "            hora=23\n",
    "            \n",
    "            baseLula= baseLula.drop_duplicates()\n",
    "            baseBolsonaro= baseBolsonaro.drop_duplicates()\n",
    "            baseCiro= baseCiro.drop_duplicates()\n",
    "            baseSimone= baseSimone.drop_duplicates()\n",
    "            baseLula.to_csv('extracoes/extracao_' +\n",
    "                            str(dia)+\"_\"+\n",
    "                            mes.replace(\"-\", \"_\") + \n",
    "                            lula.split(\" \", 2)[1].replace(\"(\", \"\") + '.csv')\n",
    "            baseBolsonaro.to_csv('extracoes/extracao_' +\n",
    "                            str(dia)+\"_\"+\n",
    "                            mes.replace(\"-\", \"_\") + \n",
    "                            bolsonaro.split(\" \", 2)[1].replace(\"(\", \"\") + '.csv')\n",
    "            baseCiro.to_csv('extracoes/extracao_' +\n",
    "                            str(dia)+\"_\"+\n",
    "                            mes.replace(\"-\", \"_\") + \n",
    "                            ciro.split(\" \", 2)[1].replace(\"(\", \"\") + '.csv')\n",
    "            baseSimone.to_csv('extracoes/extracao_' +\n",
    "                            str(dia)+\"_\"+\n",
    "                            mes.replace(\"-\", \"_\") + \n",
    "                            simone.split(\" \", 2)[1].replace(\"(\", \"\") + '.csv')\n",
    "            dia-=1\n",
    "            if(dia==0):\n",
    "                dia=30\n",
    "                mes = '09-'\n",
    "    \n",
    "        "
   ]
  },
  {
   "cell_type": "code",
   "execution_count": 80,
   "id": "f6e9d4d7",
   "metadata": {},
   "outputs": [
    {
     "ename": "AttributeError",
     "evalue": "'Client' object has no attribute 'search_tweets'",
     "output_type": "error",
     "traceback": [
      "\u001b[1;31m---------------------------------------------------------------------------\u001b[0m",
      "\u001b[1;31mAttributeError\u001b[0m                            Traceback (most recent call last)",
      "\u001b[1;32m~\\AppData\\Local\\Temp/ipykernel_8672/2419820757.py\u001b[0m in \u001b[0;36m<module>\u001b[1;34m\u001b[0m\n\u001b[1;32m----> 1\u001b[1;33m cliente.search_tweets(query=[(simone + 'lang:pt' )] ,\n\u001b[0m\u001b[0;32m      2\u001b[0m                                             \u001b[0mmax_results\u001b[0m\u001b[1;33m=\u001b[0m\u001b[1;36m100\u001b[0m\u001b[1;33m,\u001b[0m\u001b[1;33m\u001b[0m\u001b[1;33m\u001b[0m\u001b[0m\n\u001b[0;32m      3\u001b[0m                                             \u001b[0mstart_time\u001b[0m\u001b[1;33m=\u001b[0m\u001b[0minicio\u001b[0m\u001b[1;33m,\u001b[0m\u001b[1;33m\u001b[0m\u001b[1;33m\u001b[0m\u001b[0m\n\u001b[0;32m      4\u001b[0m                                             end_time=fim)\n",
      "\u001b[1;31mAttributeError\u001b[0m: 'Client' object has no attribute 'search_tweets'"
     ]
    }
   ],
   "source": [
    "cliente.search_tweets(query=[(simone + 'lang:pt' )] ,\n",
    "                                            max_results=100,\n",
    "                                            start_time=inicio,\n",
    "                                            end_time=fim)"
   ]
  },
  {
   "cell_type": "code",
   "execution_count": 76,
   "id": "4c63c7dd",
   "metadata": {},
   "outputs": [],
   "source": [
    "baseLula= baseLula.drop_duplicates()\n",
    "baseBolsonaro= baseBolsonaro.drop_duplicates()\n",
    "baseCiro= baseCiro.drop_duplicates()\n",
    "baseSimone= baseSimone.drop_duplicates()\n",
    "baseLula.to_csv('extracoes/extracao_' +\n",
    "                str(dia)+\"_\"+\n",
    "                mes.replace(\"-\", \"_\") + \n",
    "                lula.split(\" \", 2)[1].replace(\"(\", \"\") + '.csv')\n",
    "baseBolsonaro.to_csv('extracoes/extracao_' +\n",
    "                str(dia)+\"_\"+\n",
    "                mes.replace(\"-\", \"_\") + \n",
    "                bolsonaro.split(\" \", 2)[1].replace(\"(\", \"\") + '.csv')\n",
    "baseCiro.to_csv('extracoes/extracao_' +\n",
    "                str(dia)+\"_\"+\n",
    "                mes.replace(\"-\", \"_\") + \n",
    "                ciro.split(\" \", 2)[1].replace(\"(\", \"\") + '.csv')\n",
    "baseSimone.to_csv('extracoes/extracao_' +\n",
    "                str(dia)+\"_\"+\n",
    "                mes.replace(\"-\", \"_\") + \n",
    "                simone.split(\" \", 2)[1].replace(\"(\", \"\") + '.csv')"
   ]
  }
 ],
 "metadata": {
  "kernelspec": {
   "display_name": "Python 3 (ipykernel)",
   "language": "python",
   "name": "python3"
  },
  "language_info": {
   "codemirror_mode": {
    "name": "ipython",
    "version": 3
   },
   "file_extension": ".py",
   "mimetype": "text/x-python",
   "name": "python",
   "nbconvert_exporter": "python",
   "pygments_lexer": "ipython3",
   "version": "3.9.7"
  }
 },
 "nbformat": 4,
 "nbformat_minor": 5
}
