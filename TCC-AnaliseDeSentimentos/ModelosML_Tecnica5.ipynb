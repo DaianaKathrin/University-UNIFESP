{
 "cells": [
  {
   "cell_type": "markdown",
   "id": "d977afc7",
   "metadata": {},
   "source": [
    "# Importando bases"
   ]
  },
  {
   "cell_type": "code",
   "execution_count": 1,
   "id": "6e57baba",
   "metadata": {},
   "outputs": [],
   "source": [
    "import pandas as pd\n",
    "import numpy as np\n",
    "from sklearn.feature_extraction.text import CountVectorizer\n",
    "from sklearn.feature_extraction.text import TfidfVectorizer\n",
    "from sklearn.feature_extraction.text import TfidfTransformer\n",
    "from sklearn.naive_bayes import GaussianNB\n",
    "from sklearn import tree\n",
    "from sklearn.ensemble import RandomForestClassifier\n",
    "from sklearn.svm import LinearSVC\n",
    "from sklearn.neural_network import MLPClassifier\n",
    "from sklearn.metrics import confusion_matrix\n",
    "from sklearn.metrics import accuracy_score\n",
    "from sklearn.metrics import precision_score\n",
    "from sklearn.metrics import recall_score\n",
    "from sklearn.metrics import f1_score\n",
    "from sklearn.neighbors import KNeighborsClassifier"
   ]
  },
  {
   "cell_type": "code",
   "execution_count": 2,
   "id": "31e77bbb",
   "metadata": {},
   "outputs": [],
   "source": [
    "df_bolsonaro_train = pd.read_excel('Bolsonaro_treino_sem_stop2.xlsx')  \n",
    "df_lula_train = pd.read_excel('Lula_treino_sem_stop2.xlsx') \n",
    "df_simone_train = pd.read_excel('Simone_treino_sem_stop2.xlsx') \n",
    "df_ciro_train = pd.read_excel('Ciro_treino_sem_stop2.xlsx') "
   ]
  },
  {
   "cell_type": "code",
   "execution_count": 3,
   "id": "8f914181",
   "metadata": {},
   "outputs": [],
   "source": [
    "df_bolsonaro = pd.read_excel('Bolsonaro_todos_sem_stop.xlsx', index_col=0)\n",
    "df_lula = pd.read_excel('Lula_todos_sem_stop.xlsx', index_col=0)\n",
    "df_simone = pd.read_excel('Simone_todos_sem_stop.xlsx', index_col=0)\n",
    "df_ciro = pd.read_excel('Ciro_todos_sem_stop.xlsx', index_col=0)\n",
    "\n"
   ]
  },
  {
   "cell_type": "code",
   "execution_count": 4,
   "id": "6468928f",
   "metadata": {},
   "outputs": [],
   "source": [
    "df_lula_train = df_lula_train[df_lula_train['Sentimento']!=' ']"
   ]
  },
  {
   "cell_type": "code",
   "execution_count": 5,
   "id": "817ecd7b",
   "metadata": {},
   "outputs": [
    {
     "name": "stdout",
     "output_type": "stream",
     "text": [
      "p    10335\n",
      "n     1773\n",
      "x       81\n",
      "Name: Sentimento, dtype: int64\n",
      "p    5065\n",
      "n     848\n",
      "x     108\n",
      "Name: Sentimento, dtype: int64\n",
      "p    120\n",
      "x    109\n",
      "n     50\n",
      "Name: Sentimento, dtype: int64\n",
      "p    6807\n",
      "x     105\n",
      "n      81\n",
      "Name: Sentimento, dtype: int64\n"
     ]
    }
   ],
   "source": [
    "print(df_lula_train['Sentimento'].value_counts())\n",
    "print(df_bolsonaro_train['Sentimento'].value_counts())\n",
    "print(df_simone_train['Sentimento'].value_counts())\n",
    "print(df_ciro_train['Sentimento'].value_counts())"
   ]
  },
  {
   "cell_type": "code",
   "execution_count": 8,
   "id": "2eca0ec4",
   "metadata": {},
   "outputs": [],
   "source": [
    "def train_test_under(df):\n",
    "    tamanho = df['Sentimento'].value_counts()[2]-5\n",
    "    \n",
    "    df_train = df[df['Sentimento']=='p'].sample(n = 100 if len(df[df['Sentimento']=='p'])>100 else len(df[df['Sentimento']=='p']))\n",
    "    df_train = df_train.append(df[df['Sentimento']=='n'].sample(n = 100 if len(df[df['Sentimento']=='n'])>100 else len(df[df['Sentimento']=='n'])))\n",
    "    df_train = df_train.append(df[df['Sentimento']=='x'].sample(n = 100 if len(df[df['Sentimento']=='x'])>100 else len(df[df['Sentimento']=='x'])))\n",
    "    \n",
    "    df_teste = df.drop(df_train.index)\n",
    "    \n",
    "    X_bw_train, bw = Bag_of_words(df_train)\n",
    "    X_tfidf_train, tfidf = tfidf(df_train)\n",
    "    Y_train = df_train['Sentimento'].str.replace('p','1').replace('x','0').replace('n','-1').astype(int)\n",
    "    \n",
    "    X_bw_teste = Bag_of_words_teste(df_teste, bw )\n",
    "    X_tfidf_teste = tfidf_teste(df_teste, tfidf)\n",
    "    Y_teste = df_teste['Sentimento'].str.replace('p','1').replace('x','0').replace('n','-1').astype(int)\n",
    "    \n",
    "    return X_bw_train, X_tfidf_train, Y_train, X_bw_teste, X_tfidf_teste, Y_teste, bw, tfidf, df_train, df_teste\n"
   ]
  },
  {
   "cell_type": "code",
   "execution_count": 9,
   "id": "18fc2942",
   "metadata": {},
   "outputs": [],
   "source": [
    "# Bag Of Words\n",
    "\n",
    "def Bag_of_words(df):\n",
    "    matrix = CountVectorizer()\n",
    "    text = []\n",
    "    for i in df.index:\n",
    "        text.append(\"\".join(df['novo_texto'][i]))\n",
    "    X = matrix.fit_transform(text)\n",
    "    return X, matrix\n",
    "\n",
    "def Bag_of_words_teste(df, matrix):\n",
    "    text = []\n",
    "    for i in df.index:\n",
    "        text.append(\"\".join(df['novo_texto'][i]))\n",
    "    X = matrix.transform(text)\n",
    "    return X\n",
    "\n",
    "def tfidf_(df):\n",
    "    matrix = TfidfVectorizer()\n",
    "    text = []\n",
    "    for i in df.index:\n",
    "        text.append(\"\".join(df['novo_texto'][i]))\n",
    "    X = matrix.fit_transform(text)\n",
    "    return X, matrix\n",
    "\n",
    "def tfidf_teste(df, matrix):\n",
    "    text = []\n",
    "    for i in df.index:\n",
    "        text.append(\"\".join(df['novo_texto'][i]))\n",
    "    X = matrix.transform(text)\n",
    "    return X\n",
    "\n",
    "def train_test_under_bw(df):\n",
    "    tamanho = df['Sentimento'].value_counts()[2]-2\n",
    "    \n",
    "    df_train = df[df['Sentimento']=='p'].sample(n = tamanho)\n",
    "    df_train = df_train.append(df[df['Sentimento']=='n'].sample(n = tamanho))\n",
    "    df_train = df_train.append(df[df['Sentimento']=='x'].sample(n = tamanho))\n",
    "    \n",
    "    df_teste = df.drop(df_train.index)\n",
    "    \n",
    "    X_bw_train, bw = Bag_of_words(df_train)\n",
    "    Y_train = df_train['Sentimento'].str.replace('p','1').replace('x','0').replace('n','-1').astype(int)\n",
    "    \n",
    "    X_bw_teste = Bag_of_words_teste(df_teste, bw )\n",
    "    \n",
    "    Y_teste = df_teste['Sentimento'].str.replace('p','1').replace('x','0').replace('n','-1').astype(int)\n",
    "    \n",
    "    return X_bw_train, Y_train, X_bw_teste, Y_teste, bw, df_train, df_teste\n",
    "\n",
    "def train_test_under_tfidf(df):\n",
    "    tamanho = df['Sentimento'].value_counts()[2]-2\n",
    "    \n",
    "    df_train = df[df['Sentimento']=='p'].sample(n = tamanho)\n",
    "    df_train = df_train.append(df[df['Sentimento']=='n'].sample(n = tamanho))\n",
    "    df_train = df_train.append(df[df['Sentimento']=='x'].sample(n = tamanho))\n",
    "    \n",
    "    df_teste = df.drop(df_train.index)\n",
    "    \n",
    "    X_tfidf_train, tfidf = tfidf_(df_train)\n",
    "    Y_train = df_train['Sentimento'].str.replace('p','1').replace('x','0').replace('n','-1').astype(int)\n",
    "    \n",
    "    X_tfidf_teste = tfidf_teste(df_teste, tfidf)\n",
    "    Y_teste = df_teste['Sentimento'].str.replace('p','1').replace('x','0').replace('n','-1').astype(int)\n",
    "    \n",
    "    return X_tfidf_train, Y_train, X_tfidf_teste, Y_teste, tfidf, df_train, df_teste\n",
    "\n",
    "def train_model_bw(model, df_train_tudo, num_tests):\n",
    "    X_train, Y_train, X_teste, Y_teste, bw, df_train, df_teste = train_test_under_bw(df_train_tudo)\n",
    "    \n",
    "    model2 = model.fit(X_train.toarray(), Y_train)\n",
    "    predict = model2.predict(X_teste.toarray())\n",
    "    accuracy = accuracy_score(Y_teste, predict)\n",
    "    precision = precision_score(Y_teste, predict, average='macro')\n",
    "    recall = recall_score(Y_teste, predict, average='macro')\n",
    "    f1 = f1_score(Y_teste, predict, average='macro')\n",
    "    score = accuracy + precision + recall + f1\n",
    "    \n",
    "    matrix_confusion = confusion_matrix(Y_teste, predict,labels=[-1, 0, 1])\n",
    "    \n",
    "    errados = matrix_confusion[0][2]+ matrix_confusion[2][0]\n",
    "    \n",
    "    model2_fim, bw_fim, df_train_fim, df_teste_fim, score_fim, errados_fim = model2, bw, df_train, df_teste, score, errados\n",
    "    for i in range(0,num_tests):\n",
    "        X_train, Y_train, X_teste, Y_teste, bw, df_train, df_teste = train_test_under_bw(df_train_tudo)\n",
    "\n",
    "        model2 = model.fit(X_train.toarray(), Y_train)\n",
    "        predict = model2.predict(X_teste.toarray())\n",
    "        accuracy = accuracy_score(Y_teste, predict)\n",
    "        precision = precision_score(Y_teste, predict, average='macro')\n",
    "        recall = recall_score(Y_teste, predict, average='macro')\n",
    "        f1 = f1_score(Y_teste, predict, average='macro')\n",
    "        score = accuracy + precision + recall + f1\n",
    "\n",
    "        matrix_confusion = confusion_matrix(Y_teste, predict,labels=[-1, 0, 1])\n",
    "        accuracy_fim, precision_fim,recall_fim, f1_fim, matrix_confusion_fim = accuracy, precision,recall,f1,matrix_confusion \n",
    "        errados = matrix_confusion[0][2]+ matrix_confusion[2][0]\n",
    "        \n",
    "        if((score_fim<score) & (errados_fim>errados)):\n",
    "            accuracy_fim, precision_fim,recall_fim, f1_fim, matrix_confusion_fim = accuracy, precision,recall,f1,matrix_confusion \n",
    "            model2_fim, bw_fim, df_train_fim, df_teste_fim, score_fim, errados_fim = model2, bw, df_train, df_teste, score, errados\n",
    "    \n",
    "    print('accuracy:')\n",
    "    print(accuracy_fim)\n",
    "    print('precision:')\n",
    "    print(precision_fim)\n",
    "    print('recall:')\n",
    "    print(recall_fim)\n",
    "    print('f1:')\n",
    "    print(f1_fim)\n",
    "    print('matrix_confusion:')\n",
    "    print(matrix_confusion_fim)\n",
    "    print(score_fim/4)\n",
    "    print(errados_fim)\n",
    "    return model2_fim, bw_fim, df_train_fim, df_teste_fim     \n",
    "    \n",
    "def train_model_tfidf(model, df_train_tudo, num_tests):\n",
    "    X_train, Y_train, X_teste, Y_teste, tfidf, df_train, df_teste = train_test_under_tfidf(df_train_tudo)\n",
    "    \n",
    "    model2 = model.fit(X_train.toarray(), Y_train)\n",
    "    predict = model2.predict(X_teste.toarray())\n",
    "    accuracy = accuracy_score(Y_teste, predict)\n",
    "    precision = precision_score(Y_teste, predict, average='macro')\n",
    "    recall = recall_score(Y_teste, predict, average='macro')\n",
    "    f1 = f1_score(Y_teste, predict, average='macro')\n",
    "    score = accuracy + precision + recall + f1\n",
    "    \n",
    "    matrix_confusion = confusion_matrix(Y_teste, predict,labels=[-1, 0, 1])\n",
    "    accuracy_fim, precision_fim,recall_fim, f1_fim, matrix_confusion_fim = accuracy, precision,recall,f1,matrix_confusion \n",
    "    errados = matrix_confusion[0][2]+ matrix_confusion[2][0]\n",
    "    \n",
    "    model2_fim, tfidf_fim, df_train_fim, df_teste_fim, score_fim, errados_fim = model2, tfidf, df_train, df_teste, score, errados\n",
    "    for i in range(0,num_tests):\n",
    "        X_train, Y_train, X_teste, Y_teste, tfidf, df_train, df_teste = train_test_under_tfidf(df_train_tudo)\n",
    "\n",
    "        model2 = model.fit(X_train.toarray(), Y_train)\n",
    "        predict = model2.predict(X_teste.toarray())\n",
    "        accuracy = accuracy_score(Y_teste, predict)\n",
    "        precision = precision_score(Y_teste, predict, average='macro')\n",
    "        recall = recall_score(Y_teste, predict, average='macro')\n",
    "        f1 = f1_score(Y_teste, predict, average='macro')\n",
    "        score = accuracy + precision + recall + f1\n",
    "\n",
    "        matrix_confusion = confusion_matrix(Y_teste, predict,labels=[-1, 0, 1])\n",
    "\n",
    "        errados = matrix_confusion[0][2]+ matrix_confusion[2][0]\n",
    "        \n",
    "        if((score_fim<score) & (errados_fim>errados)):\n",
    "            accuracy_fim, precision_fim,recall_fim, f1_fim, matrix_confusion_fim = accuracy, precision,recall,f1,matrix_confusion \n",
    "            model2_fim, tfidf_fim, df_train_fim, df_teste_fim, score_fim, errados_fim = model2, tfidf, df_train, df_teste, score, errados\n",
    "    \n",
    "    print('accuracy:')\n",
    "    print(accuracy_fim)\n",
    "    print('precision:')\n",
    "    print(precision_fim)\n",
    "    print('recall:')\n",
    "    print(recall_fim)\n",
    "    print('f1:')\n",
    "    print(f1_fim)\n",
    "    print('matrix_confusion:')\n",
    "    print(matrix_confusion_fim)\n",
    "    print(score_fim/4)\n",
    "    print(errados_fim)\n",
    "    return model2_fim, tfidf_fim, df_train_fim, df_teste_fim  \n",
    "\n",
    "def AnaliseSentimentos_bw(df, bw,model, name_colum):\n",
    "    i1=0\n",
    "    for i in range(5000,len(df),5000):\n",
    "        if (i==5000):\n",
    "            predict = model.predict(Bag_of_words_teste(df[i1:i], bw).toarray())\n",
    "        else:\n",
    "            predict = np.append(predict, model.predict(Bag_of_words_teste(df[i1:i], bw).toarray()))\n",
    "        i1=i\n",
    "        \n",
    "    predict = np.append(predict,model.predict(Bag_of_words_teste(df[i1:], bw).toarray()))\n",
    "\n",
    "    df[name_colum] = predict\n",
    "\n",
    "    print(np.unique(predict, return_counts=True))\n",
    "    return df\n",
    "\n",
    "def AnaliseSentimentos_tfidf(df, tfidf,model, name_colum):\n",
    "    i1=0\n",
    "    for i in range(5000,len(df),5000):\n",
    "        if (i==5000):\n",
    "            predict = model.predict(tfidf_teste(df[i1:i], tfidf).toarray())\n",
    "        else:\n",
    "            predict = np.append(predict, model.predict(tfidf_teste(df[i1:i], tfidf).toarray()))\n",
    "        i1=i\n",
    "        \n",
    "    predict = np.append(predict,model.predict(tfidf_teste(df[i1:], tfidf).toarray()))\n",
    "\n",
    "    df[name_colum] = predict\n",
    "\n",
    "    print(np.unique(predict, return_counts=True))\n",
    "    return df"
   ]
  },
  {
   "cell_type": "markdown",
   "id": "72038a02",
   "metadata": {},
   "source": [
    "## Bolsonaro"
   ]
  },
  {
   "cell_type": "markdown",
   "id": "fea48c83",
   "metadata": {},
   "source": [
    "### Bolsonaro - Arvore de Decisao - bw"
   ]
  },
  {
   "cell_type": "code",
   "execution_count": 10,
   "id": "2c0bde87",
   "metadata": {
    "scrolled": true
   },
   "outputs": [
    {
     "name": "stdout",
     "output_type": "stream",
     "text": [
      "accuracy:\n",
      "0.44590566368577944\n",
      "precision:\n",
      "0.37039661180267075\n",
      "recall:\n",
      "0.6680198109674533\n",
      "f1:\n",
      "0.28841203289751166\n",
      "matrix_confusion:\n",
      "[[ 429  145  168]\n",
      " [   0    2    0]\n",
      " [1915  932 2112]]\n",
      "0.4649125283752099\n",
      "964\n",
      "(array([-1,  0,  1]), array([176753, 566058, 203627], dtype=int64))\n",
      "Wall time: 1min 9s\n"
     ]
    }
   ],
   "source": [
    "%%time\n",
    "model_tree_bolsonaro_bw, tree_bolsonaro_bw, df_train_tree_bolsonaro_bw, df_teste_tree_bolsonaro_bw = \\\n",
    "train_model_bw(tree.DecisionTreeClassifier(), df_bolsonaro_train, 100)\n",
    "model_tree_bolsonaro_bw = model_tree_bolsonaro_bw.fit(Bag_of_words_teste(df_train_tree_bolsonaro_bw, tree_bolsonaro_bw), df_train_tree_bolsonaro_bw['Sentimento'].str.replace('p','1').replace('x','0').replace('n','-1').astype(int))\n",
    "\n",
    "df_bolsonaro = AnaliseSentimentos_bw(df_bolsonaro, tree_bolsonaro_bw,model_tree_bolsonaro_bw, 'predict_bw_ArvoreDeDecisao')\n"
   ]
  },
  {
   "cell_type": "markdown",
   "id": "cdacb569",
   "metadata": {},
   "source": [
    "### Bolsonaro - Arvore de Decisao - tfidf"
   ]
  },
  {
   "cell_type": "code",
   "execution_count": 11,
   "id": "26b9dd24",
   "metadata": {},
   "outputs": [
    {
     "name": "stdout",
     "output_type": "stream",
     "text": [
      "accuracy:\n",
      "0.5107837980010521\n",
      "precision:\n",
      "0.38446726004504894\n",
      "recall:\n",
      "0.6298573731371732\n",
      "f1:\n",
      "0.320791703780359\n",
      "matrix_confusion:\n",
      "[[ 264  224  254]\n",
      " [   0    2    0]\n",
      " [ 837 1475 2647]]\n",
      "0.4614750337409083\n",
      "1091\n",
      "(array([-1,  0,  1]), array([140483, 268677, 537278], dtype=int64))\n",
      "Wall time: 1min 9s\n"
     ]
    }
   ],
   "source": [
    "%%time\n",
    "model_tree_bolsonaro_tfidf, tree_bolsonaro_tfidf, df_train_tree_bolsonaro_tfidf, df_teste_tree_bolsonaro_tfidf = \\\n",
    "train_model_tfidf(tree.DecisionTreeClassifier(), df_bolsonaro_train, 100)\n",
    "model_tree_bolsonaro_tfidf = model_tree_bolsonaro_tfidf.fit(tfidf_teste(df_train_tree_bolsonaro_tfidf, tree_bolsonaro_tfidf), df_train_tree_bolsonaro_tfidf['Sentimento'].str.replace('p','1').replace('x','0').replace('n','-1').astype(int))\n",
    "\n",
    "df_bolsonaro = AnaliseSentimentos_tfidf(df_bolsonaro, tree_bolsonaro_tfidf,model_tree_bolsonaro_tfidf, 'predict_tfidf_ArvoreDeDecisao')\n"
   ]
  },
  {
   "cell_type": "markdown",
   "id": "50b2009f",
   "metadata": {},
   "source": [
    "### Bolsonaro - Naive Bayes - bw"
   ]
  },
  {
   "cell_type": "code",
   "execution_count": 12,
   "id": "2b9c620f",
   "metadata": {
    "scrolled": true
   },
   "outputs": [
    {
     "name": "stdout",
     "output_type": "stream",
     "text": [
      "accuracy:\n",
      "0.4127652112923023\n",
      "precision:\n",
      "0.374894826811166\n",
      "recall:\n",
      "0.43905379004512657\n",
      "f1:\n",
      "0.2823245458381201\n",
      "matrix_confusion:\n",
      "[[ 299  252  191]\n",
      " [   0    1    1]\n",
      " [1127 1778 2054]]\n",
      "0.43741775449331477\n",
      "1214\n",
      "(array([-1,  0,  1]), array([199068, 379546, 367824], dtype=int64))\n",
      "Wall time: 2min 29s\n"
     ]
    }
   ],
   "source": [
    "%%time\n",
    "model_nb_bolsonaro_bw, nb_bolsonaro_bw, df_train_nb_bolsonaro_bw, df_teste_nb_bolsonaro_bw = \\\n",
    "train_model_bw(GaussianNB(), df_bolsonaro_train, 100)\n",
    "model_nb_bolsonaro_bw = model_nb_bolsonaro_bw.fit(Bag_of_words_teste(df_train_nb_bolsonaro_bw, nb_bolsonaro_bw).toarray(), df_train_nb_bolsonaro_bw['Sentimento'].str.replace('p','1').replace('x','0').replace('n','-1').astype(int))\n",
    "\n",
    "df_bolsonaro = AnaliseSentimentos_bw(df_bolsonaro, nb_bolsonaro_bw,model_nb_bolsonaro_bw, 'predict_bw_NaiveBayes')\n"
   ]
  },
  {
   "cell_type": "markdown",
   "id": "fa7eb572",
   "metadata": {},
   "source": [
    "### Bolsonaro - Naive Bayes - tfidf"
   ]
  },
  {
   "cell_type": "code",
   "execution_count": 13,
   "id": "9802f64a",
   "metadata": {},
   "outputs": [
    {
     "name": "stdout",
     "output_type": "stream",
     "text": [
      "accuracy:\n",
      "0.4359109240750482\n",
      "precision:\n",
      "0.3750968092824715\n",
      "recall:\n",
      "0.630570770162593\n",
      "f1:\n",
      "0.2919719021273797\n",
      "matrix_confusion:\n",
      "[[ 341  205  196]\n",
      " [   0    2    0]\n",
      " [1299 1517 2143]]\n",
      "0.4333876014118731\n",
      "1495\n",
      "(array([-1,  0,  1]), array([274968, 337531, 333939], dtype=int64))\n",
      "Wall time: 2min 37s\n"
     ]
    }
   ],
   "source": [
    "%%time\n",
    "model_nb_bolsonaro_tfidf, nb_bolsonaro_tfidf, df_train_nb_bolsonaro_tfidf, df_teste_nb_bolsonaro_tfidf = \\\n",
    "train_model_tfidf(GaussianNB(), df_bolsonaro_train, 100)\n",
    "model_nb_bolsonaro_tfidf = model_nb_bolsonaro_tfidf.fit(tfidf_teste(df_train_nb_bolsonaro_tfidf, nb_bolsonaro_tfidf).toarray(), df_train_nb_bolsonaro_tfidf['Sentimento'].str.replace('p','1').replace('x','0').replace('n','-1').astype(int))\n",
    "\n",
    "df_bolsonaro = AnaliseSentimentos_tfidf(df_bolsonaro, nb_bolsonaro_tfidf,model_nb_bolsonaro_tfidf, 'predict_tfidf_NaiveBayes')\n"
   ]
  },
  {
   "cell_type": "markdown",
   "id": "5c087da8",
   "metadata": {},
   "source": [
    "### Bolsonaro - Random Forest - bw"
   ]
  },
  {
   "cell_type": "code",
   "execution_count": 14,
   "id": "3a1936db",
   "metadata": {},
   "outputs": [
    {
     "name": "stdout",
     "output_type": "stream",
     "text": [
      "accuracy:\n",
      "0.552691565842539\n",
      "precision:\n",
      "0.38621775700655636\n",
      "recall:\n",
      "0.48390721254810565\n",
      "f1:\n",
      "0.3348229925952249\n",
      "matrix_confusion:\n",
      "[[ 276  205  261]\n",
      " [   0    1    1]\n",
      " [ 867 1217 2875]]\n",
      "0.45029679892244046\n",
      "620\n",
      "(array([-1,  0,  1]), array([ 73288, 440919, 432231], dtype=int64))\n",
      "Wall time: 3min 9s\n"
     ]
    }
   ],
   "source": [
    "%%time\n",
    "model_RandomForest_bolsonaro_bw, RandomForest_bolsonaro_bw, df_train_RandomForest_bolsonaro_bw, df_teste_RandomForest_bolsonaro_bw = \\\n",
    "train_model_bw(RandomForestClassifier(), df_bolsonaro_train, 100)\n",
    "model_RandomForest_bolsonaro_bw = model_RandomForest_bolsonaro_bw.fit(Bag_of_words_teste(df_train_RandomForest_bolsonaro_bw, RandomForest_bolsonaro_bw).toarray(), df_train_RandomForest_bolsonaro_bw['Sentimento'].str.replace('p','1').replace('x','0').replace('n','-1').astype(int))\n",
    "\n",
    "df_bolsonaro = AnaliseSentimentos_bw(df_bolsonaro, RandomForest_bolsonaro_bw,model_RandomForest_bolsonaro_bw, 'predict_bw_RandomForest')\n"
   ]
  },
  {
   "cell_type": "markdown",
   "id": "0b5a2a87",
   "metadata": {},
   "source": [
    "### Bolsonaro - Random Forest - tfidf"
   ]
  },
  {
   "cell_type": "code",
   "execution_count": 15,
   "id": "159352dc",
   "metadata": {},
   "outputs": [
    {
     "name": "stdout",
     "output_type": "stream",
     "text": [
      "accuracy:\n",
      "0.6121339645800455\n",
      "precision:\n",
      "0.41328776717105836\n",
      "recall:\n",
      "0.6629790155284111\n",
      "f1:\n",
      "0.3649898665138873\n",
      "matrix_confusion:\n",
      "[[ 249  184  309]\n",
      " [   0    2    0]\n",
      " [ 516 1203 3240]]\n",
      "0.5133476534483505\n",
      "825\n",
      "(array([-1,  0,  1]), array([108363, 267745, 570330], dtype=int64))\n",
      "Wall time: 2min 59s\n"
     ]
    }
   ],
   "source": [
    "%%time\n",
    "model_RandomForest_bolsonaro_tfidf, RandomForest_bolsonaro_tfidf, df_train_RandomForest_bolsonaro_tfidf, df_teste_RandomForest_bolsonaro_tfidf = \\\n",
    "train_model_tfidf(RandomForestClassifier(), df_bolsonaro_train, 100)\n",
    "model_RandomForest_bolsonaro_tfidf = model_RandomForest_bolsonaro_tfidf.fit(tfidf_teste(df_train_RandomForest_bolsonaro_tfidf, RandomForest_bolsonaro_tfidf).toarray(), df_train_RandomForest_bolsonaro_tfidf['Sentimento'].str.replace('p','1').replace('x','0').replace('n','-1').astype(int))\n",
    "\n",
    "df_bolsonaro = AnaliseSentimentos_tfidf(df_bolsonaro, RandomForest_bolsonaro_tfidf,model_RandomForest_bolsonaro_tfidf, 'predict_tfidf_RandomForest')\n"
   ]
  },
  {
   "cell_type": "markdown",
   "id": "90533c53",
   "metadata": {},
   "source": [
    "### Bolsonaro - SVM - bw"
   ]
  },
  {
   "cell_type": "code",
   "execution_count": 16,
   "id": "0313645e",
   "metadata": {},
   "outputs": [
    {
     "name": "stdout",
     "output_type": "stream",
     "text": [
      "accuracy:\n",
      "0.4271436086270384\n",
      "precision:\n",
      "0.38300056496085455\n",
      "recall:\n",
      "0.28713464786813414\n",
      "f1:\n",
      "0.29258883141523057\n",
      "matrix_confusion:\n",
      "[[ 323  255  164]\n",
      " [   0    0    2]\n",
      " [1133 1713 2113]]\n",
      "0.46580128641476765\n",
      "1100\n",
      "(array([-1,  0,  1]), array([196438, 327871, 422129], dtype=int64))\n",
      "Wall time: 1min 12s\n"
     ]
    }
   ],
   "source": [
    "%%time\n",
    "model_svc_bolsonaro_bw, svc_bolsonaro_bw, df_train_svc_bolsonaro_bw, df_teste_svc_bolsonaro_bw = \\\n",
    "train_model_bw(LinearSVC(), df_bolsonaro_train, 100)\n",
    "model_svc_bolsonaro_bw = model_svc_bolsonaro_bw.fit(Bag_of_words_teste(df_train_svc_bolsonaro_bw, svc_bolsonaro_bw).toarray(), df_train_svc_bolsonaro_bw['Sentimento'].str.replace('p','1').replace('x','0').replace('n','-1').astype(int))\n",
    "\n",
    "df_bolsonaro = AnaliseSentimentos_bw(df_bolsonaro, svc_bolsonaro_bw,model_svc_bolsonaro_bw, 'predict_bw_SVM')"
   ]
  },
  {
   "cell_type": "markdown",
   "id": "2648b08f",
   "metadata": {},
   "source": [
    "### Bolsonaro - SVM - tfidf"
   ]
  },
  {
   "cell_type": "code",
   "execution_count": 17,
   "id": "2caa0798",
   "metadata": {},
   "outputs": [
    {
     "name": "stdout",
     "output_type": "stream",
     "text": [
      "accuracy:\n",
      "0.500964404699281\n",
      "precision:\n",
      "0.3857865556511702\n",
      "recall:\n",
      "0.6524524460866618\n",
      "f1:\n",
      "0.3214254788927342\n",
      "matrix_confusion:\n",
      "[[ 333  203  206]\n",
      " [   0    2    0]\n",
      " [1105 1332 2522]]\n",
      "0.4651572213324618\n",
      "1311\n",
      "(array([-1,  0,  1]), array([269554, 315450, 361434], dtype=int64))\n",
      "Wall time: 1min 6s\n"
     ]
    }
   ],
   "source": [
    "%%time\n",
    "model_svc_bolsonaro_tfidf, svc_bolsonaro_tfidf, df_train_svc_bolsonaro_tfidf, df_teste_svc_bolsonaro_tfidf = \\\n",
    "train_model_tfidf(LinearSVC(), df_bolsonaro_train, 100)\n",
    "model_svc_bolsonaro_tfidf = model_svc_bolsonaro_tfidf.fit(tfidf_teste(df_train_svc_bolsonaro_tfidf, svc_bolsonaro_tfidf).toarray(), df_train_svc_bolsonaro_tfidf['Sentimento'].str.replace('p','1').replace('x','0').replace('n','-1').astype(int))\n",
    "\n",
    "df_bolsonaro = AnaliseSentimentos_tfidf(df_bolsonaro, svc_bolsonaro_tfidf,model_svc_bolsonaro_tfidf, 'predict_tfidf_SVM')"
   ]
  },
  {
   "cell_type": "markdown",
   "id": "c0bf1c6d",
   "metadata": {},
   "source": [
    "### Bolsonaro - MLP - bw"
   ]
  },
  {
   "cell_type": "code",
   "execution_count": 18,
   "id": "561868bf",
   "metadata": {},
   "outputs": [
    {
     "name": "stdout",
     "output_type": "stream",
     "text": [
      "accuracy:\n",
      "0.4613361388742767\n",
      "precision:\n",
      "0.37069397169176904\n",
      "recall:\n",
      "0.4740999284881762\n",
      "f1:\n",
      "0.2964189242064403\n",
      "matrix_confusion:\n",
      "[[ 342  192  208]\n",
      " [   0    1    1]\n",
      " [1411 1260 2288]]\n",
      "0.46517446634730036\n",
      "1205\n",
      "(array([-1,  0,  1]), array([214506, 242439, 489493], dtype=int64))\n",
      "Wall time: 8min 44s\n"
     ]
    }
   ],
   "source": [
    "%%time\n",
    "model_mlp_bolsonaro_bw, mlp_bolsonaro_bw, df_train_mlp_bolsonaro_bw, df_teste_mlp_bolsonaro_bw = \\\n",
    "train_model_bw(MLPClassifier(max_iter=400), df_bolsonaro_train, 100)\n",
    "model_mlp_bolsonaro_bw = model_mlp_bolsonaro_bw.fit(Bag_of_words_teste(df_train_mlp_bolsonaro_bw, mlp_bolsonaro_bw).toarray(), df_train_mlp_bolsonaro_bw['Sentimento'].str.replace('p','1').replace('x','0').replace('n','-1').astype(int))\n",
    "\n",
    "df_bolsonaro = AnaliseSentimentos_bw(df_bolsonaro, mlp_bolsonaro_bw,model_mlp_bolsonaro_bw, 'predict_bw_MLP')"
   ]
  },
  {
   "cell_type": "markdown",
   "id": "38cdc758",
   "metadata": {},
   "source": [
    "### Bolsonaro - MLP - tfidf"
   ]
  },
  {
   "cell_type": "code",
   "execution_count": 19,
   "id": "cdfe371f",
   "metadata": {},
   "outputs": [
    {
     "name": "stdout",
     "output_type": "stream",
     "text": [
      "accuracy:\n",
      "0.5048220234964054\n",
      "precision:\n",
      "0.37187039925433746\n",
      "recall:\n",
      "0.6527851835183274\n",
      "f1:\n",
      "0.31257868106287917\n",
      "matrix_confusion:\n",
      "[[ 330  168  244]\n",
      " [   0    2    0]\n",
      " [1308 1104 2547]]\n",
      "0.46051407183298737\n",
      "1552\n",
      "(array([-1,  0,  1]), array([288061, 291102, 367275], dtype=int64))\n",
      "Wall time: 10min 28s\n"
     ]
    }
   ],
   "source": [
    "%%time\n",
    "model_mlp_bolsonaro_tfidf, mlp_bolsonaro_tfidf, df_train_mlp_bolsonaro_tfidf, df_teste_mlp_bolsonaro_tfidf = \\\n",
    "train_model_tfidf(MLPClassifier(max_iter=400), df_bolsonaro_train, 100)\n",
    "model_mlp_bolsonaro_tfidf = model_mlp_bolsonaro_tfidf.fit(Bag_of_words_teste(df_train_mlp_bolsonaro_tfidf, mlp_bolsonaro_tfidf).toarray(), df_train_mlp_bolsonaro_tfidf['Sentimento'].str.replace('p','1').replace('x','0').replace('n','-1').astype(int))\n",
    "\n",
    "df_bolsonaro = AnaliseSentimentos_tfidf(df_bolsonaro, mlp_bolsonaro_tfidf,model_mlp_bolsonaro_tfidf, 'predict_tfidf_MLP')"
   ]
  },
  {
   "cell_type": "markdown",
   "id": "754f28f3",
   "metadata": {},
   "source": [
    "### Bolsonaro - KNN - bw"
   ]
  },
  {
   "cell_type": "code",
   "execution_count": 20,
   "id": "a624dafb",
   "metadata": {},
   "outputs": [
    {
     "name": "stdout",
     "output_type": "stream",
     "text": [
      "accuracy:\n",
      "0.6742065579519552\n",
      "precision:\n",
      "0.3932087004234825\n",
      "recall:\n",
      "0.28442989929823476\n",
      "f1:\n",
      "0.3192570842964406\n",
      "matrix_confusion:\n",
      "[[  68  174  500]\n",
      " [   0    0    2]\n",
      " [ 161 1021 3777]]\n",
      "0.4511856951907376\n",
      "672\n",
      "(array([-1,  0,  1]), array([ 37310, 356657, 552471], dtype=int64))\n",
      "Wall time: 2min 34s\n"
     ]
    }
   ],
   "source": [
    "%%time\n",
    "model_knn_bolsonaro_bw, knn_bolsonaro_bw, df_train_knn_bolsonaro_bw, df_teste_knn_bolsonaro_bw = \\\n",
    "train_model_bw(KNeighborsClassifier(), df_bolsonaro_train, 100)\n",
    "model_knn_bolsonaro_bw = model_knn_bolsonaro_bw.fit(Bag_of_words_teste(df_train_knn_bolsonaro_bw, knn_bolsonaro_bw).toarray(), df_train_knn_bolsonaro_bw['Sentimento'].str.replace('p','1').replace('x','0').replace('n','-1').astype(int))\n",
    "\n",
    "df_bolsonaro = AnaliseSentimentos_bw(df_bolsonaro, knn_bolsonaro_bw,model_knn_bolsonaro_bw, 'predict_bw_KNN')"
   ]
  },
  {
   "cell_type": "markdown",
   "id": "f810728a",
   "metadata": {},
   "source": [
    "### Bolsonaro - KNN - tfidf"
   ]
  },
  {
   "cell_type": "code",
   "execution_count": 21,
   "id": "4990814c",
   "metadata": {},
   "outputs": [
    {
     "name": "stdout",
     "output_type": "stream",
     "text": [
      "accuracy:\n",
      "0.4215325267403121\n",
      "precision:\n",
      "0.36296790621854075\n",
      "recall:\n",
      "0.6246768877662964\n",
      "f1:\n",
      "0.27624947268585937\n",
      "matrix_confusion:\n",
      "[[ 340  200  202]\n",
      " [   0    2    0]\n",
      " [1583 1314 2062]]\n",
      "0.42135669835275213\n",
      "1785\n",
      "(array([-1,  0,  1]), array([334820, 290879, 320739], dtype=int64))\n",
      "Wall time: 3min 3s\n"
     ]
    }
   ],
   "source": [
    "%%time\n",
    "model_knn_bolsonaro_tfidf, knn_bolsonaro_tfidf, df_train_knn_bolsonaro_tfidf, df_teste_knn_bolsonaro_tfidf = \\\n",
    "train_model_tfidf(KNeighborsClassifier(), df_bolsonaro_train, 100)\n",
    "model_knn_bolsonaro_tfidf = model_knn_bolsonaro_tfidf.fit(Bag_of_words_teste(df_train_knn_bolsonaro_tfidf, knn_bolsonaro_tfidf).toarray(), df_train_knn_bolsonaro_tfidf['Sentimento'].str.replace('p','1').replace('x','0').replace('n','-1').astype(int))\n",
    "\n",
    "df_bolsonaro = AnaliseSentimentos_tfidf(df_bolsonaro, knn_bolsonaro_tfidf,model_knn_bolsonaro_tfidf, 'predict_tfidf_KNN')"
   ]
  },
  {
   "cell_type": "markdown",
   "id": "355b3295",
   "metadata": {},
   "source": [
    "# Lula"
   ]
  },
  {
   "cell_type": "markdown",
   "id": "3979fdd8",
   "metadata": {},
   "source": [
    "### Lula - Arvore de Decisao - bw"
   ]
  },
  {
   "cell_type": "code",
   "execution_count": 22,
   "id": "b4542a1c",
   "metadata": {},
   "outputs": [
    {
     "name": "stdout",
     "output_type": "stream",
     "text": [
      "accuracy:\n",
      "0.40227576974564927\n",
      "precision:\n",
      "0.3827280028738686\n",
      "recall:\n",
      "0.5953255072351654\n",
      "f1:\n",
      "0.2834150033154175\n",
      "matrix_confusion:\n",
      "[[ 644  677  373]\n",
      " [   0    2    0]\n",
      " [2156 3938 4162]]\n",
      "0.4618333264303018\n",
      "1570\n",
      "(array([-1,  0,  1]), array([188532, 507794, 235404], dtype=int64))\n",
      "Wall time: 1min 20s\n"
     ]
    }
   ],
   "source": [
    "%%time\n",
    "model_tree_lula_bw, tree_lula_bw, df_train_tree_lula_bw, df_teste_tree_lula_bw = \\\n",
    "train_model_bw(tree.DecisionTreeClassifier(), df_lula_train, 100)\n",
    "model_tree_lula_bw = model_tree_lula_bw.fit(Bag_of_words_teste(df_train_tree_lula_bw, tree_lula_bw), df_train_tree_lula_bw['Sentimento'].str.replace('p','1').replace('x','0').replace('n','-1').astype(int))\n",
    "\n",
    "df_lula = AnaliseSentimentos_bw(df_lula, tree_lula_bw,model_tree_lula_bw, 'predict_bw_ArvoreDeDecisao')\n"
   ]
  },
  {
   "cell_type": "markdown",
   "id": "47713584",
   "metadata": {},
   "source": [
    "### Lula - Arvore de Decisao - tfidf"
   ]
  },
  {
   "cell_type": "code",
   "execution_count": 23,
   "id": "a7528298",
   "metadata": {},
   "outputs": [
    {
     "name": "stdout",
     "output_type": "stream",
     "text": [
      "accuracy:\n",
      "0.4861111111111111\n",
      "precision:\n",
      "0.4219633335495761\n",
      "recall:\n",
      "0.6219780314235002\n",
      "f1:\n",
      "0.3342973023136259\n",
      "matrix_confusion:\n",
      "[[ 608  716  370]\n",
      " [   0    2    0]\n",
      " [1224 3832 5200]]\n",
      "0.46608744459945334\n",
      "1594\n",
      "(array([-1,  0,  1]), array([116364, 440987, 374379], dtype=int64))\n",
      "Wall time: 1min 21s\n"
     ]
    }
   ],
   "source": [
    "%%time\n",
    "model_tree_lula_tfidf, tree_lula_tfidf, df_train_tree_lula_tfidf, df_teste_tree_lula_tfidf = \\\n",
    "train_model_tfidf(tree.DecisionTreeClassifier(), df_lula_train, 100)\n",
    "model_tree_lula_tfidf = model_tree_lula_tfidf.fit(tfidf_teste(df_train_tree_lula_tfidf, tree_lula_tfidf), df_train_tree_lula_tfidf['Sentimento'].str.replace('p','1').replace('x','0').replace('n','-1').astype(int))\n",
    "\n",
    "df_lula = AnaliseSentimentos_tfidf(df_lula, tree_lula_tfidf,model_tree_lula_tfidf, 'predict_tfidf_ArvoreDeDecisao')\n"
   ]
  },
  {
   "cell_type": "markdown",
   "id": "486ae1c8",
   "metadata": {},
   "source": [
    "### Lula - Naive Bayes - bw"
   ]
  },
  {
   "cell_type": "code",
   "execution_count": 24,
   "id": "c25b6a1b",
   "metadata": {},
   "outputs": [
    {
     "name": "stdout",
     "output_type": "stream",
     "text": [
      "accuracy:\n",
      "0.3660475234270415\n",
      "precision:\n",
      "0.36288725411132844\n",
      "recall:\n",
      "0.6320123761266861\n",
      "f1:\n",
      "0.2517086683031656\n",
      "matrix_confusion:\n",
      "[[ 953  422  319]\n",
      " [   0    2    0]\n",
      " [4548 2288 3420]]\n",
      "0.35228564797767625\n",
      "2190\n",
      "(array([-1,  0,  1]), array([162573, 377950, 391207], dtype=int64))\n",
      "Wall time: 2min 57s\n"
     ]
    }
   ],
   "source": [
    "%%time\n",
    "model_nb_lula_bw, nb_lula_bw, df_train_nb_lula_bw, df_teste_nb_lula_bw = \\\n",
    "train_model_bw(GaussianNB(), df_lula_train, 100)\n",
    "model_nb_lula_bw = model_nb_lula_bw.fit(Bag_of_words_teste(df_train_nb_lula_bw, nb_lula_bw).toarray(), df_train_nb_lula_bw['Sentimento'].str.replace('p','1').replace('x','0').replace('n','-1').astype(int))\n",
    "\n",
    "df_lula = AnaliseSentimentos_bw(df_lula, nb_lula_bw,model_nb_lula_bw, 'predict_bw_NaiveBayes')\n"
   ]
  },
  {
   "cell_type": "markdown",
   "id": "76979985",
   "metadata": {},
   "source": [
    "### Lula - Naive Bayes - tfidf"
   ]
  },
  {
   "cell_type": "code",
   "execution_count": 25,
   "id": "4a0565d5",
   "metadata": {},
   "outputs": [
    {
     "name": "stdout",
     "output_type": "stream",
     "text": [
      "accuracy:\n",
      "0.47523427041499333\n",
      "precision:\n",
      "0.3724717759329013\n",
      "recall:\n",
      "0.6192313070326827\n",
      "f1:\n",
      "0.30349298235478345\n",
      "matrix_confusion:\n",
      "[[ 617  514  563]\n",
      " [   0    2    0]\n",
      " [2227 2968 5061]]\n",
      "0.4426075839338402\n",
      "2790\n",
      "(array([-1,  0,  1]), array([233038, 345357, 353335], dtype=int64))\n",
      "Wall time: 2min 50s\n"
     ]
    }
   ],
   "source": [
    "%%time\n",
    "model_nb_lula_tfidf, nb_lula_tfidf, df_train_nb_lula_tfidf, df_teste_nb_lula_tfidf = \\\n",
    "train_model_tfidf(GaussianNB(), df_lula_train, 100)\n",
    "model_nb_lula_tfidf = model_nb_lula_tfidf.fit(tfidf_teste(df_train_nb_lula_tfidf, nb_lula_tfidf).toarray(), df_train_nb_lula_tfidf['Sentimento'].str.replace('p','1').replace('x','0').replace('n','-1').astype(int))\n",
    "\n",
    "df_lula = AnaliseSentimentos_tfidf(df_lula, nb_lula_tfidf,model_nb_lula_tfidf, 'predict_tfidf_NaiveBayes')\n"
   ]
  },
  {
   "cell_type": "markdown",
   "id": "170dee4f",
   "metadata": {},
   "source": [
    "### Lula - Random Forest - bw"
   ]
  },
  {
   "cell_type": "code",
   "execution_count": 26,
   "id": "2b90401f",
   "metadata": {},
   "outputs": [
    {
     "name": "stdout",
     "output_type": "stream",
     "text": [
      "accuracy:\n",
      "0.5005856760374833\n",
      "precision:\n",
      "0.4193028359524107\n",
      "recall:\n",
      "0.6248081387246044\n",
      "f1:\n",
      "0.3371489911029766\n",
      "matrix_confusion:\n",
      "[[ 591  671  432]\n",
      " [   0    2    0]\n",
      " [1191 3675 5390]]\n",
      "0.4648934697301917\n",
      "1016\n",
      "(array([-1,  0,  1]), array([ 80661, 593990, 257079], dtype=int64))\n",
      "Wall time: 3min 26s\n"
     ]
    }
   ],
   "source": [
    "%%time\n",
    "model_RandomForest_lula_bw, RandomForest_lula_bw, df_train_RandomForest_lula_bw, df_teste_RandomForest_lula_bw = \\\n",
    "train_model_bw(RandomForestClassifier(), df_lula_train, 100)\n",
    "model_RandomForest_lula_bw = model_RandomForest_lula_bw.fit(Bag_of_words_teste(df_train_RandomForest_lula_bw, RandomForest_lula_bw).toarray(), df_train_RandomForest_lula_bw['Sentimento'].str.replace('p','1').replace('x','0').replace('n','-1').astype(int))\n",
    "\n",
    "df_lula = AnaliseSentimentos_bw(df_lula, RandomForest_lula_bw,model_RandomForest_lula_bw, 'predict_bw_RandomForest')\n"
   ]
  },
  {
   "cell_type": "markdown",
   "id": "550b54cb",
   "metadata": {},
   "source": [
    "### Lula - Random Forest - tfidf"
   ]
  },
  {
   "cell_type": "code",
   "execution_count": 27,
   "id": "5f15963a",
   "metadata": {},
   "outputs": [
    {
     "name": "stdout",
     "output_type": "stream",
     "text": [
      "accuracy:\n",
      "0.49146586345381527\n",
      "precision:\n",
      "0.42925973979717796\n",
      "recall:\n",
      "0.6156802618031522\n",
      "f1:\n",
      "0.3367941468468553\n",
      "matrix_confusion:\n",
      "[[ 557  691  446]\n",
      " [   0    2    0]\n",
      " [ 970 3971 5315]]\n",
      "0.4683000029752502\n",
      "1416\n",
      "(array([-1,  0,  1]), array([ 95142, 525740, 310848], dtype=int64))\n",
      "Wall time: 3min 15s\n"
     ]
    }
   ],
   "source": [
    "%%time\n",
    "model_RandomForest_lula_tfidf, RandomForest_lula_tfidf, df_train_RandomForest_lula_tfidf, df_teste_RandomForest_lula_tfidf = \\\n",
    "train_model_tfidf(RandomForestClassifier(), df_lula_train, 100)\n",
    "model_RandomForest_lula_tfidf = model_RandomForest_lula_tfidf.fit(tfidf_teste(df_train_RandomForest_lula_tfidf, RandomForest_lula_tfidf).toarray(), df_train_RandomForest_lula_tfidf['Sentimento'].str.replace('p','1').replace('x','0').replace('n','-1').astype(int))\n",
    "\n",
    "df_lula = AnaliseSentimentos_tfidf(df_lula, RandomForest_lula_tfidf,model_RandomForest_lula_tfidf, 'predict_tfidf_RandomForest')\n"
   ]
  },
  {
   "cell_type": "markdown",
   "id": "1b0dc0d0",
   "metadata": {},
   "source": [
    "### lula - SVM - bw"
   ]
  },
  {
   "cell_type": "code",
   "execution_count": 28,
   "id": "e149aac8",
   "metadata": {},
   "outputs": [
    {
     "name": "stdout",
     "output_type": "stream",
     "text": [
      "accuracy:\n",
      "0.47908299866131193\n",
      "precision:\n",
      "0.39700631592601815\n",
      "recall:\n",
      "0.47380479634769807\n",
      "f1:\n",
      "0.32292441974382813\n",
      "matrix_confusion:\n",
      "[[ 737  544  413]\n",
      " [   1    1    0]\n",
      " [2020 3248 4988]]\n",
      "0.441872029584391\n",
      "1770\n",
      "(array([-1,  0,  1]), array([126088, 437907, 367735], dtype=int64))\n",
      "Wall time: 1min 26s\n"
     ]
    }
   ],
   "source": [
    "%%time\n",
    "model_svc_lula_bw, svc_lula_bw, df_train_svc_lula_bw, df_teste_svc_lula_bw = \\\n",
    "train_model_bw(LinearSVC(), df_lula_train, 100)\n",
    "model_svc_lula_bw = model_svc_lula_bw.fit(Bag_of_words_teste(df_train_svc_lula_bw, svc_lula_bw).toarray(), df_train_svc_lula_bw['Sentimento'].str.replace('p','1').replace('x','0').replace('n','-1').astype(int))\n",
    "\n",
    "df_lula = AnaliseSentimentos_bw(df_lula, svc_lula_bw,model_svc_lula_bw, 'predict_bw_SVM')"
   ]
  },
  {
   "cell_type": "markdown",
   "id": "da1d180a",
   "metadata": {},
   "source": [
    "### lula - SVM - tfidf"
   ]
  },
  {
   "cell_type": "code",
   "execution_count": 29,
   "id": "48031cd4",
   "metadata": {},
   "outputs": [
    {
     "name": "stdout",
     "output_type": "stream",
     "text": [
      "accuracy:\n",
      "0.5615796519410977\n",
      "precision:\n",
      "0.40451490620362485\n",
      "recall:\n",
      "0.6678856380937646\n",
      "f1:\n",
      "0.35393387818943234\n",
      "matrix_confusion:\n",
      "[[ 709  453  532]\n",
      " [   0    2    0]\n",
      " [1700 2555 6001]]\n",
      "0.49697851860697984\n",
      "2232\n",
      "(array([-1,  0,  1]), array([237805, 338519, 355406], dtype=int64))\n",
      "Wall time: 1min 22s\n"
     ]
    }
   ],
   "source": [
    "%%time\n",
    "model_svc_lula_tfidf, svc_lula_tfidf, df_train_svc_lula_tfidf, df_teste_svc_lula_tfidf = \\\n",
    "train_model_tfidf(LinearSVC(), df_lula_train, 100)\n",
    "model_svc_lula_tfidf = model_svc_lula_tfidf.fit(tfidf_teste(df_train_svc_lula_tfidf, svc_lula_tfidf).toarray(), df_train_svc_lula_tfidf['Sentimento'].str.replace('p','1').replace('x','0').replace('n','-1').astype(int))\n",
    "\n",
    "df_lula = AnaliseSentimentos_tfidf(df_lula, svc_lula_tfidf,model_svc_lula_tfidf, 'predict_tfidf_SVM')"
   ]
  },
  {
   "cell_type": "markdown",
   "id": "2f4d0c75",
   "metadata": {},
   "source": [
    "### Lula - MLP - bw"
   ]
  },
  {
   "cell_type": "code",
   "execution_count": 30,
   "id": "7f0b3ce3",
   "metadata": {},
   "outputs": [
    {
     "name": "stdout",
     "output_type": "stream",
     "text": [
      "accuracy:\n",
      "0.5460174029451138\n",
      "precision:\n",
      "0.37628028584039486\n",
      "recall:\n",
      "0.3073810260556821\n",
      "f1:\n",
      "0.3269840747749863\n",
      "matrix_confusion:\n",
      "[[ 580  430  684]\n",
      " [   0    0    2]\n",
      " [1917 2393 5946]]\n",
      "0.4639451784660978\n",
      "2212\n",
      "(array([-1,  0,  1]), array([197709, 391916, 342105], dtype=int64))\n",
      "Wall time: 8min 13s\n"
     ]
    }
   ],
   "source": [
    "%%time\n",
    "model_mlp_lula_bw, mlp_lula_bw, df_train_mlp_lula_bw, df_teste_mlp_lula_bw = \\\n",
    "train_model_bw(MLPClassifier(max_iter=400), df_lula_train, 100)\n",
    "model_mlp_lula_bw = model_mlp_lula_bw.fit(Bag_of_words_teste(df_train_mlp_lula_bw, mlp_lula_bw).toarray(), df_train_mlp_lula_bw['Sentimento'].str.replace('p','1').replace('x','0').replace('n','-1').astype(int))\n",
    "\n",
    "df_lula = AnaliseSentimentos_bw(df_lula, mlp_lula_bw,model_mlp_lula_bw, 'predict_bw_MLP')"
   ]
  },
  {
   "cell_type": "markdown",
   "id": "3916ac0b",
   "metadata": {},
   "source": [
    "### Lula - MLP - tfidf"
   ]
  },
  {
   "cell_type": "code",
   "execution_count": 31,
   "id": "6b923f49",
   "metadata": {},
   "outputs": [
    {
     "name": "stdout",
     "output_type": "stream",
     "text": [
      "accuracy:\n",
      "0.5305388219544847\n",
      "precision:\n",
      "0.3807459128579376\n",
      "recall:\n",
      "0.6292156526875007\n",
      "f1:\n",
      "0.3234493949316066\n",
      "matrix_confusion:\n",
      "[[ 547  529  618]\n",
      " [   0    2    0]\n",
      " [1751 2713 5792]]\n",
      "0.4659874456078824\n",
      "2369\n",
      "(array([-1,  0,  1]), array([198405, 377058, 356267], dtype=int64))\n",
      "Wall time: 9min 6s\n"
     ]
    }
   ],
   "source": [
    "%%time\n",
    "model_mlp_lula_tfidf, mlp_lula_tfidf, df_train_mlp_lula_tfidf, df_teste_mlp_lula_tfidf = \\\n",
    "train_model_tfidf(MLPClassifier(max_iter=400), df_lula_train, 100)\n",
    "model_mlp_lula_tfidf = model_mlp_lula_tfidf.fit(Bag_of_words_teste(df_train_mlp_lula_tfidf, mlp_lula_tfidf).toarray(), df_train_mlp_lula_tfidf['Sentimento'].str.replace('p','1').replace('x','0').replace('n','-1').astype(int))\n",
    "\n",
    "df_lula = AnaliseSentimentos_tfidf(df_lula, mlp_lula_tfidf,model_mlp_lula_tfidf, 'predict_tfidf_MLP')"
   ]
  },
  {
   "cell_type": "markdown",
   "id": "a1654d8b",
   "metadata": {},
   "source": [
    "### Lula - KNN - bw"
   ]
  },
  {
   "cell_type": "code",
   "execution_count": 32,
   "id": "8061ec4b",
   "metadata": {},
   "outputs": [
    {
     "name": "stdout",
     "output_type": "stream",
     "text": [
      "accuracy:\n",
      "0.24548192771084337\n",
      "precision:\n",
      "0.4094869041390881\n",
      "recall:\n",
      "0.5009066596430091\n",
      "f1:\n",
      "0.2172676130861757\n",
      "matrix_confusion:\n",
      "[[ 440 1153  101]\n",
      " [   0    2    0]\n",
      " [1207 6557 2492]]\n",
      "0.3391346737190689\n",
      "421\n",
      "(array([-1,  0,  1]), array([ 12197, 780423, 139110], dtype=int64))\n",
      "Wall time: 3min 3s\n"
     ]
    }
   ],
   "source": [
    "%%time\n",
    "model_knn_lula_bw, knn_lula_bw, df_train_knn_lula_bw, df_teste_knn_lula_bw = \\\n",
    "train_model_bw(KNeighborsClassifier(), df_lula_train, 100)\n",
    "model_knn_lula_bw = model_knn_lula_bw.fit(Bag_of_words_teste(df_train_knn_lula_bw, knn_lula_bw).toarray(), df_train_knn_lula_bw['Sentimento'].str.replace('p','1').replace('x','0').replace('n','-1').astype(int))\n",
    "\n",
    "df_lula = AnaliseSentimentos_bw(df_lula, knn_lula_bw,model_knn_lula_bw, 'predict_bw_KNN')"
   ]
  },
  {
   "cell_type": "markdown",
   "id": "db128468",
   "metadata": {},
   "source": [
    "### Lula - KNN - tfidf"
   ]
  },
  {
   "cell_type": "code",
   "execution_count": 33,
   "id": "36edb729",
   "metadata": {},
   "outputs": [
    {
     "name": "stdout",
     "output_type": "stream",
     "text": [
      "accuracy:\n",
      "0.5133868808567604\n",
      "precision:\n",
      "0.38634688422812813\n",
      "recall:\n",
      "0.6701916571349985\n",
      "f1:\n",
      "0.32806721615864604\n",
      "matrix_confusion:\n",
      "[[ 837  400  457]\n",
      " [   0    2    0]\n",
      " [2684 2275 5297]]\n",
      "0.47449815959463326\n",
      "3141\n",
      "(array([-1,  0,  1]), array([313093, 321141, 297496], dtype=int64))\n",
      "Wall time: 3min 30s\n"
     ]
    }
   ],
   "source": [
    "%%time\n",
    "model_knn_lula_tfidf, knn_lula_tfidf, df_train_knn_lula_tfidf, df_teste_knn_lula_tfidf = \\\n",
    "train_model_tfidf(KNeighborsClassifier(), df_lula_train, 100)\n",
    "model_knn_lula_tfidf = model_knn_lula_tfidf.fit(Bag_of_words_teste(df_train_knn_lula_tfidf, knn_lula_tfidf).toarray(), df_train_knn_lula_tfidf['Sentimento'].str.replace('p','1').replace('x','0').replace('n','-1').astype(int))\n",
    "\n",
    "df_lula = AnaliseSentimentos_tfidf(df_lula, knn_lula_tfidf,model_knn_lula_tfidf, 'predict_tfidf_KNN')"
   ]
  },
  {
   "cell_type": "markdown",
   "id": "db094735",
   "metadata": {},
   "source": [
    "# Simone"
   ]
  },
  {
   "cell_type": "markdown",
   "id": "334ad64c",
   "metadata": {},
   "source": [
    "### Simone - Arvore de Decisao - bw"
   ]
  },
  {
   "cell_type": "code",
   "execution_count": 34,
   "id": "0de6efd3",
   "metadata": {},
   "outputs": [
    {
     "name": "stdout",
     "output_type": "stream",
     "text": [
      "accuracy:\n",
      "0.6592592592592592\n",
      "precision:\n",
      "0.5184090909090909\n",
      "recall:\n",
      "0.6024590163934426\n",
      "f1:\n",
      "0.4978080120937263\n",
      "matrix_confusion:\n",
      "[[ 1  0  1]\n",
      " [ 7 34 20]\n",
      " [ 8 10 54]]\n",
      "0.6044439019068559\n",
      "8\n",
      "(array([-1,  0,  1]), array([30830, 27466, 72866], dtype=int64))\n",
      "Wall time: 6.51 s\n"
     ]
    }
   ],
   "source": [
    "%%time\n",
    "model_tree_simone_bw, tree_simone_bw, df_train_tree_simone_bw, df_teste_tree_simone_bw = \\\n",
    "train_model_bw(tree.DecisionTreeClassifier(), df_simone_train, 100)\n",
    "model_tree_simone_bw = model_tree_simone_bw.fit(Bag_of_words_teste(df_train_tree_simone_bw, tree_simone_bw), df_train_tree_simone_bw['Sentimento'].str.replace('p','1').replace('x','0').replace('n','-1').astype(int))\n",
    "\n",
    "df_simone = AnaliseSentimentos_bw(df_simone, tree_simone_bw,model_tree_simone_bw, 'predict_bw_ArvoreDeDecisao')\n"
   ]
  },
  {
   "cell_type": "markdown",
   "id": "41f4a8ef",
   "metadata": {},
   "source": [
    "### Simone - Arvore de Decisao - tfidf"
   ]
  },
  {
   "cell_type": "code",
   "execution_count": 35,
   "id": "43ad13f9",
   "metadata": {},
   "outputs": [
    {
     "name": "stdout",
     "output_type": "stream",
     "text": [
      "accuracy:\n",
      "0.6518518518518519\n",
      "precision:\n",
      "0.5077864326857074\n",
      "recall:\n",
      "0.5961596842744384\n",
      "f1:\n",
      "0.4892191441518566\n",
      "matrix_confusion:\n",
      "[[ 1  1  0]\n",
      " [11 32 18]\n",
      " [ 5 12 55]]\n",
      "0.5612542782409636\n",
      "5\n",
      "(array([-1,  0,  1]), array([44885, 33341, 52936], dtype=int64))\n",
      "Wall time: 6.76 s\n"
     ]
    }
   ],
   "source": [
    "%%time\n",
    "model_tree_simone_tfidf, tree_simone_tfidf, df_train_tree_simone_tfidf, df_teste_tree_simone_tfidf = \\\n",
    "train_model_tfidf(tree.DecisionTreeClassifier(), df_simone_train, 100)\n",
    "model_tree_simone_tfidf = model_tree_simone_tfidf.fit(tfidf_teste(df_train_tree_simone_tfidf, tree_simone_tfidf), df_train_tree_simone_tfidf['Sentimento'].str.replace('p','1').replace('x','0').replace('n','-1').astype(int))\n",
    "\n",
    "df_simone = AnaliseSentimentos_tfidf(df_simone, tree_simone_tfidf,model_tree_simone_tfidf, 'predict_tfidf_ArvoreDeDecisao')\n"
   ]
  },
  {
   "cell_type": "markdown",
   "id": "f934ee36",
   "metadata": {},
   "source": [
    "### Simone - Naive Bayes - bw"
   ]
  },
  {
   "cell_type": "code",
   "execution_count": 36,
   "id": "55d83565",
   "metadata": {},
   "outputs": [
    {
     "name": "stdout",
     "output_type": "stream",
     "text": [
      "accuracy:\n",
      "0.6148148148148148\n",
      "precision:\n",
      "0.5076733319101496\n",
      "recall:\n",
      "0.5838646023072253\n",
      "f1:\n",
      "0.47204481792717085\n",
      "matrix_confusion:\n",
      "[[ 1  1  0]\n",
      " [ 6 45 10]\n",
      " [16 19 37]]\n",
      "0.6326567394286764\n",
      "9\n",
      "(array([-1,  0,  1]), array([39451, 63121, 28590], dtype=int64))\n",
      "Wall time: 9.64 s\n"
     ]
    }
   ],
   "source": [
    "%%time\n",
    "model_nb_simone_bw, nb_simone_bw, df_train_nb_simone_bw, df_teste_nb_simone_bw = \\\n",
    "train_model_bw(GaussianNB(), df_simone_train, 100)\n",
    "model_nb_simone_bw = model_nb_simone_bw.fit(Bag_of_words_teste(df_train_nb_simone_bw, nb_simone_bw).toarray(), df_train_nb_simone_bw['Sentimento'].str.replace('p','1').replace('x','0').replace('n','-1').astype(int))\n",
    "\n",
    "df_simone = AnaliseSentimentos_bw(df_simone, nb_simone_bw,model_nb_simone_bw, 'predict_bw_NaiveBayes')\n"
   ]
  },
  {
   "cell_type": "markdown",
   "id": "713a8608",
   "metadata": {},
   "source": [
    "### Simone - Naive Bayes - tfidf"
   ]
  },
  {
   "cell_type": "code",
   "execution_count": 37,
   "id": "6eeea615",
   "metadata": {},
   "outputs": [
    {
     "name": "stdout",
     "output_type": "stream",
     "text": [
      "accuracy:\n",
      "0.6518518518518519\n",
      "precision:\n",
      "0.5322174883343478\n",
      "recall:\n",
      "0.7648755312689738\n",
      "f1:\n",
      "0.5233799106540662\n",
      "matrix_confusion:\n",
      "[[ 2  0  0]\n",
      " [ 5 40 16]\n",
      " [13 13 46]]\n",
      "0.6180811955273099\n",
      "13\n",
      "(array([-1,  0,  1]), array([40355, 44625, 46182], dtype=int64))\n",
      "Wall time: 10 s\n"
     ]
    }
   ],
   "source": [
    "%%time\n",
    "model_nb_simone_tfidf, nb_simone_tfidf, df_train_nb_simone_tfidf, df_teste_nb_simone_tfidf = \\\n",
    "train_model_tfidf(GaussianNB(), df_simone_train, 100)\n",
    "model_nb_simone_tfidf = model_nb_simone_tfidf.fit(tfidf_teste(df_train_nb_simone_tfidf, nb_simone_tfidf).toarray(), df_train_nb_simone_tfidf['Sentimento'].str.replace('p','1').replace('x','0').replace('n','-1').astype(int))\n",
    "\n",
    "df_simone = AnaliseSentimentos_tfidf(df_simone, nb_simone_tfidf,model_nb_simone_tfidf, 'predict_tfidf_NaiveBayes')\n"
   ]
  },
  {
   "cell_type": "markdown",
   "id": "a7e64f12",
   "metadata": {},
   "source": [
    "### Simone - Random Forest - bw"
   ]
  },
  {
   "cell_type": "code",
   "execution_count": 38,
   "id": "31aaf2a6",
   "metadata": {},
   "outputs": [
    {
     "name": "stdout",
     "output_type": "stream",
     "text": [
      "accuracy:\n",
      "0.6666666666666666\n",
      "precision:\n",
      "0.5172098690222358\n",
      "recall:\n",
      "0.4483910139647844\n",
      "f1:\n",
      "0.4797035099193372\n",
      "matrix_confusion:\n",
      "[[ 0  1  1]\n",
      " [ 9 38 14]\n",
      " [10 10 52]]\n",
      "0.598746830894797\n",
      "3\n",
      "(array([-1,  0,  1]), array([18148, 86846, 26168], dtype=int64))\n",
      "Wall time: 29.1 s\n"
     ]
    }
   ],
   "source": [
    "%%time\n",
    "model_RandomForest_simone_bw, RandomForest_simone_bw, df_train_RandomForest_simone_bw, df_teste_RandomForest_simone_bw = \\\n",
    "train_model_bw(RandomForestClassifier(), df_simone_train, 100)\n",
    "model_RandomForest_simone_bw = model_RandomForest_simone_bw.fit(Bag_of_words_teste(df_train_RandomForest_simone_bw, RandomForest_simone_bw).toarray(), df_train_RandomForest_simone_bw['Sentimento'].str.replace('p','1').replace('x','0').replace('n','-1').astype(int))\n",
    "\n",
    "df_simone = AnaliseSentimentos_bw(df_simone, RandomForest_simone_bw,model_RandomForest_simone_bw, 'predict_bw_RandomForest')\n"
   ]
  },
  {
   "cell_type": "markdown",
   "id": "80e45eb2",
   "metadata": {},
   "source": [
    "### Simone - Random Forest - tfidf"
   ]
  },
  {
   "cell_type": "code",
   "execution_count": 39,
   "id": "01ad477f",
   "metadata": {},
   "outputs": [
    {
     "name": "stdout",
     "output_type": "stream",
     "text": [
      "accuracy:\n",
      "0.674074074074074\n",
      "precision:\n",
      "0.5428388746803069\n",
      "recall:\n",
      "0.7745901639344263\n",
      "f1:\n",
      "0.5382439744220364\n",
      "matrix_confusion:\n",
      "[[ 2  0  0]\n",
      " [ 8 35 18]\n",
      " [ 7 11 54]]\n",
      "0.632436771777711\n",
      "7\n",
      "(array([-1,  0,  1]), array([33003, 45036, 53123], dtype=int64))\n",
      "Wall time: 28.3 s\n"
     ]
    }
   ],
   "source": [
    "%%time\n",
    "model_RandomForest_simone_tfidf, RandomForest_simone_tfidf, df_train_RandomForest_simone_tfidf, df_teste_RandomForest_simone_tfidf = \\\n",
    "train_model_tfidf(RandomForestClassifier(), df_simone_train, 100)\n",
    "model_RandomForest_simone_tfidf = model_RandomForest_simone_tfidf.fit(tfidf_teste(df_train_RandomForest_simone_tfidf, RandomForest_simone_tfidf).toarray(), df_train_RandomForest_simone_tfidf['Sentimento'].str.replace('p','1').replace('x','0').replace('n','-1').astype(int))\n",
    "\n",
    "df_simone = AnaliseSentimentos_tfidf(df_simone, RandomForest_simone_tfidf,model_RandomForest_simone_tfidf, 'predict_tfidf_RandomForest')\n"
   ]
  },
  {
   "cell_type": "markdown",
   "id": "3d5aa5d4",
   "metadata": {},
   "source": [
    "### Simone - SVM - bw"
   ]
  },
  {
   "cell_type": "code",
   "execution_count": 40,
   "id": "4d91ccc7",
   "metadata": {},
   "outputs": [
    {
     "name": "stdout",
     "output_type": "stream",
     "text": [
      "accuracy:\n",
      "0.6222222222222222\n",
      "precision:\n",
      "0.5445175438596491\n",
      "recall:\n",
      "0.7488615664845173\n",
      "f1:\n",
      "0.5012711864406779\n",
      "matrix_confusion:\n",
      "[[ 2  0  0]\n",
      " [ 9 43  9]\n",
      " [19 14 39]]\n",
      "0.6357774267204993\n",
      "12\n",
      "(array([-1,  0,  1]), array([36372, 61135, 33655], dtype=int64))\n",
      "Wall time: 6.9 s\n"
     ]
    }
   ],
   "source": [
    "%%time\n",
    "model_svc_simone_bw, svc_simone_bw, df_train_svc_simone_bw, df_teste_svc_simone_bw = \\\n",
    "train_model_bw(LinearSVC(), df_simone_train, 100)\n",
    "model_svc_simone_bw = model_svc_simone_bw.fit(Bag_of_words_teste(df_train_svc_simone_bw, svc_simone_bw).toarray(), df_train_svc_simone_bw['Sentimento'].str.replace('p','1').replace('x','0').replace('n','-1').astype(int))\n",
    "\n",
    "df_simone = AnaliseSentimentos_bw(df_simone, svc_simone_bw,model_svc_simone_bw, 'predict_bw_SVM')"
   ]
  },
  {
   "cell_type": "markdown",
   "id": "bc6dce97",
   "metadata": {},
   "source": [
    "### Simone - SVM - tfidf"
   ]
  },
  {
   "cell_type": "code",
   "execution_count": 41,
   "id": "eaa57f49",
   "metadata": {},
   "outputs": [
    {
     "name": "stdout",
     "output_type": "stream",
     "text": [
      "accuracy:\n",
      "0.6592592592592592\n",
      "precision:\n",
      "0.5461210317460318\n",
      "recall:\n",
      "0.7736794171220401\n",
      "f1:\n",
      "0.527479211214065\n",
      "matrix_confusion:\n",
      "[[ 2  0  0]\n",
      " [ 8 45  8]\n",
      " [11 19 42]]\n",
      "0.626634729835349\n",
      "11\n",
      "(array([-1,  0,  1]), array([46179, 55322, 29661], dtype=int64))\n",
      "Wall time: 6.91 s\n"
     ]
    }
   ],
   "source": [
    "%%time\n",
    "model_svc_simone_tfidf, svc_simone_tfidf, df_train_svc_simone_tfidf, df_teste_svc_simone_tfidf = \\\n",
    "train_model_tfidf(LinearSVC(), df_simone_train, 100)\n",
    "model_svc_simone_tfidf = model_svc_simone_tfidf.fit(tfidf_teste(df_train_svc_simone_tfidf, svc_simone_tfidf).toarray(), df_train_svc_simone_tfidf['Sentimento'].str.replace('p','1').replace('x','0').replace('n','-1').astype(int))\n",
    "\n",
    "df_simone = AnaliseSentimentos_tfidf(df_simone, svc_simone_tfidf,model_svc_simone_tfidf, 'predict_tfidf_SVM')"
   ]
  },
  {
   "cell_type": "markdown",
   "id": "0069f365",
   "metadata": {},
   "source": [
    "### Simone - MLP - bw"
   ]
  },
  {
   "cell_type": "code",
   "execution_count": 42,
   "id": "76b62e0a",
   "metadata": {},
   "outputs": [
    {
     "name": "stdout",
     "output_type": "stream",
     "text": [
      "accuracy:\n",
      "0.6592592592592592\n",
      "precision:\n",
      "0.5544168597594615\n",
      "recall:\n",
      "0.7720097146326655\n",
      "f1:\n",
      "0.5282348852320292\n",
      "matrix_confusion:\n",
      "[[ 2  0  0]\n",
      " [ 5 43 13]\n",
      " [18 10 44]]\n",
      "0.6173116381232224\n",
      "5\n",
      "(array([-1,  0,  1]), array([39545, 73187, 18430], dtype=int64))\n",
      "Wall time: 1min 38s\n"
     ]
    }
   ],
   "source": [
    "%%time\n",
    "model_mlp_simone_bw, mlp_simone_bw, df_train_mlp_simone_bw, df_teste_mlp_simone_bw = \\\n",
    "train_model_bw(MLPClassifier(max_iter=400), df_simone_train, 100)\n",
    "model_mlp_simone_bw = model_mlp_simone_bw.fit(Bag_of_words_teste(df_train_mlp_simone_bw, mlp_simone_bw).toarray(), df_train_mlp_simone_bw['Sentimento'].str.replace('p','1').replace('x','0').replace('n','-1').astype(int))\n",
    "\n",
    "df_simone = AnaliseSentimentos_bw(df_simone, mlp_simone_bw,model_mlp_simone_bw, 'predict_bw_MLP')"
   ]
  },
  {
   "cell_type": "markdown",
   "id": "55494fc2",
   "metadata": {},
   "source": [
    "### Simone - MLP - tfidf"
   ]
  },
  {
   "cell_type": "code",
   "execution_count": 43,
   "id": "e187fac8",
   "metadata": {},
   "outputs": [
    {
     "name": "stdout",
     "output_type": "stream",
     "text": [
      "accuracy:\n",
      "0.6592592592592592\n",
      "precision:\n",
      "0.5483403459560542\n",
      "recall:\n",
      "0.7695051608986034\n",
      "f1:\n",
      "0.5274044193447178\n",
      "matrix_confusion:\n",
      "[[ 2  0  0]\n",
      " [ 6 40 15]\n",
      " [15 10 47]]\n",
      "0.6261272963646587\n",
      "15\n",
      "(array([-1,  0,  1]), array([44227, 55582, 31353], dtype=int64))\n",
      "Wall time: 1min 58s\n"
     ]
    }
   ],
   "source": [
    "%%time\n",
    "model_mlp_simone_tfidf, mlp_simone_tfidf, df_train_mlp_simone_tfidf, df_teste_mlp_simone_tfidf = \\\n",
    "train_model_tfidf(MLPClassifier(max_iter=400), df_simone_train, 100)\n",
    "model_mlp_simone_tfidf = model_mlp_simone_tfidf.fit(Bag_of_words_teste(df_train_mlp_simone_tfidf, mlp_simone_tfidf).toarray(), df_train_mlp_simone_tfidf['Sentimento'].str.replace('p','1').replace('x','0').replace('n','-1').astype(int))\n",
    "\n",
    "df_simone = AnaliseSentimentos_tfidf(df_simone, mlp_simone_tfidf,model_mlp_simone_tfidf, 'predict_tfidf_MLP')"
   ]
  },
  {
   "cell_type": "markdown",
   "id": "fa1f6e12",
   "metadata": {},
   "source": [
    "### Simone - KNN - bw"
   ]
  },
  {
   "cell_type": "code",
   "execution_count": 44,
   "id": "4caa76ae",
   "metadata": {},
   "outputs": [
    {
     "name": "stdout",
     "output_type": "stream",
     "text": [
      "accuracy:\n",
      "0.6962962962962963\n",
      "precision:\n",
      "0.5128434886499402\n",
      "recall:\n",
      "0.4610655737704918\n",
      "f1:\n",
      "0.4676038737894408\n",
      "matrix_confusion:\n",
      "[[ 0  0  2]\n",
      " [ 2 31 28]\n",
      " [ 4  5 63]]\n",
      "0.6815179909425388\n",
      "1\n",
      "(array([-1,  0,  1]), array([  7210,  10401, 113551], dtype=int64))\n",
      "Wall time: 14.7 s\n"
     ]
    }
   ],
   "source": [
    "%%time\n",
    "model_knn_simone_bw, knn_simone_bw, df_train_knn_simone_bw, df_teste_knn_simone_bw = \\\n",
    "train_model_bw(KNeighborsClassifier(), df_simone_train, 100)\n",
    "model_knn_simone_bw = model_knn_simone_bw.fit(Bag_of_words_teste(df_train_knn_simone_bw, knn_simone_bw).toarray(), df_train_knn_simone_bw['Sentimento'].str.replace('p','1').replace('x','0').replace('n','-1').astype(int))\n",
    "\n",
    "df_simone = AnaliseSentimentos_bw(df_simone, knn_simone_bw,model_knn_simone_bw, 'predict_bw_KNN')"
   ]
  },
  {
   "cell_type": "markdown",
   "id": "ec6ca58e",
   "metadata": {},
   "source": [
    "### Simone - KNN - tfidf"
   ]
  },
  {
   "cell_type": "code",
   "execution_count": 45,
   "id": "f1fb5efe",
   "metadata": {},
   "outputs": [
    {
     "name": "stdout",
     "output_type": "stream",
     "text": [
      "accuracy:\n",
      "0.6592592592592592\n",
      "precision:\n",
      "0.5532679738562091\n",
      "recall:\n",
      "0.7728445658773527\n",
      "f1:\n",
      "0.5267686243295999\n",
      "matrix_confusion:\n",
      "[[ 2  0  0]\n",
      " [ 9 44  8]\n",
      " [13 16 43]]\n",
      "0.6280351058306053\n",
      "13\n",
      "(array([-1,  0,  1]), array([45047, 60233, 25882], dtype=int64))\n",
      "Wall time: 30.1 s\n"
     ]
    }
   ],
   "source": [
    "%%time\n",
    "model_knn_simone_tfidf, knn_simone_tfidf, df_train_knn_simone_tfidf, df_teste_knn_simone_tfidf = \\\n",
    "train_model_tfidf(KNeighborsClassifier(), df_simone_train, 100)\n",
    "model_knn_simone_tfidf = model_knn_simone_tfidf.fit(Bag_of_words_teste(df_train_knn_simone_tfidf, knn_simone_tfidf).toarray(), df_train_knn_simone_tfidf['Sentimento'].str.replace('p','1').replace('x','0').replace('n','-1').astype(int))\n",
    "\n",
    "df_simone = AnaliseSentimentos_tfidf(df_simone, knn_simone_tfidf,model_knn_simone_tfidf, 'predict_tfidf_KNN')"
   ]
  },
  {
   "cell_type": "markdown",
   "id": "e4e720fd",
   "metadata": {},
   "source": [
    "# Ciro"
   ]
  },
  {
   "cell_type": "markdown",
   "id": "5beb534f",
   "metadata": {},
   "source": [
    "### Ciro - Arvore de Decisao - bw"
   ]
  },
  {
   "cell_type": "code",
   "execution_count": 46,
   "id": "0a317ba8",
   "metadata": {},
   "outputs": [
    {
     "name": "stdout",
     "output_type": "stream",
     "text": [
      "accuracy:\n",
      "0.3433984606275903\n",
      "precision:\n",
      "0.33497233142336463\n",
      "recall:\n",
      "0.4731241806152626\n",
      "f1:\n",
      "0.1743765066077209\n",
      "matrix_confusion:\n",
      "[[   1    1    0]\n",
      " [   7   15    4]\n",
      " [2002 2422 2304]]\n",
      "0.3885513147890517\n",
      "1108\n",
      "(array([-1,  0,  1]), array([ 78808, 272317, 146941], dtype=int64))\n",
      "Wall time: 44.3 s\n"
     ]
    }
   ],
   "source": [
    "%%time\n",
    "model_tree_ciro_bw, tree_ciro_bw, df_train_tree_ciro_bw, df_teste_tree_ciro_bw = \\\n",
    "train_model_bw(tree.DecisionTreeClassifier(), df_ciro_train, 100)\n",
    "model_tree_ciro_bw = model_tree_ciro_bw.fit(Bag_of_words_teste(df_train_tree_ciro_bw, tree_ciro_bw), df_train_tree_ciro_bw['Sentimento'].str.replace('p','1').replace('x','0').replace('n','-1').astype(int))\n",
    "\n",
    "df_ciro = AnaliseSentimentos_bw(df_ciro, tree_ciro_bw,model_tree_ciro_bw, 'predict_bw_ArvoreDeDecisao')\n"
   ]
  },
  {
   "cell_type": "markdown",
   "id": "6ad56845",
   "metadata": {},
   "source": [
    "### Ciro - Arvore de Decisao - tfidf"
   ]
  },
  {
   "cell_type": "code",
   "execution_count": 47,
   "id": "a26c1c24",
   "metadata": {},
   "outputs": [
    {
     "name": "stdout",
     "output_type": "stream",
     "text": [
      "accuracy:\n",
      "0.5313795145056246\n",
      "precision:\n",
      "0.33621859807128945\n",
      "recall:\n",
      "0.3949701210402756\n",
      "f1:\n",
      "0.23772815861054375\n",
      "matrix_confusion:\n",
      "[[   0    0    2]\n",
      " [   6   17    3]\n",
      " [1481 1674 3573]]\n",
      "0.37507409805693337\n",
      "1483\n",
      "(array([-1,  0,  1]), array([146393, 168978, 182695], dtype=int64))\n",
      "Wall time: 45.3 s\n"
     ]
    }
   ],
   "source": [
    "%%time\n",
    "model_tree_ciro_tfidf, tree_ciro_tfidf, df_train_tree_ciro_tfidf, df_teste_tree_ciro_tfidf = \\\n",
    "train_model_tfidf(tree.DecisionTreeClassifier(), df_ciro_train, 100)\n",
    "model_tree_ciro_tfidf = model_tree_ciro_tfidf.fit(tfidf_teste(df_train_tree_ciro_tfidf, tree_ciro_tfidf), df_train_tree_ciro_tfidf['Sentimento'].str.replace('p','1').replace('x','0').replace('n','-1').astype(int))\n",
    "\n",
    "df_ciro = AnaliseSentimentos_tfidf(df_ciro, tree_ciro_tfidf,model_tree_ciro_tfidf, 'predict_tfidf_ArvoreDeDecisao')\n"
   ]
  },
  {
   "cell_type": "markdown",
   "id": "ac990958",
   "metadata": {},
   "source": [
    "### Ciro - Naive Bayes - bw"
   ]
  },
  {
   "cell_type": "code",
   "execution_count": 48,
   "id": "1039c570",
   "metadata": {},
   "outputs": [
    {
     "name": "stdout",
     "output_type": "stream",
     "text": [
      "accuracy:\n",
      "0.413854351687389\n",
      "precision:\n",
      "0.3355519205737458\n",
      "recall:\n",
      "0.43285237354797407\n",
      "f1:\n",
      "0.2007976910121861\n",
      "matrix_confusion:\n",
      "[[   1    1    0]\n",
      " [  10   10    6]\n",
      " [2770 1173 2785]]\n",
      "0.4198046648367239\n",
      "2476\n",
      "(array([-1,  0,  1]), array([201842, 130277, 165947], dtype=int64))\n",
      "Wall time: 1min 28s\n"
     ]
    }
   ],
   "source": [
    "%%time\n",
    "model_nb_ciro_bw, nb_ciro_bw, df_train_nb_ciro_bw, df_teste_nb_ciro_bw = \\\n",
    "train_model_bw(GaussianNB(), df_ciro_train, 100)\n",
    "model_nb_ciro_bw = model_nb_ciro_bw.fit(Bag_of_words_teste(df_train_nb_ciro_bw, nb_ciro_bw).toarray(), df_train_nb_ciro_bw['Sentimento'].str.replace('p','1').replace('x','0').replace('n','-1').astype(int))\n",
    "\n",
    "df_ciro = AnaliseSentimentos_bw(df_ciro, nb_ciro_bw,model_nb_ciro_bw, 'predict_bw_NaiveBayes')\n"
   ]
  },
  {
   "cell_type": "markdown",
   "id": "5f03aad2",
   "metadata": {},
   "source": [
    "### Ciro - Naive Bayes - tfidf"
   ]
  },
  {
   "cell_type": "code",
   "execution_count": 49,
   "id": "0fbc84a3",
   "metadata": {},
   "outputs": [
    {
     "name": "stdout",
     "output_type": "stream",
     "text": [
      "accuracy:\n",
      "0.5122853759621078\n",
      "precision:\n",
      "0.33654034552265705\n",
      "recall:\n",
      "0.657958321900058\n",
      "f1:\n",
      "0.23280866023361682\n",
      "matrix_confusion:\n",
      "[[   2    0    0]\n",
      " [  10   12    4]\n",
      " [2071 1210 3447]]\n",
      "0.4348981759046099\n",
      "2071\n",
      "(array([-1,  0,  1]), array([165490, 125883, 206693], dtype=int64))\n",
      "Wall time: 1min 30s\n"
     ]
    }
   ],
   "source": [
    "%%time\n",
    "model_nb_ciro_tfidf, nb_ciro_tfidf, df_train_nb_ciro_tfidf, df_teste_nb_ciro_tfidf = \\\n",
    "train_model_tfidf(GaussianNB(), df_ciro_train, 100)\n",
    "model_nb_ciro_tfidf = model_nb_ciro_tfidf.fit(tfidf_teste(df_train_nb_ciro_tfidf, nb_ciro_tfidf).toarray(), df_train_nb_ciro_tfidf['Sentimento'].str.replace('p','1').replace('x','0').replace('n','-1').astype(int))\n",
    "\n",
    "df_ciro = AnaliseSentimentos_tfidf(df_ciro, nb_ciro_tfidf,model_nb_ciro_tfidf, 'predict_tfidf_NaiveBayes')\n"
   ]
  },
  {
   "cell_type": "markdown",
   "id": "84080ded",
   "metadata": {},
   "source": [
    "### Ciro - Random Forest - bw"
   ]
  },
  {
   "cell_type": "code",
   "execution_count": 50,
   "id": "c5b089d3",
   "metadata": {},
   "outputs": [
    {
     "name": "stdout",
     "output_type": "stream",
     "text": [
      "accuracy:\n",
      "0.35997631734754293\n",
      "precision:\n",
      "0.33652466318527735\n",
      "recall:\n",
      "0.632519284124516\n",
      "f1:\n",
      "0.18317113148585207\n",
      "matrix_confusion:\n",
      "[[   2    0    0]\n",
      " [   9   14    3]\n",
      " [2945 1367 2416]]\n",
      "0.4177788489764787\n",
      "1502\n",
      "(array([-1,  0,  1]), array([124226, 131196, 242644], dtype=int64))\n",
      "Wall time: 2min 2s\n"
     ]
    }
   ],
   "source": [
    "%%time\n",
    "model_RandomForest_ciro_bw, RandomForest_ciro_bw, df_train_RandomForest_ciro_bw, df_teste_RandomForest_ciro_bw = \\\n",
    "train_model_bw(RandomForestClassifier(), df_ciro_train, 100)\n",
    "model_RandomForest_ciro_bw = model_RandomForest_ciro_bw.fit(Bag_of_words_teste(df_train_RandomForest_ciro_bw, RandomForest_ciro_bw).toarray(), df_train_RandomForest_ciro_bw['Sentimento'].str.replace('p','1').replace('x','0').replace('n','-1').astype(int))\n",
    "\n",
    "df_ciro = AnaliseSentimentos_bw(df_ciro, RandomForest_ciro_bw,model_RandomForest_ciro_bw, 'predict_bw_RandomForest')\n"
   ]
  },
  {
   "cell_type": "markdown",
   "id": "682ac138",
   "metadata": {},
   "source": [
    "### Ciro - Random Forest - tfidf"
   ]
  },
  {
   "cell_type": "code",
   "execution_count": 51,
   "id": "08ec4371",
   "metadata": {},
   "outputs": [
    {
     "name": "stdout",
     "output_type": "stream",
     "text": [
      "accuracy:\n",
      "0.4502664298401421\n",
      "precision:\n",
      "0.3365872382141816\n",
      "recall:\n",
      "0.5727499314003476\n",
      "f1:\n",
      "0.21360171040477946\n",
      "matrix_confusion:\n",
      "[[   1    0    1]\n",
      " [   4   20    2]\n",
      " [1764 1943 3021]]\n",
      "0.3933013274648626\n",
      "1765\n",
      "(array([-1,  0,  1]), array([141856, 181433, 174777], dtype=int64))\n",
      "Wall time: 1min 55s\n"
     ]
    }
   ],
   "source": [
    "%%time\n",
    "model_RandomForest_ciro_tfidf, RandomForest_ciro_tfidf, df_train_RandomForest_ciro_tfidf, df_teste_RandomForest_ciro_tfidf = \\\n",
    "train_model_tfidf(RandomForestClassifier(), df_ciro_train, 100)\n",
    "model_RandomForest_ciro_tfidf = model_RandomForest_ciro_tfidf.fit(tfidf_teste(df_train_RandomForest_ciro_tfidf, RandomForest_ciro_tfidf).toarray(), df_train_RandomForest_ciro_tfidf['Sentimento'].str.replace('p','1').replace('x','0').replace('n','-1').astype(int))\n",
    "\n",
    "df_ciro = AnaliseSentimentos_tfidf(df_ciro, RandomForest_ciro_tfidf,model_RandomForest_ciro_tfidf, 'predict_tfidf_RandomForest')\n"
   ]
  },
  {
   "cell_type": "markdown",
   "id": "a15fd085",
   "metadata": {},
   "source": [
    "### Ciro - SVM - bw"
   ]
  },
  {
   "cell_type": "code",
   "execution_count": 52,
   "id": "c67acaa5",
   "metadata": {},
   "outputs": [
    {
     "name": "stdout",
     "output_type": "stream",
     "text": [
      "accuracy:\n",
      "0.4012729425695678\n",
      "precision:\n",
      "0.33640447400230605\n",
      "recall:\n",
      "0.6718840513430288\n",
      "f1:\n",
      "0.19751287595852893\n",
      "matrix_confusion:\n",
      "[[   2    0    0]\n",
      " [   6   16    4]\n",
      " [2431 1604 2693]]\n",
      "0.435422421383787\n",
      "1863\n",
      "(array([-1,  0,  1]), array([163916, 160173, 173977], dtype=int64))\n",
      "Wall time: 49.5 s\n"
     ]
    }
   ],
   "source": [
    "%%time\n",
    "model_svc_ciro_bw, svc_ciro_bw, df_train_svc_ciro_bw, df_teste_svc_ciro_bw = \\\n",
    "train_model_bw(LinearSVC(), df_ciro_train, 100)\n",
    "model_svc_ciro_bw = model_svc_ciro_bw.fit(Bag_of_words_teste(df_train_svc_ciro_bw, svc_ciro_bw).toarray(), df_train_svc_ciro_bw['Sentimento'].str.replace('p','1').replace('x','0').replace('n','-1').astype(int))\n",
    "\n",
    "df_ciro = AnaliseSentimentos_bw(df_ciro, svc_ciro_bw,model_svc_ciro_bw, 'predict_bw_SVM')"
   ]
  },
  {
   "cell_type": "markdown",
   "id": "9e0fa02e",
   "metadata": {},
   "source": [
    "### Ciro - SVM - tfidf"
   ]
  },
  {
   "cell_type": "code",
   "execution_count": 53,
   "id": "8c6ce0c5",
   "metadata": {},
   "outputs": [
    {
     "name": "stdout",
     "output_type": "stream",
     "text": [
      "accuracy:\n",
      "0.5011841326228538\n",
      "precision:\n",
      "0.335487488400968\n",
      "recall:\n",
      "0.6542425073935182\n",
      "f1:\n",
      "0.22836595718944072\n",
      "matrix_confusion:\n",
      "[[   2    0    0]\n",
      " [   5   12    9]\n",
      " [1880 1476 3372]]\n",
      "0.4298200214016952\n",
      "1880\n",
      "(array([-1,  0,  1]), array([149420, 178749, 169897], dtype=int64))\n",
      "Wall time: 47.1 s\n"
     ]
    }
   ],
   "source": [
    "%%time\n",
    "model_svc_ciro_tfidf, svc_ciro_tfidf, df_train_svc_ciro_tfidf, df_teste_svc_ciro_tfidf = \\\n",
    "train_model_tfidf(LinearSVC(), df_ciro_train, 100)\n",
    "model_svc_ciro_tfidf = model_svc_ciro_tfidf.fit(tfidf_teste(df_train_svc_ciro_tfidf, svc_ciro_tfidf).toarray(), df_train_svc_ciro_tfidf['Sentimento'].str.replace('p','1').replace('x','0').replace('n','-1').astype(int))\n",
    "\n",
    "df_ciro = AnaliseSentimentos_tfidf(df_ciro, svc_ciro_tfidf,model_svc_ciro_tfidf, 'predict_tfidf_SVM')"
   ]
  },
  {
   "cell_type": "markdown",
   "id": "285e38f4",
   "metadata": {},
   "source": [
    "### Ciro - MLP - bw"
   ]
  },
  {
   "cell_type": "code",
   "execution_count": 54,
   "id": "6daba2f4",
   "metadata": {},
   "outputs": [
    {
     "name": "stdout",
     "output_type": "stream",
     "text": [
      "accuracy:\n",
      "0.4628478389579633\n",
      "precision:\n",
      "0.33575069433301236\n",
      "recall:\n",
      "0.4875644074514467\n",
      "f1:\n",
      "0.21659080409522946\n",
      "matrix_confusion:\n",
      "[[   1    0    1]\n",
      " [   9   13    4]\n",
      " [2076 1539 3113]]\n",
      "0.4542035830540992\n",
      "1771\n",
      "(array([-1,  0,  1]), array([137573, 143982, 216511], dtype=int64))\n",
      "Wall time: 4min 16s\n"
     ]
    }
   ],
   "source": [
    "%%time\n",
    "model_mlp_ciro_bw, mlp_ciro_bw, df_train_mlp_ciro_bw, df_teste_mlp_ciro_bw = \\\n",
    "train_model_bw(MLPClassifier(max_iter=400), df_ciro_train, 100)\n",
    "model_mlp_ciro_bw = model_mlp_ciro_bw.fit(Bag_of_words_teste(df_train_mlp_ciro_bw, mlp_ciro_bw).toarray(), df_train_mlp_ciro_bw['Sentimento'].str.replace('p','1').replace('x','0').replace('n','-1').astype(int))\n",
    "\n",
    "df_ciro = AnaliseSentimentos_bw(df_ciro, mlp_ciro_bw,model_mlp_ciro_bw, 'predict_bw_MLP')"
   ]
  },
  {
   "cell_type": "markdown",
   "id": "90c6f382",
   "metadata": {},
   "source": [
    "### Ciro - MLP - tfidf"
   ]
  },
  {
   "cell_type": "code",
   "execution_count": 55,
   "id": "8a461d98",
   "metadata": {},
   "outputs": [
    {
     "name": "stdout",
     "output_type": "stream",
     "text": [
      "accuracy:\n",
      "0.48134991119005327\n",
      "precision:\n",
      "0.3366889346941444\n",
      "recall:\n",
      "0.7242293972377206\n",
      "f1:\n",
      "0.2240360362261498\n",
      "matrix_confusion:\n",
      "[[   2    0    0]\n",
      " [   2   18    6]\n",
      " [1854 1642 3232]]\n",
      "0.44157606983701697\n",
      "1854\n",
      "(array([-1,  0,  1]), array([143289, 165278, 189499], dtype=int64))\n",
      "Wall time: 4min 51s\n"
     ]
    }
   ],
   "source": [
    "%%time\n",
    "model_mlp_ciro_tfidf, mlp_ciro_tfidf, df_train_mlp_ciro_tfidf, df_teste_mlp_ciro_tfidf = \\\n",
    "train_model_tfidf(MLPClassifier(max_iter=400), df_ciro_train, 100)\n",
    "model_mlp_ciro_tfidf = model_mlp_ciro_tfidf.fit(Bag_of_words_teste(df_train_mlp_ciro_tfidf, mlp_ciro_tfidf).toarray(), df_train_mlp_ciro_tfidf['Sentimento'].str.replace('p','1').replace('x','0').replace('n','-1').astype(int))\n",
    "\n",
    "df_ciro = AnaliseSentimentos_tfidf(df_ciro, mlp_ciro_tfidf,model_mlp_ciro_tfidf, 'predict_tfidf_MLP')"
   ]
  },
  {
   "cell_type": "markdown",
   "id": "d8d9c068",
   "metadata": {},
   "source": [
    "### Ciro - KNN - bw"
   ]
  },
  {
   "cell_type": "code",
   "execution_count": 56,
   "id": "d4e94485",
   "metadata": {},
   "outputs": [
    {
     "name": "stdout",
     "output_type": "stream",
     "text": [
      "accuracy:\n",
      "0.06867969212551805\n",
      "precision:\n",
      "0.33504988735114255\n",
      "recall:\n",
      "0.2273240037806031\n",
      "f1:\n",
      "0.04502483304576033\n",
      "matrix_confusion:\n",
      "[[   0    2    0]\n",
      " [  10   16    0]\n",
      " [3191 3089  448]]\n",
      "0.41747804763194934\n",
      "1471\n",
      "(array([-1,  0,  1]), array([110245,  36176, 351645], dtype=int64))\n",
      "Wall time: 1min 47s\n"
     ]
    }
   ],
   "source": [
    "%%time\n",
    "model_knn_ciro_bw, knn_ciro_bw, df_train_knn_ciro_bw, df_teste_knn_ciro_bw = \\\n",
    "train_model_bw(KNeighborsClassifier(), df_ciro_train, 100)\n",
    "model_knn_ciro_bw = model_knn_ciro_bw.fit(Bag_of_words_teste(df_train_knn_ciro_bw, knn_ciro_bw).toarray(), df_train_knn_ciro_bw['Sentimento'].str.replace('p','1').replace('x','0').replace('n','-1').astype(int))\n",
    "\n",
    "df_ciro = AnaliseSentimentos_bw(df_ciro, knn_ciro_bw,model_knn_ciro_bw, 'predict_bw_KNN')"
   ]
  },
  {
   "cell_type": "markdown",
   "id": "fa2e1997",
   "metadata": {},
   "source": [
    "### Ciro - KNN - tfidf"
   ]
  },
  {
   "cell_type": "code",
   "execution_count": 57,
   "id": "045616f5",
   "metadata": {},
   "outputs": [
    {
     "name": "stdout",
     "output_type": "stream",
     "text": [
      "accuracy:\n",
      "0.436056838365897\n",
      "precision:\n",
      "0.33653341785321755\n",
      "recall:\n",
      "0.6707559681697614\n",
      "f1:\n",
      "0.20990331544341878\n",
      "matrix_confusion:\n",
      "[[   2    0    0]\n",
      " [   4   15    7]\n",
      " [2472 1327 2929]]\n",
      "0.41331238495807365\n",
      "2472\n",
      "(array([-1,  0,  1]), array([192657, 148566, 156843], dtype=int64))\n",
      "Wall time: 2min 3s\n"
     ]
    }
   ],
   "source": [
    "%%time\n",
    "model_knn_ciro_tfidf, knn_ciro_tfidf, df_train_knn_ciro_tfidf, df_teste_knn_ciro_tfidf = \\\n",
    "train_model_tfidf(KNeighborsClassifier(), df_ciro_train, 100)\n",
    "model_knn_ciro_tfidf = model_knn_ciro_tfidf.fit(Bag_of_words_teste(df_train_knn_ciro_tfidf, knn_ciro_tfidf).toarray(), df_train_knn_ciro_tfidf['Sentimento'].str.replace('p','1').replace('x','0').replace('n','-1').astype(int))\n",
    "\n",
    "df_ciro = AnaliseSentimentos_tfidf(df_ciro, knn_ciro_tfidf,model_knn_ciro_tfidf, 'predict_tfidf_KNN')"
   ]
  },
  {
   "cell_type": "code",
   "execution_count": 58,
   "id": "2f967f97",
   "metadata": {},
   "outputs": [],
   "source": [
    "df_bolsonaro.to_excel('bolsonaro_predict4.xlsx')\n",
    "df_lula.to_excel('lula_predict4.xlsx')\n",
    "df_simone.to_excel('simone_predict4.xlsx')\n",
    "df_ciro.to_excel('ciro_predict4.xlsx')"
   ]
  },
  {
   "cell_type": "code",
   "execution_count": 59,
   "id": "58714574",
   "metadata": {},
   "outputs": [],
   "source": [
    "def VotacaoPredict(df):\n",
    "    for i in df.index:\n",
    "        pos=0\n",
    "        neu=0\n",
    "        neg=0\n",
    "        for j in ['predict_tfidf_MLP','predict_bw_MLP',\n",
    "                  'predict_tfidf_SVM','predict_bw_SVM',\n",
    "                 'predict_tfidf_RandomForest','predict_bw_RandomForest',\n",
    "                 'predict_tfidf_NaiveBayes','predict_bw_NaiveBayes',\n",
    "                 'predict_tfidf_ArvoreDeDecisao','predict_bw_ArvoreDeDecisao',\n",
    "                 'predict_tfidf_KNN', 'predict_bw_KNN']:\n",
    "            if (df.loc[i,j]==1):\n",
    "                pos+=1\n",
    "            elif (df.loc[i,j]==0):\n",
    "                neu+=1    \n",
    "            else:\n",
    "                neg+=1\n",
    "        \n",
    "        if((neu>=neg)& (neu>=pos)):\n",
    "            df.loc[i,'VotacaoPredict_norm'] = 0\n",
    "        elif((neg>=pos)& (neg>=neu)):\n",
    "            df.loc[i,'VotacaoPredict_norm'] = -1\n",
    "        else:\n",
    "            df.loc[i,'VotacaoPredict_norm'] = 1     \n",
    "    #print(df['VotacaoPredict_ajust'].value_counts())\n",
    "    print(df['VotacaoPredict_norm'].value_counts())        \n",
    "    return df"
   ]
  },
  {
   "cell_type": "code",
   "execution_count": 60,
   "id": "133c0e8e",
   "metadata": {},
   "outputs": [
    {
     "name": "stdout",
     "output_type": "stream",
     "text": [
      " 1.0    457670\n",
      " 0.0    385905\n",
      "-1.0    102863\n",
      "Name: VotacaoPredict_norm, dtype: int64\n",
      " 0.0    568775\n",
      " 1.0    291736\n",
      "-1.0     71219\n",
      "Name: VotacaoPredict_norm, dtype: int64\n",
      " 0.0    61299\n",
      "-1.0    41702\n",
      " 1.0    28161\n",
      "Name: VotacaoPredict_norm, dtype: int64\n",
      " 1.0    183238\n",
      " 0.0    172200\n",
      "-1.0    142628\n",
      "Name: VotacaoPredict_norm, dtype: int64\n"
     ]
    }
   ],
   "source": [
    "df_bolsonaro_predict2 = VotacaoPredict(df_bolsonaro)\n",
    "df_lula_predict2 = VotacaoPredict(df_lula)\n",
    "df_simone_predict2 = VotacaoPredict(df_simone)\n",
    "df_ciro_predict2 = VotacaoPredict(df_ciro)"
   ]
  },
  {
   "cell_type": "code",
   "execution_count": 61,
   "id": "756de764",
   "metadata": {},
   "outputs": [],
   "source": [
    "df_bolsonaro_predict2.to_excel('bolsonaro_resultado_equilibrio2.xlsx')\n",
    "df_lula_predict2.to_excel('lula_resultado_equilibrio2.xlsx')\n",
    "df_simone_predict2.to_excel('simone_resultado_equilibrio2.xlsx')\n",
    "df_ciro_predict2.to_excel('ciro_resultado_equilibrio2.xlsx')"
   ]
  }
 ],
 "metadata": {
  "kernelspec": {
   "display_name": "Python 3 (ipykernel)",
   "language": "python",
   "name": "python3"
  },
  "language_info": {
   "codemirror_mode": {
    "name": "ipython",
    "version": 3
   },
   "file_extension": ".py",
   "mimetype": "text/x-python",
   "name": "python",
   "nbconvert_exporter": "python",
   "pygments_lexer": "ipython3",
   "version": "3.9.7"
  }
 },
 "nbformat": 4,
 "nbformat_minor": 5
}
